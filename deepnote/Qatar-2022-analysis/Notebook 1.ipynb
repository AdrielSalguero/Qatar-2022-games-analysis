{
  "cells": [
    {
      "cell_type": "code",
      "source": "pip install -r requirements.txt\n",
      "metadata": {
        "source_hash": "ed199b69",
        "execution_start": 1694887472989,
        "execution_millis": 7502,
        "deepnote_to_be_reexecuted": false,
        "cell_id": "22b05a113ff24677b808ed613e8e5a91",
        "deepnote_cell_type": "code"
      },
      "outputs": [
        {
          "name": "stdout",
          "text": "Collecting kaggle\n  Downloading kaggle-1.5.16.tar.gz (83 kB)\n\u001b[2K     \u001b[90m━━━━━━━━━━━━━━━━━━━━━━━━━━━━━━━━━━━━━━━━\u001b[0m \u001b[32m83.6/83.6 kB\u001b[0m \u001b[31m19.7 MB/s\u001b[0m eta \u001b[36m0:00:00\u001b[0m\n\u001b[?25h  Preparing metadata (setup.py) ... \u001b[?25ldone\n\u001b[?25hCollecting bokeh\n  Downloading bokeh-3.2.2-py3-none-any.whl (7.8 MB)\n\u001b[2K     \u001b[90m━━━━━━━━━━━━━━━━━━━━━━━━━━━━━━━━━━━━━━━━\u001b[0m \u001b[32m7.8/7.8 MB\u001b[0m \u001b[31m92.8 MB/s\u001b[0m eta \u001b[36m0:00:00\u001b[0m\n\u001b[?25hRequirement already satisfied: six>=1.10 in /shared-libs/python3.9/py-core/lib/python3.9/site-packages (from kaggle->-r requirements.txt (line 1)) (1.16.0)\nRequirement already satisfied: certifi in /shared-libs/python3.9/py/lib/python3.9/site-packages (from kaggle->-r requirements.txt (line 1)) (2022.9.24)\nRequirement already satisfied: python-dateutil in /shared-libs/python3.9/py-core/lib/python3.9/site-packages (from kaggle->-r requirements.txt (line 1)) (2.8.2)\nRequirement already satisfied: requests in /shared-libs/python3.9/py/lib/python3.9/site-packages (from kaggle->-r requirements.txt (line 1)) (2.28.1)\nRequirement already satisfied: tqdm in /shared-libs/python3.9/py/lib/python3.9/site-packages (from kaggle->-r requirements.txt (line 1)) (4.64.1)\nRequirement already satisfied: python-slugify in /shared-libs/python3.9/py/lib/python3.9/site-packages (from kaggle->-r requirements.txt (line 1)) (6.1.2)\nRequirement already satisfied: urllib3 in /shared-libs/python3.9/py/lib/python3.9/site-packages (from kaggle->-r requirements.txt (line 1)) (1.26.12)\nRequirement already satisfied: bleach in /shared-libs/python3.9/py-core/lib/python3.9/site-packages (from kaggle->-r requirements.txt (line 1)) (5.0.1)\nRequirement already satisfied: contourpy>=1 in /shared-libs/python3.9/py/lib/python3.9/site-packages (from bokeh->-r requirements.txt (line 2)) (1.0.5)\nCollecting xyzservices>=2021.09.1\n  Downloading xyzservices-2023.7.0-py3-none-any.whl (56 kB)\n\u001b[2K     \u001b[90m━━━━━━━━━━━━━━━━━━━━━━━━━━━━━━━━━━━━━━━━\u001b[0m \u001b[32m56.7/56.7 kB\u001b[0m \u001b[31m17.9 MB/s\u001b[0m eta \u001b[36m0:00:00\u001b[0m\n\u001b[?25hRequirement already satisfied: tornado>=5.1 in /shared-libs/python3.9/py-core/lib/python3.9/site-packages (from bokeh->-r requirements.txt (line 2)) (6.2)\nRequirement already satisfied: packaging>=16.8 in /shared-libs/python3.9/py-core/lib/python3.9/site-packages (from bokeh->-r requirements.txt (line 2)) (21.3)\nRequirement already satisfied: pillow>=7.1.0 in /shared-libs/python3.9/py/lib/python3.9/site-packages (from bokeh->-r requirements.txt (line 2)) (9.2.0)\nCollecting PyYAML>=3.10\n  Downloading PyYAML-6.0.1-cp39-cp39-manylinux_2_17_x86_64.manylinux2014_x86_64.whl (738 kB)\n\u001b[2K     \u001b[90m━━━━━━━━━━━━━━━━━━━━━━━━━━━━━━━━━━━━━━\u001b[0m \u001b[32m738.9/738.9 kB\u001b[0m \u001b[31m69.7 MB/s\u001b[0m eta \u001b[36m0:00:00\u001b[0m\n\u001b[?25hRequirement already satisfied: Jinja2>=2.9 in /shared-libs/python3.9/py-core/lib/python3.9/site-packages (from bokeh->-r requirements.txt (line 2)) (3.1.2)\nRequirement already satisfied: pandas>=1.2 in /shared-libs/python3.9/py/lib/python3.9/site-packages (from bokeh->-r requirements.txt (line 2)) (1.2.5)\nRequirement already satisfied: numpy>=1.16 in /shared-libs/python3.9/py/lib/python3.9/site-packages (from bokeh->-r requirements.txt (line 2)) (1.23.4)\nRequirement already satisfied: MarkupSafe>=2.0 in /shared-libs/python3.9/py-core/lib/python3.9/site-packages (from Jinja2>=2.9->bokeh->-r requirements.txt (line 2)) (2.0.0)\nRequirement already satisfied: pyparsing!=3.0.5,>=2.0.2 in /shared-libs/python3.9/py-core/lib/python3.9/site-packages (from packaging>=16.8->bokeh->-r requirements.txt (line 2)) (3.0.9)\nRequirement already satisfied: pytz>=2017.3 in /shared-libs/python3.9/py/lib/python3.9/site-packages (from pandas>=1.2->bokeh->-r requirements.txt (line 2)) (2022.5)\nRequirement already satisfied: webencodings in /shared-libs/python3.9/py-core/lib/python3.9/site-packages (from bleach->kaggle->-r requirements.txt (line 1)) (0.5.1)\nRequirement already satisfied: text-unidecode>=1.3 in /shared-libs/python3.9/py/lib/python3.9/site-packages (from python-slugify->kaggle->-r requirements.txt (line 1)) (1.3)\nRequirement already satisfied: idna<4,>=2.5 in /shared-libs/python3.9/py-core/lib/python3.9/site-packages (from requests->kaggle->-r requirements.txt (line 1)) (3.4)\nRequirement already satisfied: charset-normalizer<3,>=2 in /shared-libs/python3.9/py-core/lib/python3.9/site-packages (from requests->kaggle->-r requirements.txt (line 1)) (2.1.1)\nBuilding wheels for collected packages: kaggle\n  Building wheel for kaggle (setup.py) ... \u001b[?25ldone\n\u001b[?25h  Created wheel for kaggle: filename=kaggle-1.5.16-py3-none-any.whl size=110701 sha256=4968fd728a29a241789c33c7ca6bd6916b3415dc31a23d57cdb9ffd38979956b\n  Stored in directory: /root/.cache/pip/wheels/d2/ed/a5/da3a0cfb13373d1ace41cafa4f2467d858c55c52473ba72799\nSuccessfully built kaggle\nInstalling collected packages: xyzservices, PyYAML, kaggle, bokeh\nSuccessfully installed PyYAML-6.0.1 bokeh-3.2.2 kaggle-1.5.16 xyzservices-2023.7.0\n\u001b[33mWARNING: Running pip as the 'root' user can result in broken permissions and conflicting behaviour with the system package manager. It is recommended to use a virtual environment instead: https://pip.pypa.io/warnings/venv\u001b[0m\u001b[33m\n\u001b[0m\n\u001b[1m[\u001b[0m\u001b[34;49mnotice\u001b[0m\u001b[1;39;49m]\u001b[0m\u001b[39;49m A new release of pip is available: \u001b[0m\u001b[31;49m23.0.1\u001b[0m\u001b[39;49m -> \u001b[0m\u001b[32;49m23.2.1\u001b[0m\n\u001b[1m[\u001b[0m\u001b[34;49mnotice\u001b[0m\u001b[1;39;49m]\u001b[0m\u001b[39;49m To update, run: \u001b[0m\u001b[32;49mpython -m pip install --upgrade pip\u001b[0m\nNote: you may need to restart the kernel to use updated packages.\n",
          "output_type": "stream"
        }
      ],
      "execution_count": 1,
      "block_group": "4aa208687c3242e88c9649a7469383cb"
    },
    {
      "cell_type": "code",
      "source": "!kaggle datasets download -d die9origephit/fifa-world-cup-2022-complete-dataset --unzip",
      "metadata": {
        "source_hash": null,
        "execution_start": 1694883477005,
        "execution_millis": 1645,
        "deepnote_to_be_reexecuted": false,
        "cell_id": "060e9ef83c404687b17e2e8fb537840e",
        "deepnote_cell_type": "code"
      },
      "outputs": [
        {
          "name": "stdout",
          "text": "Downloading fifa-world-cup-2022-complete-dataset.zip to /work\n  0%|                                               | 0.00/7.42k [00:00<?, ?B/s]\n100%|██████████████████████████████████████| 7.42k/7.42k [00:00<00:00, 1.74MB/s]\n",
          "output_type": "stream"
        }
      ],
      "execution_count": null,
      "block_group": "d687af960f884a4eaa422f9b2238eb9d"
    },
    {
      "cell_type": "code",
      "source": "import pandas as pd\nimport matplotlib as plt\nimport seaborn as sns\nimport numpy as np\nimport bokeh\npd.set_option('display.max_columns', None)\npd.set_option('display.max_rows', None)",
      "metadata": {
        "source_hash": null,
        "execution_start": 1694883478651,
        "execution_millis": 2353,
        "deepnote_to_be_reexecuted": false,
        "cell_id": "e6e1d5a3013c40f6a8b68c8e5ddf5c59",
        "deepnote_cell_type": "code"
      },
      "outputs": [
        {
          "output_type": "error",
          "ename": "NameError",
          "evalue": "name 'pd' is not defined",
          "traceback": [
            "\u001b[0;31m---------------------------------------------------------------------------\u001b[0m",
            "\u001b[0;31mNameError\u001b[0m                                 Traceback (most recent call last)",
            "Cell \u001b[0;32mIn [1], line 1\u001b[0m\n\u001b[0;32m----> 1\u001b[0m qatar_df \u001b[38;5;241m=\u001b[39m \u001b[43mpd\u001b[49m\u001b[38;5;241m.\u001b[39mread_csv(\u001b[38;5;124m'\u001b[39m\u001b[38;5;124m/work/fifa-world-cup-2022-complete-dataset\u001b[39m\u001b[38;5;124m'\u001b[39m)\n",
            "\u001b[0;31mNameError\u001b[0m: name 'pd' is not defined"
          ]
        }
      ],
      "execution_count": null,
      "block_group": "21b3c11509a246f390beb1249afac0d9"
    },
    {
      "cell_type": "code",
      "source": "qatar_origin_df = pd.read_csv('/work/Fifa_world_cup_matches.csv')\n\nqatar_origin_df.head(10)",
      "metadata": {
        "source_hash": null,
        "execution_start": 1694883481007,
        "execution_millis": 736,
        "deepnote_table_state": {
          "sortBy": [
            {
              "id": "category",
              "type": "asc"
            }
          ],
          "filters": [],
          "pageSize": 50,
          "pageIndex": 0
        },
        "deepnote_table_loading": false,
        "deepnote_to_be_reexecuted": false,
        "cell_id": "425b6f982e3e48b18d69e57e03280746",
        "deepnote_cell_type": "code"
      },
      "outputs": [
        {
          "output_type": "execute_result",
          "execution_count": 4,
          "data": {
            "application/vnd.deepnote.dataframe.v3+json": {
              "column_count": 88,
              "row_count": 10,
              "columns": [
                {
                  "name": "team1",
                  "dtype": "object",
                  "stats": {
                    "unique_count": 10,
                    "nan_count": 0,
                    "categories": [
                      {
                        "name": "QATAR",
                        "count": 1
                      },
                      {
                        "name": "SENEGAL",
                        "count": 1
                      },
                      {
                        "name": "8 others",
                        "count": 8
                      }
                    ]
                  }
                },
                {
                  "name": "team2",
                  "dtype": "object",
                  "stats": {
                    "unique_count": 10,
                    "nan_count": 0,
                    "categories": [
                      {
                        "name": "ECUADOR",
                        "count": 1
                      },
                      {
                        "name": "NETHERLANDS",
                        "count": 1
                      },
                      {
                        "name": "8 others",
                        "count": 8
                      }
                    ]
                  }
                },
                {
                  "name": "possession team1",
                  "dtype": "object",
                  "stats": {
                    "unique_count": 10,
                    "nan_count": 0,
                    "categories": [
                      {
                        "name": "42%",
                        "count": 1
                      },
                      {
                        "name": "44%",
                        "count": 1
                      },
                      {
                        "name": "8 others",
                        "count": 8
                      }
                    ]
                  }
                },
                {
                  "name": "possession team2",
                  "dtype": "object",
                  "stats": {
                    "unique_count": 10,
                    "nan_count": 0,
                    "categories": [
                      {
                        "name": "50%",
                        "count": 1
                      },
                      {
                        "name": "45%",
                        "count": 1
                      },
                      {
                        "name": "8 others",
                        "count": 8
                      }
                    ]
                  }
                },
                {
                  "name": "possession in contest",
                  "dtype": "object",
                  "stats": {
                    "unique_count": 7,
                    "nan_count": 0,
                    "categories": [
                      {
                        "name": "12%",
                        "count": 3
                      },
                      {
                        "name": "9%",
                        "count": 2
                      },
                      {
                        "name": "5 others",
                        "count": 5
                      }
                    ]
                  }
                },
                {
                  "name": "number of goals team1",
                  "dtype": "int64",
                  "stats": {
                    "unique_count": 4,
                    "nan_count": 0,
                    "min": "0",
                    "max": "6",
                    "histogram": [
                      {
                        "bin_start": 0,
                        "bin_end": 0.6,
                        "count": 5
                      },
                      {
                        "bin_start": 0.6,
                        "bin_end": 1.2,
                        "count": 3
                      },
                      {
                        "bin_start": 1.2,
                        "bin_end": 1.7999999999999998,
                        "count": 0
                      },
                      {
                        "bin_start": 1.7999999999999998,
                        "bin_end": 2.4,
                        "count": 0
                      },
                      {
                        "bin_start": 2.4,
                        "bin_end": 3,
                        "count": 0
                      },
                      {
                        "bin_start": 3,
                        "bin_end": 3.5999999999999996,
                        "count": 0
                      },
                      {
                        "bin_start": 3.5999999999999996,
                        "bin_end": 4.2,
                        "count": 1
                      },
                      {
                        "bin_start": 4.2,
                        "bin_end": 4.8,
                        "count": 0
                      },
                      {
                        "bin_start": 4.8,
                        "bin_end": 5.3999999999999995,
                        "count": 0
                      },
                      {
                        "bin_start": 5.3999999999999995,
                        "bin_end": 6,
                        "count": 1
                      }
                    ]
                  }
                },
                {
                  "name": "number of goals team2",
                  "dtype": "int64",
                  "stats": {
                    "unique_count": 3,
                    "nan_count": 0,
                    "min": "0",
                    "max": "2",
                    "histogram": [
                      {
                        "bin_start": 0,
                        "bin_end": 0.2,
                        "count": 3
                      },
                      {
                        "bin_start": 0.2,
                        "bin_end": 0.4,
                        "count": 0
                      },
                      {
                        "bin_start": 0.4,
                        "bin_end": 0.6000000000000001,
                        "count": 0
                      },
                      {
                        "bin_start": 0.6000000000000001,
                        "bin_end": 0.8,
                        "count": 0
                      },
                      {
                        "bin_start": 0.8,
                        "bin_end": 1,
                        "count": 0
                      },
                      {
                        "bin_start": 1,
                        "bin_end": 1.2000000000000002,
                        "count": 2
                      },
                      {
                        "bin_start": 1.2000000000000002,
                        "bin_end": 1.4000000000000001,
                        "count": 0
                      },
                      {
                        "bin_start": 1.4000000000000001,
                        "bin_end": 1.6,
                        "count": 0
                      },
                      {
                        "bin_start": 1.6,
                        "bin_end": 1.8,
                        "count": 0
                      },
                      {
                        "bin_start": 1.8,
                        "bin_end": 2,
                        "count": 5
                      }
                    ]
                  }
                },
                {
                  "name": "date",
                  "dtype": "object",
                  "stats": {
                    "unique_count": 4,
                    "nan_count": 0,
                    "categories": [
                      {
                        "name": "22 NOV 2022",
                        "count": 4
                      },
                      {
                        "name": "21 NOV 2022",
                        "count": 3
                      },
                      {
                        "name": "2 others",
                        "count": 3
                      }
                    ]
                  }
                },
                {
                  "name": "hour",
                  "dtype": "object",
                  "stats": {
                    "unique_count": 4,
                    "nan_count": 0,
                    "categories": [
                      {
                        "name": "17 : 00",
                        "count": 3
                      },
                      {
                        "name": "14 : 00",
                        "count": 3
                      },
                      {
                        "name": "2 others",
                        "count": 4
                      }
                    ]
                  }
                },
                {
                  "name": "category",
                  "dtype": "object",
                  "stats": {
                    "unique_count": 6,
                    "nan_count": 0,
                    "categories": [
                      {
                        "name": "Group A",
                        "count": 2
                      },
                      {
                        "name": "Group B",
                        "count": 2
                      },
                      {
                        "name": "4 others",
                        "count": 6
                      }
                    ]
                  }
                },
                {
                  "name": "total attempts team1",
                  "dtype": "int64",
                  "stats": {
                    "unique_count": 8,
                    "nan_count": 0,
                    "min": "5",
                    "max": "25",
                    "histogram": [
                      {
                        "bin_start": 5,
                        "bin_end": 7,
                        "count": 2
                      },
                      {
                        "bin_start": 7,
                        "bin_end": 9,
                        "count": 1
                      },
                      {
                        "bin_start": 9,
                        "bin_end": 11,
                        "count": 0
                      },
                      {
                        "bin_start": 11,
                        "bin_end": 13,
                        "count": 1
                      },
                      {
                        "bin_start": 13,
                        "bin_end": 15,
                        "count": 4
                      },
                      {
                        "bin_start": 15,
                        "bin_end": 17,
                        "count": 0
                      },
                      {
                        "bin_start": 17,
                        "bin_end": 19,
                        "count": 0
                      },
                      {
                        "bin_start": 19,
                        "bin_end": 21,
                        "count": 0
                      },
                      {
                        "bin_start": 21,
                        "bin_end": 23,
                        "count": 1
                      },
                      {
                        "bin_start": 23,
                        "bin_end": 25,
                        "count": 1
                      }
                    ]
                  }
                },
                {
                  "name": "total attempts team2",
                  "dtype": "int64",
                  "stats": {
                    "unique_count": 8,
                    "nan_count": 0,
                    "min": "3",
                    "max": "11",
                    "histogram": [
                      {
                        "bin_start": 3,
                        "bin_end": 3.8,
                        "count": 1
                      },
                      {
                        "bin_start": 3.8,
                        "bin_end": 4.6,
                        "count": 1
                      },
                      {
                        "bin_start": 4.6,
                        "bin_end": 5.4,
                        "count": 0
                      },
                      {
                        "bin_start": 5.4,
                        "bin_end": 6.2,
                        "count": 2
                      },
                      {
                        "bin_start": 6.2,
                        "bin_end": 7,
                        "count": 0
                      },
                      {
                        "bin_start": 7,
                        "bin_end": 7.800000000000001,
                        "count": 1
                      },
                      {
                        "bin_start": 7.800000000000001,
                        "bin_end": 8.600000000000001,
                        "count": 2
                      },
                      {
                        "bin_start": 8.600000000000001,
                        "bin_end": 9.4,
                        "count": 1
                      },
                      {
                        "bin_start": 9.4,
                        "bin_end": 10.2,
                        "count": 1
                      },
                      {
                        "bin_start": 10.2,
                        "bin_end": 11,
                        "count": 1
                      }
                    ]
                  }
                },
                {
                  "name": "conceded team1",
                  "dtype": "int64",
                  "stats": {
                    "unique_count": 3,
                    "nan_count": 0,
                    "min": "0",
                    "max": "2",
                    "histogram": [
                      {
                        "bin_start": 0,
                        "bin_end": 0.2,
                        "count": 3
                      },
                      {
                        "bin_start": 0.2,
                        "bin_end": 0.4,
                        "count": 0
                      },
                      {
                        "bin_start": 0.4,
                        "bin_end": 0.6000000000000001,
                        "count": 0
                      },
                      {
                        "bin_start": 0.6000000000000001,
                        "bin_end": 0.8,
                        "count": 0
                      },
                      {
                        "bin_start": 0.8,
                        "bin_end": 1,
                        "count": 0
                      },
                      {
                        "bin_start": 1,
                        "bin_end": 1.2000000000000002,
                        "count": 2
                      },
                      {
                        "bin_start": 1.2000000000000002,
                        "bin_end": 1.4000000000000001,
                        "count": 0
                      },
                      {
                        "bin_start": 1.4000000000000001,
                        "bin_end": 1.6,
                        "count": 0
                      },
                      {
                        "bin_start": 1.6,
                        "bin_end": 1.8,
                        "count": 0
                      },
                      {
                        "bin_start": 1.8,
                        "bin_end": 2,
                        "count": 5
                      }
                    ]
                  }
                },
                {
                  "name": "conceded team2",
                  "dtype": "int64",
                  "stats": {
                    "unique_count": 4,
                    "nan_count": 0,
                    "min": "0",
                    "max": "6",
                    "histogram": [
                      {
                        "bin_start": 0,
                        "bin_end": 0.6,
                        "count": 5
                      },
                      {
                        "bin_start": 0.6,
                        "bin_end": 1.2,
                        "count": 3
                      },
                      {
                        "bin_start": 1.2,
                        "bin_end": 1.7999999999999998,
                        "count": 0
                      },
                      {
                        "bin_start": 1.7999999999999998,
                        "bin_end": 2.4,
                        "count": 0
                      },
                      {
                        "bin_start": 2.4,
                        "bin_end": 3,
                        "count": 0
                      },
                      {
                        "bin_start": 3,
                        "bin_end": 3.5999999999999996,
                        "count": 0
                      },
                      {
                        "bin_start": 3.5999999999999996,
                        "bin_end": 4.2,
                        "count": 1
                      },
                      {
                        "bin_start": 4.2,
                        "bin_end": 4.8,
                        "count": 0
                      },
                      {
                        "bin_start": 4.8,
                        "bin_end": 5.3999999999999995,
                        "count": 0
                      },
                      {
                        "bin_start": 5.3999999999999995,
                        "bin_end": 6,
                        "count": 1
                      }
                    ]
                  }
                },
                {
                  "name": "goal inside the penalty area team1",
                  "dtype": "int64",
                  "stats": {
                    "unique_count": 4,
                    "nan_count": 0,
                    "min": "0",
                    "max": "6",
                    "histogram": [
                      {
                        "bin_start": 0,
                        "bin_end": 0.6,
                        "count": 5
                      },
                      {
                        "bin_start": 0.6,
                        "bin_end": 1.2,
                        "count": 3
                      },
                      {
                        "bin_start": 1.2,
                        "bin_end": 1.7999999999999998,
                        "count": 0
                      },
                      {
                        "bin_start": 1.7999999999999998,
                        "bin_end": 2.4,
                        "count": 0
                      },
                      {
                        "bin_start": 2.4,
                        "bin_end": 3,
                        "count": 0
                      },
                      {
                        "bin_start": 3,
                        "bin_end": 3.5999999999999996,
                        "count": 0
                      },
                      {
                        "bin_start": 3.5999999999999996,
                        "bin_end": 4.2,
                        "count": 1
                      },
                      {
                        "bin_start": 4.2,
                        "bin_end": 4.8,
                        "count": 0
                      },
                      {
                        "bin_start": 4.8,
                        "bin_end": 5.3999999999999995,
                        "count": 0
                      },
                      {
                        "bin_start": 5.3999999999999995,
                        "bin_end": 6,
                        "count": 1
                      }
                    ]
                  }
                },
                {
                  "name": "goal inside the penalty area team2",
                  "dtype": "int64",
                  "stats": {
                    "unique_count": 3,
                    "nan_count": 0,
                    "min": "0",
                    "max": "2",
                    "histogram": [
                      {
                        "bin_start": 0,
                        "bin_end": 0.2,
                        "count": 3
                      },
                      {
                        "bin_start": 0.2,
                        "bin_end": 0.4,
                        "count": 0
                      },
                      {
                        "bin_start": 0.4,
                        "bin_end": 0.6000000000000001,
                        "count": 0
                      },
                      {
                        "bin_start": 0.6000000000000001,
                        "bin_end": 0.8,
                        "count": 0
                      },
                      {
                        "bin_start": 0.8,
                        "bin_end": 1,
                        "count": 0
                      },
                      {
                        "bin_start": 1,
                        "bin_end": 1.2000000000000002,
                        "count": 2
                      },
                      {
                        "bin_start": 1.2000000000000002,
                        "bin_end": 1.4000000000000001,
                        "count": 0
                      },
                      {
                        "bin_start": 1.4000000000000001,
                        "bin_end": 1.6,
                        "count": 0
                      },
                      {
                        "bin_start": 1.6,
                        "bin_end": 1.8,
                        "count": 0
                      },
                      {
                        "bin_start": 1.8,
                        "bin_end": 2,
                        "count": 5
                      }
                    ]
                  }
                },
                {
                  "name": "goal outside the penalty area team1",
                  "dtype": "int64",
                  "stats": {
                    "unique_count": 1,
                    "nan_count": 0,
                    "min": "0",
                    "max": "0",
                    "histogram": [
                      {
                        "bin_start": -0.5,
                        "bin_end": -0.4,
                        "count": 0
                      },
                      {
                        "bin_start": -0.4,
                        "bin_end": -0.3,
                        "count": 0
                      },
                      {
                        "bin_start": -0.3,
                        "bin_end": -0.19999999999999996,
                        "count": 0
                      },
                      {
                        "bin_start": -0.19999999999999996,
                        "bin_end": -0.09999999999999998,
                        "count": 0
                      },
                      {
                        "bin_start": -0.09999999999999998,
                        "bin_end": 0,
                        "count": 0
                      },
                      {
                        "bin_start": 0,
                        "bin_end": 0.10000000000000009,
                        "count": 10
                      },
                      {
                        "bin_start": 0.10000000000000009,
                        "bin_end": 0.20000000000000007,
                        "count": 0
                      },
                      {
                        "bin_start": 0.20000000000000007,
                        "bin_end": 0.30000000000000004,
                        "count": 0
                      },
                      {
                        "bin_start": 0.30000000000000004,
                        "bin_end": 0.4,
                        "count": 0
                      },
                      {
                        "bin_start": 0.4,
                        "bin_end": 0.5,
                        "count": 0
                      }
                    ]
                  }
                },
                {
                  "name": "goal outside the penalty area team2",
                  "dtype": "int64",
                  "stats": {
                    "unique_count": 1,
                    "nan_count": 0,
                    "min": "0",
                    "max": "0",
                    "histogram": [
                      {
                        "bin_start": -0.5,
                        "bin_end": -0.4,
                        "count": 0
                      },
                      {
                        "bin_start": -0.4,
                        "bin_end": -0.3,
                        "count": 0
                      },
                      {
                        "bin_start": -0.3,
                        "bin_end": -0.19999999999999996,
                        "count": 0
                      },
                      {
                        "bin_start": -0.19999999999999996,
                        "bin_end": -0.09999999999999998,
                        "count": 0
                      },
                      {
                        "bin_start": -0.09999999999999998,
                        "bin_end": 0,
                        "count": 0
                      },
                      {
                        "bin_start": 0,
                        "bin_end": 0.10000000000000009,
                        "count": 10
                      },
                      {
                        "bin_start": 0.10000000000000009,
                        "bin_end": 0.20000000000000007,
                        "count": 0
                      },
                      {
                        "bin_start": 0.20000000000000007,
                        "bin_end": 0.30000000000000004,
                        "count": 0
                      },
                      {
                        "bin_start": 0.30000000000000004,
                        "bin_end": 0.4,
                        "count": 0
                      },
                      {
                        "bin_start": 0.4,
                        "bin_end": 0.5,
                        "count": 0
                      }
                    ]
                  }
                },
                {
                  "name": "assists team1",
                  "dtype": "int64",
                  "stats": {
                    "unique_count": 4,
                    "nan_count": 0,
                    "min": "0",
                    "max": "6",
                    "histogram": [
                      {
                        "bin_start": 0,
                        "bin_end": 0.6,
                        "count": 7
                      },
                      {
                        "bin_start": 0.6,
                        "bin_end": 1.2,
                        "count": 1
                      },
                      {
                        "bin_start": 1.2,
                        "bin_end": 1.7999999999999998,
                        "count": 0
                      },
                      {
                        "bin_start": 1.7999999999999998,
                        "bin_end": 2.4,
                        "count": 0
                      },
                      {
                        "bin_start": 2.4,
                        "bin_end": 3,
                        "count": 0
                      },
                      {
                        "bin_start": 3,
                        "bin_end": 3.5999999999999996,
                        "count": 0
                      },
                      {
                        "bin_start": 3.5999999999999996,
                        "bin_end": 4.2,
                        "count": 1
                      },
                      {
                        "bin_start": 4.2,
                        "bin_end": 4.8,
                        "count": 0
                      },
                      {
                        "bin_start": 4.8,
                        "bin_end": 5.3999999999999995,
                        "count": 0
                      },
                      {
                        "bin_start": 5.3999999999999995,
                        "bin_end": 6,
                        "count": 1
                      }
                    ]
                  }
                },
                {
                  "name": "assists team2",
                  "dtype": "int64",
                  "stats": {
                    "unique_count": 2,
                    "nan_count": 0,
                    "min": "0",
                    "max": "1",
                    "histogram": [
                      {
                        "bin_start": 0,
                        "bin_end": 0.1,
                        "count": 4
                      },
                      {
                        "bin_start": 0.1,
                        "bin_end": 0.2,
                        "count": 0
                      },
                      {
                        "bin_start": 0.2,
                        "bin_end": 0.30000000000000004,
                        "count": 0
                      },
                      {
                        "bin_start": 0.30000000000000004,
                        "bin_end": 0.4,
                        "count": 0
                      },
                      {
                        "bin_start": 0.4,
                        "bin_end": 0.5,
                        "count": 0
                      },
                      {
                        "bin_start": 0.5,
                        "bin_end": 0.6000000000000001,
                        "count": 0
                      },
                      {
                        "bin_start": 0.6000000000000001,
                        "bin_end": 0.7000000000000001,
                        "count": 0
                      },
                      {
                        "bin_start": 0.7000000000000001,
                        "bin_end": 0.8,
                        "count": 0
                      },
                      {
                        "bin_start": 0.8,
                        "bin_end": 0.9,
                        "count": 0
                      },
                      {
                        "bin_start": 0.9,
                        "bin_end": 1,
                        "count": 6
                      }
                    ]
                  }
                },
                {
                  "name": "on target attempts team1",
                  "dtype": "int64",
                  "stats": {
                    "unique_count": 8,
                    "nan_count": 0,
                    "min": "0",
                    "max": "9",
                    "histogram": [
                      {
                        "bin_start": 0,
                        "bin_end": 0.9,
                        "count": 1
                      },
                      {
                        "bin_start": 0.9,
                        "bin_end": 1.8,
                        "count": 1
                      },
                      {
                        "bin_start": 1.8,
                        "bin_end": 2.7,
                        "count": 1
                      },
                      {
                        "bin_start": 2.7,
                        "bin_end": 3.6,
                        "count": 1
                      },
                      {
                        "bin_start": 3.6,
                        "bin_end": 4.5,
                        "count": 2
                      },
                      {
                        "bin_start": 4.5,
                        "bin_end": 5.4,
                        "count": 0
                      },
                      {
                        "bin_start": 5.4,
                        "bin_end": 6.3,
                        "count": 1
                      },
                      {
                        "bin_start": 6.3,
                        "bin_end": 7.2,
                        "count": 2
                      },
                      {
                        "bin_start": 7.2,
                        "bin_end": 8.1,
                        "count": 0
                      },
                      {
                        "bin_start": 8.1,
                        "bin_end": 9,
                        "count": 1
                      }
                    ]
                  }
                },
                {
                  "name": "on target attempts team2",
                  "dtype": "int64",
                  "stats": {
                    "unique_count": 3,
                    "nan_count": 0,
                    "min": "1",
                    "max": "3",
                    "histogram": [
                      {
                        "bin_start": 1,
                        "bin_end": 1.2,
                        "count": 3
                      },
                      {
                        "bin_start": 1.2,
                        "bin_end": 1.4,
                        "count": 0
                      },
                      {
                        "bin_start": 1.4,
                        "bin_end": 1.6,
                        "count": 0
                      },
                      {
                        "bin_start": 1.6,
                        "bin_end": 1.8,
                        "count": 0
                      },
                      {
                        "bin_start": 1.8,
                        "bin_end": 2,
                        "count": 0
                      },
                      {
                        "bin_start": 2,
                        "bin_end": 2.2,
                        "count": 2
                      },
                      {
                        "bin_start": 2.2,
                        "bin_end": 2.4000000000000004,
                        "count": 0
                      },
                      {
                        "bin_start": 2.4000000000000004,
                        "bin_end": 2.6,
                        "count": 0
                      },
                      {
                        "bin_start": 2.6,
                        "bin_end": 2.8,
                        "count": 0
                      },
                      {
                        "bin_start": 2.8,
                        "bin_end": 3,
                        "count": 5
                      }
                    ]
                  }
                },
                {
                  "name": "off target attempts team1",
                  "dtype": "int64",
                  "stats": {
                    "unique_count": 7,
                    "nan_count": 0,
                    "min": "0",
                    "max": "11",
                    "histogram": [
                      {
                        "bin_start": 0,
                        "bin_end": 1.1,
                        "count": 1
                      },
                      {
                        "bin_start": 1.1,
                        "bin_end": 2.2,
                        "count": 0
                      },
                      {
                        "bin_start": 2.2,
                        "bin_end": 3.3000000000000003,
                        "count": 1
                      },
                      {
                        "bin_start": 3.3000000000000003,
                        "bin_end": 4.4,
                        "count": 2
                      },
                      {
                        "bin_start": 4.4,
                        "bin_end": 5.5,
                        "count": 3
                      },
                      {
                        "bin_start": 5.5,
                        "bin_end": 6.6000000000000005,
                        "count": 0
                      },
                      {
                        "bin_start": 6.6000000000000005,
                        "bin_end": 7.700000000000001,
                        "count": 0
                      },
                      {
                        "bin_start": 7.700000000000001,
                        "bin_end": 8.8,
                        "count": 1
                      },
                      {
                        "bin_start": 8.8,
                        "bin_end": 9.9,
                        "count": 1
                      },
                      {
                        "bin_start": 9.9,
                        "bin_end": 11,
                        "count": 1
                      }
                    ]
                  }
                },
                {
                  "name": "off target attempts team2",
                  "dtype": "int64",
                  "stats": {
                    "unique_count": 7,
                    "nan_count": 0,
                    "min": "0",
                    "max": "7",
                    "histogram": [
                      {
                        "bin_start": 0,
                        "bin_end": 0.7,
                        "count": 1
                      },
                      {
                        "bin_start": 0.7,
                        "bin_end": 1.4,
                        "count": 0
                      },
                      {
                        "bin_start": 1.4,
                        "bin_end": 2.0999999999999996,
                        "count": 1
                      },
                      {
                        "bin_start": 2.0999999999999996,
                        "bin_end": 2.8,
                        "count": 0
                      },
                      {
                        "bin_start": 2.8,
                        "bin_end": 3.5,
                        "count": 3
                      },
                      {
                        "bin_start": 3.5,
                        "bin_end": 4.199999999999999,
                        "count": 2
                      },
                      {
                        "bin_start": 4.199999999999999,
                        "bin_end": 4.8999999999999995,
                        "count": 0
                      },
                      {
                        "bin_start": 4.8999999999999995,
                        "bin_end": 5.6,
                        "count": 1
                      },
                      {
                        "bin_start": 5.6,
                        "bin_end": 6.3,
                        "count": 1
                      },
                      {
                        "bin_start": 6.3,
                        "bin_end": 7,
                        "count": 1
                      }
                    ]
                  }
                },
                {
                  "name": "attempts inside the penalty area team1",
                  "dtype": "int64",
                  "stats": {
                    "unique_count": 7,
                    "nan_count": 0,
                    "min": "2",
                    "max": "18",
                    "histogram": [
                      {
                        "bin_start": 2,
                        "bin_end": 3.6,
                        "count": 2
                      },
                      {
                        "bin_start": 3.6,
                        "bin_end": 5.2,
                        "count": 1
                      },
                      {
                        "bin_start": 5.2,
                        "bin_end": 6.800000000000001,
                        "count": 0
                      },
                      {
                        "bin_start": 6.800000000000001,
                        "bin_end": 8.4,
                        "count": 2
                      },
                      {
                        "bin_start": 8.4,
                        "bin_end": 10,
                        "count": 0
                      },
                      {
                        "bin_start": 10,
                        "bin_end": 11.600000000000001,
                        "count": 3
                      },
                      {
                        "bin_start": 11.600000000000001,
                        "bin_end": 13.200000000000001,
                        "count": 0
                      },
                      {
                        "bin_start": 13.200000000000001,
                        "bin_end": 14.8,
                        "count": 0
                      },
                      {
                        "bin_start": 14.8,
                        "bin_end": 16.4,
                        "count": 1
                      },
                      {
                        "bin_start": 16.4,
                        "bin_end": 18,
                        "count": 1
                      }
                    ]
                  }
                },
                {
                  "name": "attempts inside the penalty area  team2",
                  "dtype": "int64",
                  "stats": {
                    "unique_count": 7,
                    "nan_count": 0,
                    "min": "2",
                    "max": "10",
                    "histogram": [
                      {
                        "bin_start": 2,
                        "bin_end": 2.8,
                        "count": 1
                      },
                      {
                        "bin_start": 2.8,
                        "bin_end": 3.6,
                        "count": 1
                      },
                      {
                        "bin_start": 3.6,
                        "bin_end": 4.4,
                        "count": 2
                      },
                      {
                        "bin_start": 4.4,
                        "bin_end": 5.2,
                        "count": 2
                      },
                      {
                        "bin_start": 5.2,
                        "bin_end": 6,
                        "count": 0
                      },
                      {
                        "bin_start": 6,
                        "bin_end": 6.800000000000001,
                        "count": 2
                      },
                      {
                        "bin_start": 6.800000000000001,
                        "bin_end": 7.6000000000000005,
                        "count": 1
                      },
                      {
                        "bin_start": 7.6000000000000005,
                        "bin_end": 8.4,
                        "count": 0
                      },
                      {
                        "bin_start": 8.4,
                        "bin_end": 9.2,
                        "count": 0
                      },
                      {
                        "bin_start": 9.2,
                        "bin_end": 10,
                        "count": 1
                      }
                    ]
                  }
                },
                {
                  "name": "attempts outside the penalty area  team1",
                  "dtype": "int64",
                  "stats": {
                    "unique_count": 6,
                    "nan_count": 0,
                    "min": "2",
                    "max": "10",
                    "histogram": [
                      {
                        "bin_start": 2,
                        "bin_end": 2.8,
                        "count": 1
                      },
                      {
                        "bin_start": 2.8,
                        "bin_end": 3.6,
                        "count": 3
                      },
                      {
                        "bin_start": 3.6,
                        "bin_end": 4.4,
                        "count": 3
                      },
                      {
                        "bin_start": 4.4,
                        "bin_end": 5.2,
                        "count": 1
                      },
                      {
                        "bin_start": 5.2,
                        "bin_end": 6,
                        "count": 0
                      },
                      {
                        "bin_start": 6,
                        "bin_end": 6.800000000000001,
                        "count": 0
                      },
                      {
                        "bin_start": 6.800000000000001,
                        "bin_end": 7.6000000000000005,
                        "count": 1
                      },
                      {
                        "bin_start": 7.6000000000000005,
                        "bin_end": 8.4,
                        "count": 0
                      },
                      {
                        "bin_start": 8.4,
                        "bin_end": 9.2,
                        "count": 0
                      },
                      {
                        "bin_start": 9.2,
                        "bin_end": 10,
                        "count": 1
                      }
                    ]
                  }
                },
                {
                  "name": "attempts outside the penalty area  team2",
                  "dtype": "int64",
                  "stats": {
                    "unique_count": 5,
                    "nan_count": 0,
                    "min": "0",
                    "max": "5",
                    "histogram": [
                      {
                        "bin_start": 0,
                        "bin_end": 0.5,
                        "count": 2
                      },
                      {
                        "bin_start": 0.5,
                        "bin_end": 1,
                        "count": 0
                      },
                      {
                        "bin_start": 1,
                        "bin_end": 1.5,
                        "count": 1
                      },
                      {
                        "bin_start": 1.5,
                        "bin_end": 2,
                        "count": 0
                      },
                      {
                        "bin_start": 2,
                        "bin_end": 2.5,
                        "count": 5
                      },
                      {
                        "bin_start": 2.5,
                        "bin_end": 3,
                        "count": 0
                      },
                      {
                        "bin_start": 3,
                        "bin_end": 3.5,
                        "count": 0
                      },
                      {
                        "bin_start": 3.5,
                        "bin_end": 4,
                        "count": 0
                      },
                      {
                        "bin_start": 4,
                        "bin_end": 4.5,
                        "count": 1
                      },
                      {
                        "bin_start": 4.5,
                        "bin_end": 5,
                        "count": 1
                      }
                    ]
                  }
                },
                {
                  "name": "left channel team1",
                  "dtype": "int64",
                  "stats": {
                    "unique_count": 9,
                    "nan_count": 0,
                    "min": "8",
                    "max": "30",
                    "histogram": [
                      {
                        "bin_start": 8,
                        "bin_end": 10.2,
                        "count": 1
                      },
                      {
                        "bin_start": 10.2,
                        "bin_end": 12.4,
                        "count": 3
                      },
                      {
                        "bin_start": 12.4,
                        "bin_end": 14.600000000000001,
                        "count": 1
                      },
                      {
                        "bin_start": 14.600000000000001,
                        "bin_end": 16.8,
                        "count": 1
                      },
                      {
                        "bin_start": 16.8,
                        "bin_end": 19,
                        "count": 1
                      },
                      {
                        "bin_start": 19,
                        "bin_end": 21.200000000000003,
                        "count": 1
                      },
                      {
                        "bin_start": 21.200000000000003,
                        "bin_end": 23.400000000000002,
                        "count": 0
                      },
                      {
                        "bin_start": 23.400000000000002,
                        "bin_end": 25.6,
                        "count": 1
                      },
                      {
                        "bin_start": 25.6,
                        "bin_end": 27.8,
                        "count": 0
                      },
                      {
                        "bin_start": 27.8,
                        "bin_end": 30,
                        "count": 1
                      }
                    ]
                  }
                },
                {
                  "name": "left channel team2",
                  "dtype": "int64",
                  "stats": {
                    "unique_count": 7,
                    "nan_count": 0,
                    "min": "3",
                    "max": "12",
                    "histogram": [
                      {
                        "bin_start": 3,
                        "bin_end": 3.9,
                        "count": 2
                      },
                      {
                        "bin_start": 3.9,
                        "bin_end": 4.8,
                        "count": 0
                      },
                      {
                        "bin_start": 4.8,
                        "bin_end": 5.7,
                        "count": 1
                      },
                      {
                        "bin_start": 5.7,
                        "bin_end": 6.6,
                        "count": 0
                      },
                      {
                        "bin_start": 6.6,
                        "bin_end": 7.5,
                        "count": 1
                      },
                      {
                        "bin_start": 7.5,
                        "bin_end": 8.4,
                        "count": 2
                      },
                      {
                        "bin_start": 8.4,
                        "bin_end": 9.3,
                        "count": 1
                      },
                      {
                        "bin_start": 9.3,
                        "bin_end": 10.2,
                        "count": 0
                      },
                      {
                        "bin_start": 10.2,
                        "bin_end": 11.1,
                        "count": 2
                      },
                      {
                        "bin_start": 11.1,
                        "bin_end": 12,
                        "count": 1
                      }
                    ]
                  }
                },
                {
                  "name": "left inside channel team1",
                  "dtype": "int64",
                  "stats": {
                    "unique_count": 6,
                    "nan_count": 0,
                    "min": "0",
                    "max": "9",
                    "histogram": [
                      {
                        "bin_start": 0,
                        "bin_end": 0.9,
                        "count": 1
                      },
                      {
                        "bin_start": 0.9,
                        "bin_end": 1.8,
                        "count": 1
                      },
                      {
                        "bin_start": 1.8,
                        "bin_end": 2.7,
                        "count": 0
                      },
                      {
                        "bin_start": 2.7,
                        "bin_end": 3.6,
                        "count": 0
                      },
                      {
                        "bin_start": 3.6,
                        "bin_end": 4.5,
                        "count": 3
                      },
                      {
                        "bin_start": 4.5,
                        "bin_end": 5.4,
                        "count": 2
                      },
                      {
                        "bin_start": 5.4,
                        "bin_end": 6.3,
                        "count": 2
                      },
                      {
                        "bin_start": 6.3,
                        "bin_end": 7.2,
                        "count": 0
                      },
                      {
                        "bin_start": 7.2,
                        "bin_end": 8.1,
                        "count": 0
                      },
                      {
                        "bin_start": 8.1,
                        "bin_end": 9,
                        "count": 1
                      }
                    ]
                  }
                },
                {
                  "name": "left inside channel team2",
                  "dtype": "int64",
                  "stats": {
                    "unique_count": 5,
                    "nan_count": 0,
                    "min": "0",
                    "max": "7",
                    "histogram": [
                      {
                        "bin_start": 0,
                        "bin_end": 0.7,
                        "count": 2
                      },
                      {
                        "bin_start": 0.7,
                        "bin_end": 1.4,
                        "count": 0
                      },
                      {
                        "bin_start": 1.4,
                        "bin_end": 2.0999999999999996,
                        "count": 5
                      },
                      {
                        "bin_start": 2.0999999999999996,
                        "bin_end": 2.8,
                        "count": 0
                      },
                      {
                        "bin_start": 2.8,
                        "bin_end": 3.5,
                        "count": 1
                      },
                      {
                        "bin_start": 3.5,
                        "bin_end": 4.199999999999999,
                        "count": 0
                      },
                      {
                        "bin_start": 4.199999999999999,
                        "bin_end": 4.8999999999999995,
                        "count": 0
                      },
                      {
                        "bin_start": 4.8999999999999995,
                        "bin_end": 5.6,
                        "count": 0
                      },
                      {
                        "bin_start": 5.6,
                        "bin_end": 6.3,
                        "count": 1
                      },
                      {
                        "bin_start": 6.3,
                        "bin_end": 7,
                        "count": 1
                      }
                    ]
                  }
                },
                {
                  "name": "central channel team1",
                  "dtype": "int64",
                  "stats": {
                    "unique_count": 8,
                    "nan_count": 0,
                    "min": "1",
                    "max": "14",
                    "histogram": [
                      {
                        "bin_start": 1,
                        "bin_end": 2.3,
                        "count": 3
                      },
                      {
                        "bin_start": 2.3,
                        "bin_end": 3.6,
                        "count": 2
                      },
                      {
                        "bin_start": 3.6,
                        "bin_end": 4.9,
                        "count": 1
                      },
                      {
                        "bin_start": 4.9,
                        "bin_end": 6.2,
                        "count": 2
                      },
                      {
                        "bin_start": 6.2,
                        "bin_end": 7.5,
                        "count": 1
                      },
                      {
                        "bin_start": 7.5,
                        "bin_end": 8.8,
                        "count": 0
                      },
                      {
                        "bin_start": 8.8,
                        "bin_end": 10.1,
                        "count": 0
                      },
                      {
                        "bin_start": 10.1,
                        "bin_end": 11.4,
                        "count": 0
                      },
                      {
                        "bin_start": 11.4,
                        "bin_end": 12.700000000000001,
                        "count": 0
                      },
                      {
                        "bin_start": 12.700000000000001,
                        "bin_end": 14,
                        "count": 1
                      }
                    ]
                  }
                },
                {
                  "name": "central channel team2",
                  "dtype": "int64",
                  "stats": {
                    "unique_count": 4,
                    "nan_count": 0,
                    "min": "2",
                    "max": "6",
                    "histogram": [
                      {
                        "bin_start": 2,
                        "bin_end": 2.4,
                        "count": 2
                      },
                      {
                        "bin_start": 2.4,
                        "bin_end": 2.8,
                        "count": 0
                      },
                      {
                        "bin_start": 2.8,
                        "bin_end": 3.2,
                        "count": 3
                      },
                      {
                        "bin_start": 3.2,
                        "bin_end": 3.6,
                        "count": 0
                      },
                      {
                        "bin_start": 3.6,
                        "bin_end": 4,
                        "count": 0
                      },
                      {
                        "bin_start": 4,
                        "bin_end": 4.4,
                        "count": 0
                      },
                      {
                        "bin_start": 4.4,
                        "bin_end": 4.800000000000001,
                        "count": 0
                      },
                      {
                        "bin_start": 4.800000000000001,
                        "bin_end": 5.2,
                        "count": 2
                      },
                      {
                        "bin_start": 5.2,
                        "bin_end": 5.6,
                        "count": 0
                      },
                      {
                        "bin_start": 5.6,
                        "bin_end": 6,
                        "count": 3
                      }
                    ]
                  }
                },
                {
                  "name": "right inside channel team1",
                  "dtype": "int64",
                  "stats": {
                    "unique_count": 7,
                    "nan_count": 0,
                    "min": "0",
                    "max": "8",
                    "histogram": [
                      {
                        "bin_start": 0,
                        "bin_end": 0.8,
                        "count": 1
                      },
                      {
                        "bin_start": 0.8,
                        "bin_end": 1.6,
                        "count": 1
                      },
                      {
                        "bin_start": 1.6,
                        "bin_end": 2.4000000000000004,
                        "count": 0
                      },
                      {
                        "bin_start": 2.4000000000000004,
                        "bin_end": 3.2,
                        "count": 2
                      },
                      {
                        "bin_start": 3.2,
                        "bin_end": 4,
                        "count": 0
                      },
                      {
                        "bin_start": 4,
                        "bin_end": 4.800000000000001,
                        "count": 2
                      },
                      {
                        "bin_start": 4.800000000000001,
                        "bin_end": 5.6000000000000005,
                        "count": 1
                      },
                      {
                        "bin_start": 5.6000000000000005,
                        "bin_end": 6.4,
                        "count": 1
                      },
                      {
                        "bin_start": 6.4,
                        "bin_end": 7.2,
                        "count": 0
                      },
                      {
                        "bin_start": 7.2,
                        "bin_end": 8,
                        "count": 2
                      }
                    ]
                  }
                },
                {
                  "name": "right inside channel team2",
                  "dtype": "int64",
                  "stats": {
                    "unique_count": 6,
                    "nan_count": 0,
                    "min": "1",
                    "max": "7",
                    "histogram": [
                      {
                        "bin_start": 1,
                        "bin_end": 1.6,
                        "count": 2
                      },
                      {
                        "bin_start": 1.6,
                        "bin_end": 2.2,
                        "count": 1
                      },
                      {
                        "bin_start": 2.2,
                        "bin_end": 2.8,
                        "count": 0
                      },
                      {
                        "bin_start": 2.8,
                        "bin_end": 3.4,
                        "count": 3
                      },
                      {
                        "bin_start": 3.4,
                        "bin_end": 4,
                        "count": 0
                      },
                      {
                        "bin_start": 4,
                        "bin_end": 4.6,
                        "count": 2
                      },
                      {
                        "bin_start": 4.6,
                        "bin_end": 5.2,
                        "count": 1
                      },
                      {
                        "bin_start": 5.2,
                        "bin_end": 5.8,
                        "count": 0
                      },
                      {
                        "bin_start": 5.8,
                        "bin_end": 6.3999999999999995,
                        "count": 0
                      },
                      {
                        "bin_start": 6.3999999999999995,
                        "bin_end": 7,
                        "count": 1
                      }
                    ]
                  }
                },
                {
                  "name": "right channel team1",
                  "dtype": "int64",
                  "stats": {
                    "unique_count": 7,
                    "nan_count": 0,
                    "min": "9",
                    "max": "27",
                    "histogram": [
                      {
                        "bin_start": 9,
                        "bin_end": 10.8,
                        "count": 1
                      },
                      {
                        "bin_start": 10.8,
                        "bin_end": 12.6,
                        "count": 3
                      },
                      {
                        "bin_start": 12.6,
                        "bin_end": 14.4,
                        "count": 1
                      },
                      {
                        "bin_start": 14.4,
                        "bin_end": 16.2,
                        "count": 0
                      },
                      {
                        "bin_start": 16.2,
                        "bin_end": 18,
                        "count": 0
                      },
                      {
                        "bin_start": 18,
                        "bin_end": 19.8,
                        "count": 3
                      },
                      {
                        "bin_start": 19.8,
                        "bin_end": 21.6,
                        "count": 1
                      },
                      {
                        "bin_start": 21.6,
                        "bin_end": 23.4,
                        "count": 0
                      },
                      {
                        "bin_start": 23.4,
                        "bin_end": 25.2,
                        "count": 0
                      },
                      {
                        "bin_start": 25.2,
                        "bin_end": 27,
                        "count": 1
                      }
                    ]
                  }
                },
                {
                  "name": "right channel team2",
                  "dtype": "int64",
                  "stats": {
                    "unique_count": 8,
                    "nan_count": 0,
                    "min": "0",
                    "max": "20",
                    "histogram": [
                      {
                        "bin_start": 0,
                        "bin_end": 2,
                        "count": 1
                      },
                      {
                        "bin_start": 2,
                        "bin_end": 4,
                        "count": 0
                      },
                      {
                        "bin_start": 4,
                        "bin_end": 6,
                        "count": 0
                      },
                      {
                        "bin_start": 6,
                        "bin_end": 8,
                        "count": 4
                      },
                      {
                        "bin_start": 8,
                        "bin_end": 10,
                        "count": 2
                      },
                      {
                        "bin_start": 10,
                        "bin_end": 12,
                        "count": 1
                      },
                      {
                        "bin_start": 12,
                        "bin_end": 14,
                        "count": 1
                      },
                      {
                        "bin_start": 14,
                        "bin_end": 16,
                        "count": 0
                      },
                      {
                        "bin_start": 16,
                        "bin_end": 18,
                        "count": 0
                      },
                      {
                        "bin_start": 18,
                        "bin_end": 20,
                        "count": 1
                      }
                    ]
                  }
                },
                {
                  "name": "total offers to receive team1",
                  "dtype": "int64",
                  "stats": {
                    "unique_count": 10,
                    "nan_count": 0,
                    "min": "498",
                    "max": "1061",
                    "histogram": [
                      {
                        "bin_start": 498,
                        "bin_end": 554.3,
                        "count": 4
                      },
                      {
                        "bin_start": 554.3,
                        "bin_end": 610.6,
                        "count": 0
                      },
                      {
                        "bin_start": 610.6,
                        "bin_end": 666.9,
                        "count": 1
                      },
                      {
                        "bin_start": 666.9,
                        "bin_end": 723.2,
                        "count": 2
                      },
                      {
                        "bin_start": 723.2,
                        "bin_end": 779.5,
                        "count": 1
                      },
                      {
                        "bin_start": 779.5,
                        "bin_end": 835.8,
                        "count": 0
                      },
                      {
                        "bin_start": 835.8,
                        "bin_end": 892.0999999999999,
                        "count": 1
                      },
                      {
                        "bin_start": 892.0999999999999,
                        "bin_end": 948.4,
                        "count": 0
                      },
                      {
                        "bin_start": 948.4,
                        "bin_end": 1004.7,
                        "count": 0
                      },
                      {
                        "bin_start": 1004.7,
                        "bin_end": 1061,
                        "count": 1
                      }
                    ]
                  }
                },
                {
                  "name": "total offers to receive team2",
                  "dtype": "int64",
                  "stats": {
                    "unique_count": 10,
                    "nan_count": 0,
                    "min": "212",
                    "max": "626",
                    "histogram": [
                      {
                        "bin_start": 212,
                        "bin_end": 253.4,
                        "count": 1
                      },
                      {
                        "bin_start": 253.4,
                        "bin_end": 294.8,
                        "count": 1
                      },
                      {
                        "bin_start": 294.8,
                        "bin_end": 336.2,
                        "count": 1
                      },
                      {
                        "bin_start": 336.2,
                        "bin_end": 377.6,
                        "count": 1
                      },
                      {
                        "bin_start": 377.6,
                        "bin_end": 419,
                        "count": 0
                      },
                      {
                        "bin_start": 419,
                        "bin_end": 460.4,
                        "count": 1
                      },
                      {
                        "bin_start": 460.4,
                        "bin_end": 501.8,
                        "count": 1
                      },
                      {
                        "bin_start": 501.8,
                        "bin_end": 543.2,
                        "count": 3
                      },
                      {
                        "bin_start": 543.2,
                        "bin_end": 584.5999999999999,
                        "count": 0
                      },
                      {
                        "bin_start": 584.5999999999999,
                        "bin_end": 626,
                        "count": 1
                      }
                    ]
                  }
                },
                {
                  "name": "inbehind offers to receive team1",
                  "dtype": "int64",
                  "stats": {
                    "unique_count": 10,
                    "nan_count": 0,
                    "min": "106",
                    "max": "207",
                    "histogram": [
                      {
                        "bin_start": 106,
                        "bin_end": 116.1,
                        "count": 2
                      },
                      {
                        "bin_start": 116.1,
                        "bin_end": 126.2,
                        "count": 1
                      },
                      {
                        "bin_start": 126.2,
                        "bin_end": 136.3,
                        "count": 1
                      },
                      {
                        "bin_start": 136.3,
                        "bin_end": 146.4,
                        "count": 0
                      },
                      {
                        "bin_start": 146.4,
                        "bin_end": 156.5,
                        "count": 3
                      },
                      {
                        "bin_start": 156.5,
                        "bin_end": 166.6,
                        "count": 1
                      },
                      {
                        "bin_start": 166.6,
                        "bin_end": 176.7,
                        "count": 0
                      },
                      {
                        "bin_start": 176.7,
                        "bin_end": 186.8,
                        "count": 0
                      },
                      {
                        "bin_start": 186.8,
                        "bin_end": 196.89999999999998,
                        "count": 0
                      },
                      {
                        "bin_start": 196.89999999999998,
                        "bin_end": 207,
                        "count": 2
                      }
                    ]
                  }
                },
                {
                  "name": "inbehind offers to receive team2",
                  "dtype": "int64",
                  "stats": {
                    "unique_count": 10,
                    "nan_count": 0,
                    "min": "53",
                    "max": "127",
                    "histogram": [
                      {
                        "bin_start": 53,
                        "bin_end": 60.4,
                        "count": 1
                      },
                      {
                        "bin_start": 60.4,
                        "bin_end": 67.8,
                        "count": 0
                      },
                      {
                        "bin_start": 67.8,
                        "bin_end": 75.2,
                        "count": 2
                      },
                      {
                        "bin_start": 75.2,
                        "bin_end": 82.6,
                        "count": 0
                      },
                      {
                        "bin_start": 82.6,
                        "bin_end": 90,
                        "count": 1
                      },
                      {
                        "bin_start": 90,
                        "bin_end": 97.4,
                        "count": 1
                      },
                      {
                        "bin_start": 97.4,
                        "bin_end": 104.80000000000001,
                        "count": 3
                      },
                      {
                        "bin_start": 104.80000000000001,
                        "bin_end": 112.2,
                        "count": 0
                      },
                      {
                        "bin_start": 112.2,
                        "bin_end": 119.60000000000001,
                        "count": 1
                      },
                      {
                        "bin_start": 119.60000000000001,
                        "bin_end": 127,
                        "count": 1
                      }
                    ]
                  }
                },
                {
                  "name": "inbetween offers to receive team1",
                  "dtype": "int64",
                  "stats": {
                    "unique_count": 10,
                    "nan_count": 0,
                    "min": "177",
                    "max": "386",
                    "histogram": [
                      {
                        "bin_start": 177,
                        "bin_end": 197.9,
                        "count": 3
                      },
                      {
                        "bin_start": 197.9,
                        "bin_end": 218.8,
                        "count": 1
                      },
                      {
                        "bin_start": 218.8,
                        "bin_end": 239.7,
                        "count": 2
                      },
                      {
                        "bin_start": 239.7,
                        "bin_end": 260.6,
                        "count": 0
                      },
                      {
                        "bin_start": 260.6,
                        "bin_end": 281.5,
                        "count": 1
                      },
                      {
                        "bin_start": 281.5,
                        "bin_end": 302.4,
                        "count": 0
                      },
                      {
                        "bin_start": 302.4,
                        "bin_end": 323.29999999999995,
                        "count": 0
                      },
                      {
                        "bin_start": 323.29999999999995,
                        "bin_end": 344.2,
                        "count": 1
                      },
                      {
                        "bin_start": 344.2,
                        "bin_end": 365.1,
                        "count": 0
                      },
                      {
                        "bin_start": 365.1,
                        "bin_end": 386,
                        "count": 2
                      }
                    ]
                  }
                },
                {
                  "name": "inbetween offers to receive team2",
                  "dtype": "int64",
                  "stats": {
                    "unique_count": 10,
                    "nan_count": 0,
                    "min": "86",
                    "max": "208",
                    "histogram": [
                      {
                        "bin_start": 86,
                        "bin_end": 98.2,
                        "count": 1
                      },
                      {
                        "bin_start": 98.2,
                        "bin_end": 110.4,
                        "count": 1
                      },
                      {
                        "bin_start": 110.4,
                        "bin_end": 122.6,
                        "count": 0
                      },
                      {
                        "bin_start": 122.6,
                        "bin_end": 134.8,
                        "count": 1
                      },
                      {
                        "bin_start": 134.8,
                        "bin_end": 147,
                        "count": 1
                      },
                      {
                        "bin_start": 147,
                        "bin_end": 159.2,
                        "count": 0
                      },
                      {
                        "bin_start": 159.2,
                        "bin_end": 171.39999999999998,
                        "count": 0
                      },
                      {
                        "bin_start": 171.39999999999998,
                        "bin_end": 183.6,
                        "count": 1
                      },
                      {
                        "bin_start": 183.6,
                        "bin_end": 195.8,
                        "count": 2
                      },
                      {
                        "bin_start": 195.8,
                        "bin_end": 208,
                        "count": 3
                      }
                    ]
                  }
                },
                {
                  "name": "infront offers to receive team1",
                  "dtype": "int64",
                  "stats": {
                    "unique_count": 10,
                    "nan_count": 0,
                    "min": "149",
                    "max": "468",
                    "histogram": [
                      {
                        "bin_start": 149,
                        "bin_end": 180.9,
                        "count": 2
                      },
                      {
                        "bin_start": 180.9,
                        "bin_end": 212.8,
                        "count": 1
                      },
                      {
                        "bin_start": 212.8,
                        "bin_end": 244.7,
                        "count": 2
                      },
                      {
                        "bin_start": 244.7,
                        "bin_end": 276.6,
                        "count": 1
                      },
                      {
                        "bin_start": 276.6,
                        "bin_end": 308.5,
                        "count": 1
                      },
                      {
                        "bin_start": 308.5,
                        "bin_end": 340.4,
                        "count": 1
                      },
                      {
                        "bin_start": 340.4,
                        "bin_end": 372.29999999999995,
                        "count": 1
                      },
                      {
                        "bin_start": 372.29999999999995,
                        "bin_end": 404.2,
                        "count": 0
                      },
                      {
                        "bin_start": 404.2,
                        "bin_end": 436.09999999999997,
                        "count": 0
                      },
                      {
                        "bin_start": 436.09999999999997,
                        "bin_end": 468,
                        "count": 1
                      }
                    ]
                  }
                },
                {
                  "name": "infront offers to receive team2",
                  "dtype": "int64",
                  "stats": {
                    "unique_count": 9,
                    "nan_count": 0,
                    "min": "68",
                    "max": "330",
                    "histogram": [
                      {
                        "bin_start": 68,
                        "bin_end": 94.2,
                        "count": 2
                      },
                      {
                        "bin_start": 94.2,
                        "bin_end": 120.4,
                        "count": 1
                      },
                      {
                        "bin_start": 120.4,
                        "bin_end": 146.6,
                        "count": 1
                      },
                      {
                        "bin_start": 146.6,
                        "bin_end": 172.8,
                        "count": 1
                      },
                      {
                        "bin_start": 172.8,
                        "bin_end": 199,
                        "count": 2
                      },
                      {
                        "bin_start": 199,
                        "bin_end": 225.2,
                        "count": 2
                      },
                      {
                        "bin_start": 225.2,
                        "bin_end": 251.4,
                        "count": 0
                      },
                      {
                        "bin_start": 251.4,
                        "bin_end": 277.6,
                        "count": 0
                      },
                      {
                        "bin_start": 277.6,
                        "bin_end": 303.79999999999995,
                        "count": 0
                      },
                      {
                        "bin_start": 303.79999999999995,
                        "bin_end": 330,
                        "count": 1
                      }
                    ]
                  }
                },
                {
                  "name": "receptions between midfield and defensive lines team1",
                  "dtype": "int64",
                  "stats": {
                    "unique_count": 9,
                    "nan_count": 0,
                    "min": "4",
                    "max": "26",
                    "histogram": [
                      {
                        "bin_start": 4,
                        "bin_end": 6.2,
                        "count": 2
                      },
                      {
                        "bin_start": 6.2,
                        "bin_end": 8.4,
                        "count": 0
                      },
                      {
                        "bin_start": 8.4,
                        "bin_end": 10.600000000000001,
                        "count": 0
                      },
                      {
                        "bin_start": 10.600000000000001,
                        "bin_end": 12.8,
                        "count": 1
                      },
                      {
                        "bin_start": 12.8,
                        "bin_end": 15,
                        "count": 1
                      },
                      {
                        "bin_start": 15,
                        "bin_end": 17.200000000000003,
                        "count": 2
                      },
                      {
                        "bin_start": 17.200000000000003,
                        "bin_end": 19.400000000000002,
                        "count": 1
                      },
                      {
                        "bin_start": 19.400000000000002,
                        "bin_end": 21.6,
                        "count": 1
                      },
                      {
                        "bin_start": 21.6,
                        "bin_end": 23.8,
                        "count": 0
                      },
                      {
                        "bin_start": 23.8,
                        "bin_end": 26,
                        "count": 2
                      }
                    ]
                  }
                },
                {
                  "name": "receptions between midfield and defensive lines team2",
                  "dtype": "int64",
                  "stats": {
                    "unique_count": 7,
                    "nan_count": 0,
                    "min": "3",
                    "max": "14",
                    "histogram": [
                      {
                        "bin_start": 3,
                        "bin_end": 4.1,
                        "count": 2
                      },
                      {
                        "bin_start": 4.1,
                        "bin_end": 5.2,
                        "count": 0
                      },
                      {
                        "bin_start": 5.2,
                        "bin_end": 6.300000000000001,
                        "count": 0
                      },
                      {
                        "bin_start": 6.300000000000001,
                        "bin_end": 7.4,
                        "count": 2
                      },
                      {
                        "bin_start": 7.4,
                        "bin_end": 8.5,
                        "count": 1
                      },
                      {
                        "bin_start": 8.5,
                        "bin_end": 9.600000000000001,
                        "count": 3
                      },
                      {
                        "bin_start": 9.600000000000001,
                        "bin_end": 10.700000000000001,
                        "count": 1
                      },
                      {
                        "bin_start": 10.700000000000001,
                        "bin_end": 11.8,
                        "count": 0
                      },
                      {
                        "bin_start": 11.8,
                        "bin_end": 12.9,
                        "count": 0
                      },
                      {
                        "bin_start": 12.9,
                        "bin_end": 14,
                        "count": 1
                      }
                    ]
                  }
                },
                {
                  "name": "attempted line breaks team1",
                  "dtype": "int64",
                  "stats": {
                    "unique_count": 10,
                    "nan_count": 0,
                    "min": "136",
                    "max": "241",
                    "histogram": [
                      {
                        "bin_start": 136,
                        "bin_end": 146.5,
                        "count": 2
                      },
                      {
                        "bin_start": 146.5,
                        "bin_end": 157,
                        "count": 1
                      },
                      {
                        "bin_start": 157,
                        "bin_end": 167.5,
                        "count": 0
                      },
                      {
                        "bin_start": 167.5,
                        "bin_end": 178,
                        "count": 2
                      },
                      {
                        "bin_start": 178,
                        "bin_end": 188.5,
                        "count": 0
                      },
                      {
                        "bin_start": 188.5,
                        "bin_end": 199,
                        "count": 2
                      },
                      {
                        "bin_start": 199,
                        "bin_end": 209.5,
                        "count": 1
                      },
                      {
                        "bin_start": 209.5,
                        "bin_end": 220,
                        "count": 0
                      },
                      {
                        "bin_start": 220,
                        "bin_end": 230.5,
                        "count": 0
                      },
                      {
                        "bin_start": 230.5,
                        "bin_end": 241,
                        "count": 2
                      }
                    ]
                  }
                },
                {
                  "name": "attempted line breaks team2",
                  "dtype": "int64",
                  "stats": {
                    "unique_count": 9,
                    "nan_count": 0,
                    "min": "101",
                    "max": "174",
                    "histogram": [
                      {
                        "bin_start": 101,
                        "bin_end": 108.3,
                        "count": 1
                      },
                      {
                        "bin_start": 108.3,
                        "bin_end": 115.6,
                        "count": 1
                      },
                      {
                        "bin_start": 115.6,
                        "bin_end": 122.9,
                        "count": 0
                      },
                      {
                        "bin_start": 122.9,
                        "bin_end": 130.2,
                        "count": 0
                      },
                      {
                        "bin_start": 130.2,
                        "bin_end": 137.5,
                        "count": 2
                      },
                      {
                        "bin_start": 137.5,
                        "bin_end": 144.8,
                        "count": 0
                      },
                      {
                        "bin_start": 144.8,
                        "bin_end": 152.1,
                        "count": 1
                      },
                      {
                        "bin_start": 152.1,
                        "bin_end": 159.4,
                        "count": 1
                      },
                      {
                        "bin_start": 159.4,
                        "bin_end": 166.7,
                        "count": 1
                      },
                      {
                        "bin_start": 166.7,
                        "bin_end": 174,
                        "count": 3
                      }
                    ]
                  }
                },
                {
                  "name": "completed line breaksteam1",
                  "dtype": "int64",
                  "stats": {
                    "unique_count": 10,
                    "nan_count": 0,
                    "min": "81",
                    "max": "185",
                    "histogram": [
                      {
                        "bin_start": 81,
                        "bin_end": 91.4,
                        "count": 3
                      },
                      {
                        "bin_start": 91.4,
                        "bin_end": 101.8,
                        "count": 0
                      },
                      {
                        "bin_start": 101.8,
                        "bin_end": 112.2,
                        "count": 0
                      },
                      {
                        "bin_start": 112.2,
                        "bin_end": 122.6,
                        "count": 1
                      },
                      {
                        "bin_start": 122.6,
                        "bin_end": 133,
                        "count": 1
                      },
                      {
                        "bin_start": 133,
                        "bin_end": 143.4,
                        "count": 2
                      },
                      {
                        "bin_start": 143.4,
                        "bin_end": 153.8,
                        "count": 1
                      },
                      {
                        "bin_start": 153.8,
                        "bin_end": 164.2,
                        "count": 0
                      },
                      {
                        "bin_start": 164.2,
                        "bin_end": 174.60000000000002,
                        "count": 0
                      },
                      {
                        "bin_start": 174.60000000000002,
                        "bin_end": 185,
                        "count": 2
                      }
                    ]
                  }
                },
                {
                  "name": "completed line breaks team2",
                  "dtype": "int64",
                  "stats": {
                    "unique_count": 10,
                    "nan_count": 0,
                    "min": "45",
                    "max": "116",
                    "histogram": [
                      {
                        "bin_start": 45,
                        "bin_end": 52.1,
                        "count": 1
                      },
                      {
                        "bin_start": 52.1,
                        "bin_end": 59.2,
                        "count": 0
                      },
                      {
                        "bin_start": 59.2,
                        "bin_end": 66.3,
                        "count": 0
                      },
                      {
                        "bin_start": 66.3,
                        "bin_end": 73.4,
                        "count": 2
                      },
                      {
                        "bin_start": 73.4,
                        "bin_end": 80.5,
                        "count": 0
                      },
                      {
                        "bin_start": 80.5,
                        "bin_end": 87.6,
                        "count": 3
                      },
                      {
                        "bin_start": 87.6,
                        "bin_end": 94.69999999999999,
                        "count": 0
                      },
                      {
                        "bin_start": 94.69999999999999,
                        "bin_end": 101.8,
                        "count": 2
                      },
                      {
                        "bin_start": 101.8,
                        "bin_end": 108.9,
                        "count": 1
                      },
                      {
                        "bin_start": 108.9,
                        "bin_end": 116,
                        "count": 1
                      }
                    ]
                  }
                },
                {
                  "name": "attempted defensive line breaks team1",
                  "dtype": "int64",
                  "stats": {
                    "unique_count": 8,
                    "nan_count": 0,
                    "min": "9",
                    "max": "39",
                    "histogram": [
                      {
                        "bin_start": 9,
                        "bin_end": 12,
                        "count": 2
                      },
                      {
                        "bin_start": 12,
                        "bin_end": 15,
                        "count": 0
                      },
                      {
                        "bin_start": 15,
                        "bin_end": 18,
                        "count": 0
                      },
                      {
                        "bin_start": 18,
                        "bin_end": 21,
                        "count": 0
                      },
                      {
                        "bin_start": 21,
                        "bin_end": 24,
                        "count": 4
                      },
                      {
                        "bin_start": 24,
                        "bin_end": 27,
                        "count": 1
                      },
                      {
                        "bin_start": 27,
                        "bin_end": 30,
                        "count": 0
                      },
                      {
                        "bin_start": 30,
                        "bin_end": 33,
                        "count": 2
                      },
                      {
                        "bin_start": 33,
                        "bin_end": 36,
                        "count": 0
                      },
                      {
                        "bin_start": 36,
                        "bin_end": 39,
                        "count": 1
                      }
                    ]
                  }
                },
                {
                  "name": "attempted defensive line breaks team2",
                  "dtype": "int64",
                  "stats": {
                    "unique_count": 7,
                    "nan_count": 0,
                    "min": "7",
                    "max": "22",
                    "histogram": [
                      {
                        "bin_start": 7,
                        "bin_end": 8.5,
                        "count": 1
                      },
                      {
                        "bin_start": 8.5,
                        "bin_end": 10,
                        "count": 0
                      },
                      {
                        "bin_start": 10,
                        "bin_end": 11.5,
                        "count": 0
                      },
                      {
                        "bin_start": 11.5,
                        "bin_end": 13,
                        "count": 1
                      },
                      {
                        "bin_start": 13,
                        "bin_end": 14.5,
                        "count": 1
                      },
                      {
                        "bin_start": 14.5,
                        "bin_end": 16,
                        "count": 2
                      },
                      {
                        "bin_start": 16,
                        "bin_end": 17.5,
                        "count": 3
                      },
                      {
                        "bin_start": 17.5,
                        "bin_end": 19,
                        "count": 1
                      },
                      {
                        "bin_start": 19,
                        "bin_end": 20.5,
                        "count": 0
                      },
                      {
                        "bin_start": 20.5,
                        "bin_end": 22,
                        "count": 1
                      }
                    ]
                  }
                },
                {
                  "name": "completed defensive line breaksteam1",
                  "dtype": "int64",
                  "stats": {
                    "unique_count": 8,
                    "nan_count": 0,
                    "min": "4",
                    "max": "27",
                    "histogram": [
                      {
                        "bin_start": 4,
                        "bin_end": 6.3,
                        "count": 2
                      },
                      {
                        "bin_start": 6.3,
                        "bin_end": 8.6,
                        "count": 0
                      },
                      {
                        "bin_start": 8.6,
                        "bin_end": 10.899999999999999,
                        "count": 0
                      },
                      {
                        "bin_start": 10.899999999999999,
                        "bin_end": 13.2,
                        "count": 1
                      },
                      {
                        "bin_start": 13.2,
                        "bin_end": 15.5,
                        "count": 2
                      },
                      {
                        "bin_start": 15.5,
                        "bin_end": 17.799999999999997,
                        "count": 1
                      },
                      {
                        "bin_start": 17.799999999999997,
                        "bin_end": 20.099999999999998,
                        "count": 2
                      },
                      {
                        "bin_start": 20.099999999999998,
                        "bin_end": 22.4,
                        "count": 0
                      },
                      {
                        "bin_start": 22.4,
                        "bin_end": 24.7,
                        "count": 0
                      },
                      {
                        "bin_start": 24.7,
                        "bin_end": 27,
                        "count": 2
                      }
                    ]
                  }
                },
                {
                  "name": "completed defensive line breaks team2",
                  "dtype": "int64",
                  "stats": {
                    "unique_count": 8,
                    "nan_count": 0,
                    "min": "2",
                    "max": "11",
                    "histogram": [
                      {
                        "bin_start": 2,
                        "bin_end": 2.9,
                        "count": 1
                      },
                      {
                        "bin_start": 2.9,
                        "bin_end": 3.8,
                        "count": 0
                      },
                      {
                        "bin_start": 3.8,
                        "bin_end": 4.7,
                        "count": 1
                      },
                      {
                        "bin_start": 4.7,
                        "bin_end": 5.6,
                        "count": 0
                      },
                      {
                        "bin_start": 5.6,
                        "bin_end": 6.5,
                        "count": 1
                      },
                      {
                        "bin_start": 6.5,
                        "bin_end": 7.4,
                        "count": 3
                      },
                      {
                        "bin_start": 7.4,
                        "bin_end": 8.3,
                        "count": 1
                      },
                      {
                        "bin_start": 8.3,
                        "bin_end": 9.2,
                        "count": 1
                      },
                      {
                        "bin_start": 9.2,
                        "bin_end": 10.1,
                        "count": 1
                      },
                      {
                        "bin_start": 10.1,
                        "bin_end": 11,
                        "count": 1
                      }
                    ]
                  }
                },
                {
                  "name": "yellow cards team1",
                  "dtype": "int64",
                  "stats": {
                    "unique_count": 4,
                    "nan_count": 0,
                    "min": "0",
                    "max": "4",
                    "histogram": [
                      {
                        "bin_start": 0,
                        "bin_end": 0.4,
                        "count": 4
                      },
                      {
                        "bin_start": 0.4,
                        "bin_end": 0.8,
                        "count": 0
                      },
                      {
                        "bin_start": 0.8,
                        "bin_end": 1.2000000000000002,
                        "count": 1
                      },
                      {
                        "bin_start": 1.2000000000000002,
                        "bin_end": 1.6,
                        "count": 0
                      },
                      {
                        "bin_start": 1.6,
                        "bin_end": 2,
                        "count": 0
                      },
                      {
                        "bin_start": 2,
                        "bin_end": 2.4000000000000004,
                        "count": 3
                      },
                      {
                        "bin_start": 2.4000000000000004,
                        "bin_end": 2.8000000000000003,
                        "count": 0
                      },
                      {
                        "bin_start": 2.8000000000000003,
                        "bin_end": 3.2,
                        "count": 0
                      },
                      {
                        "bin_start": 3.2,
                        "bin_end": 3.6,
                        "count": 0
                      },
                      {
                        "bin_start": 3.6,
                        "bin_end": 4,
                        "count": 2
                      }
                    ]
                  }
                },
                {
                  "name": "yellow cards team2",
                  "dtype": "int64",
                  "stats": {
                    "unique_count": 5,
                    "nan_count": 0,
                    "min": "0",
                    "max": "6",
                    "histogram": [
                      {
                        "bin_start": 0,
                        "bin_end": 0.6,
                        "count": 2
                      },
                      {
                        "bin_start": 0.6,
                        "bin_end": 1.2,
                        "count": 3
                      },
                      {
                        "bin_start": 1.2,
                        "bin_end": 1.7999999999999998,
                        "count": 0
                      },
                      {
                        "bin_start": 1.7999999999999998,
                        "bin_end": 2.4,
                        "count": 3
                      },
                      {
                        "bin_start": 2.4,
                        "bin_end": 3,
                        "count": 0
                      },
                      {
                        "bin_start": 3,
                        "bin_end": 3.5999999999999996,
                        "count": 1
                      },
                      {
                        "bin_start": 3.5999999999999996,
                        "bin_end": 4.2,
                        "count": 0
                      },
                      {
                        "bin_start": 4.2,
                        "bin_end": 4.8,
                        "count": 0
                      },
                      {
                        "bin_start": 4.8,
                        "bin_end": 5.3999999999999995,
                        "count": 0
                      },
                      {
                        "bin_start": 5.3999999999999995,
                        "bin_end": 6,
                        "count": 1
                      }
                    ]
                  }
                },
                {
                  "name": "red cards team1",
                  "dtype": "int64",
                  "stats": {
                    "unique_count": 1,
                    "nan_count": 0,
                    "min": "0",
                    "max": "0",
                    "histogram": [
                      {
                        "bin_start": -0.5,
                        "bin_end": -0.4,
                        "count": 0
                      },
                      {
                        "bin_start": -0.4,
                        "bin_end": -0.3,
                        "count": 0
                      },
                      {
                        "bin_start": -0.3,
                        "bin_end": -0.19999999999999996,
                        "count": 0
                      },
                      {
                        "bin_start": -0.19999999999999996,
                        "bin_end": -0.09999999999999998,
                        "count": 0
                      },
                      {
                        "bin_start": -0.09999999999999998,
                        "bin_end": 0,
                        "count": 0
                      },
                      {
                        "bin_start": 0,
                        "bin_end": 0.10000000000000009,
                        "count": 10
                      },
                      {
                        "bin_start": 0.10000000000000009,
                        "bin_end": 0.20000000000000007,
                        "count": 0
                      },
                      {
                        "bin_start": 0.20000000000000007,
                        "bin_end": 0.30000000000000004,
                        "count": 0
                      },
                      {
                        "bin_start": 0.30000000000000004,
                        "bin_end": 0.4,
                        "count": 0
                      },
                      {
                        "bin_start": 0.4,
                        "bin_end": 0.5,
                        "count": 0
                      }
                    ]
                  }
                },
                {
                  "name": "red cards team2",
                  "dtype": "int64",
                  "stats": {
                    "unique_count": 1,
                    "nan_count": 0,
                    "min": "0",
                    "max": "0",
                    "histogram": [
                      {
                        "bin_start": -0.5,
                        "bin_end": -0.4,
                        "count": 0
                      },
                      {
                        "bin_start": -0.4,
                        "bin_end": -0.3,
                        "count": 0
                      },
                      {
                        "bin_start": -0.3,
                        "bin_end": -0.19999999999999996,
                        "count": 0
                      },
                      {
                        "bin_start": -0.19999999999999996,
                        "bin_end": -0.09999999999999998,
                        "count": 0
                      },
                      {
                        "bin_start": -0.09999999999999998,
                        "bin_end": 0,
                        "count": 0
                      },
                      {
                        "bin_start": 0,
                        "bin_end": 0.10000000000000009,
                        "count": 10
                      },
                      {
                        "bin_start": 0.10000000000000009,
                        "bin_end": 0.20000000000000007,
                        "count": 0
                      },
                      {
                        "bin_start": 0.20000000000000007,
                        "bin_end": 0.30000000000000004,
                        "count": 0
                      },
                      {
                        "bin_start": 0.30000000000000004,
                        "bin_end": 0.4,
                        "count": 0
                      },
                      {
                        "bin_start": 0.4,
                        "bin_end": 0.5,
                        "count": 0
                      }
                    ]
                  }
                },
                {
                  "name": "fouls against team1",
                  "dtype": "int64",
                  "stats": {
                    "unique_count": 8,
                    "nan_count": 0,
                    "min": "5",
                    "max": "17",
                    "histogram": [
                      {
                        "bin_start": 5,
                        "bin_end": 6.2,
                        "count": 2
                      },
                      {
                        "bin_start": 6.2,
                        "bin_end": 7.4,
                        "count": 1
                      },
                      {
                        "bin_start": 7.4,
                        "bin_end": 8.6,
                        "count": 0
                      },
                      {
                        "bin_start": 8.6,
                        "bin_end": 9.8,
                        "count": 2
                      },
                      {
                        "bin_start": 9.8,
                        "bin_end": 11,
                        "count": 0
                      },
                      {
                        "bin_start": 11,
                        "bin_end": 12.2,
                        "count": 0
                      },
                      {
                        "bin_start": 12.2,
                        "bin_end": 13.4,
                        "count": 1
                      },
                      {
                        "bin_start": 13.4,
                        "bin_end": 14.6,
                        "count": 1
                      },
                      {
                        "bin_start": 14.6,
                        "bin_end": 15.799999999999999,
                        "count": 2
                      },
                      {
                        "bin_start": 15.799999999999999,
                        "bin_end": 17,
                        "count": 1
                      }
                    ]
                  }
                },
                {
                  "name": "fouls against team2",
                  "dtype": "int64",
                  "stats": {
                    "unique_count": 7,
                    "nan_count": 0,
                    "min": "10",
                    "max": "21",
                    "histogram": [
                      {
                        "bin_start": 10,
                        "bin_end": 11.1,
                        "count": 4
                      },
                      {
                        "bin_start": 11.1,
                        "bin_end": 12.2,
                        "count": 0
                      },
                      {
                        "bin_start": 12.2,
                        "bin_end": 13.3,
                        "count": 1
                      },
                      {
                        "bin_start": 13.3,
                        "bin_end": 14.4,
                        "count": 2
                      },
                      {
                        "bin_start": 14.4,
                        "bin_end": 15.5,
                        "count": 1
                      },
                      {
                        "bin_start": 15.5,
                        "bin_end": 16.6,
                        "count": 1
                      },
                      {
                        "bin_start": 16.6,
                        "bin_end": 17.700000000000003,
                        "count": 0
                      },
                      {
                        "bin_start": 17.700000000000003,
                        "bin_end": 18.8,
                        "count": 0
                      },
                      {
                        "bin_start": 18.8,
                        "bin_end": 19.9,
                        "count": 0
                      },
                      {
                        "bin_start": 19.9,
                        "bin_end": 21,
                        "count": 1
                      }
                    ]
                  }
                },
                {
                  "name": "offsides team1",
                  "dtype": "int64",
                  "stats": {
                    "unique_count": 6,
                    "nan_count": 0,
                    "min": "0",
                    "max": "10",
                    "histogram": [
                      {
                        "bin_start": 0,
                        "bin_end": 1,
                        "count": 2
                      },
                      {
                        "bin_start": 1,
                        "bin_end": 2,
                        "count": 2
                      },
                      {
                        "bin_start": 2,
                        "bin_end": 3,
                        "count": 2
                      },
                      {
                        "bin_start": 3,
                        "bin_end": 4,
                        "count": 2
                      },
                      {
                        "bin_start": 4,
                        "bin_end": 5,
                        "count": 1
                      },
                      {
                        "bin_start": 5,
                        "bin_end": 6,
                        "count": 0
                      },
                      {
                        "bin_start": 6,
                        "bin_end": 7,
                        "count": 0
                      },
                      {
                        "bin_start": 7,
                        "bin_end": 8,
                        "count": 0
                      },
                      {
                        "bin_start": 8,
                        "bin_end": 9,
                        "count": 0
                      },
                      {
                        "bin_start": 9,
                        "bin_end": 10,
                        "count": 1
                      }
                    ]
                  }
                },
                {
                  "name": "offsides team2",
                  "dtype": "int64",
                  "stats": {
                    "unique_count": 4,
                    "nan_count": 0,
                    "min": "0",
                    "max": "4",
                    "histogram": [
                      {
                        "bin_start": 0,
                        "bin_end": 0.4,
                        "count": 2
                      },
                      {
                        "bin_start": 0.4,
                        "bin_end": 0.8,
                        "count": 0
                      },
                      {
                        "bin_start": 0.8,
                        "bin_end": 1.2000000000000002,
                        "count": 5
                      },
                      {
                        "bin_start": 1.2000000000000002,
                        "bin_end": 1.6,
                        "count": 0
                      },
                      {
                        "bin_start": 1.6,
                        "bin_end": 2,
                        "count": 0
                      },
                      {
                        "bin_start": 2,
                        "bin_end": 2.4000000000000004,
                        "count": 1
                      },
                      {
                        "bin_start": 2.4000000000000004,
                        "bin_end": 2.8000000000000003,
                        "count": 0
                      },
                      {
                        "bin_start": 2.8000000000000003,
                        "bin_end": 3.2,
                        "count": 0
                      },
                      {
                        "bin_start": 3.2,
                        "bin_end": 3.6,
                        "count": 0
                      },
                      {
                        "bin_start": 3.6,
                        "bin_end": 4,
                        "count": 2
                      }
                    ]
                  }
                },
                {
                  "name": "passes team1",
                  "dtype": "int64",
                  "stats": {
                    "unique_count": 10,
                    "nan_count": 0,
                    "min": "360",
                    "max": "820",
                    "histogram": [
                      {
                        "bin_start": 360,
                        "bin_end": 406,
                        "count": 2
                      },
                      {
                        "bin_start": 406,
                        "bin_end": 452,
                        "count": 1
                      },
                      {
                        "bin_start": 452,
                        "bin_end": 498,
                        "count": 1
                      },
                      {
                        "bin_start": 498,
                        "bin_end": 544,
                        "count": 0
                      },
                      {
                        "bin_start": 544,
                        "bin_end": 590,
                        "count": 1
                      },
                      {
                        "bin_start": 590,
                        "bin_end": 636,
                        "count": 2
                      },
                      {
                        "bin_start": 636,
                        "bin_end": 682,
                        "count": 0
                      },
                      {
                        "bin_start": 682,
                        "bin_end": 728,
                        "count": 0
                      },
                      {
                        "bin_start": 728,
                        "bin_end": 774,
                        "count": 1
                      },
                      {
                        "bin_start": 774,
                        "bin_end": 820,
                        "count": 2
                      }
                    ]
                  }
                },
                {
                  "name": "passes team2",
                  "dtype": "int64",
                  "stats": {
                    "unique_count": 10,
                    "nan_count": 0,
                    "min": "224",
                    "max": "667",
                    "histogram": [
                      {
                        "bin_start": 224,
                        "bin_end": 268.3,
                        "count": 3
                      },
                      {
                        "bin_start": 268.3,
                        "bin_end": 312.6,
                        "count": 0
                      },
                      {
                        "bin_start": 312.6,
                        "bin_end": 356.9,
                        "count": 1
                      },
                      {
                        "bin_start": 356.9,
                        "bin_end": 401.2,
                        "count": 1
                      },
                      {
                        "bin_start": 401.2,
                        "bin_end": 445.5,
                        "count": 2
                      },
                      {
                        "bin_start": 445.5,
                        "bin_end": 489.79999999999995,
                        "count": 2
                      },
                      {
                        "bin_start": 489.79999999999995,
                        "bin_end": 534.0999999999999,
                        "count": 0
                      },
                      {
                        "bin_start": 534.0999999999999,
                        "bin_end": 578.4,
                        "count": 0
                      },
                      {
                        "bin_start": 578.4,
                        "bin_end": 622.7,
                        "count": 0
                      },
                      {
                        "bin_start": 622.7,
                        "bin_end": 667,
                        "count": 1
                      }
                    ]
                  }
                },
                {
                  "name": "passes completed team1",
                  "dtype": "int64",
                  "stats": {
                    "unique_count": 10,
                    "nan_count": 0,
                    "min": "290",
                    "max": "743",
                    "histogram": [
                      {
                        "bin_start": 290,
                        "bin_end": 335.3,
                        "count": 2
                      },
                      {
                        "bin_start": 335.3,
                        "bin_end": 380.6,
                        "count": 0
                      },
                      {
                        "bin_start": 380.6,
                        "bin_end": 425.9,
                        "count": 2
                      },
                      {
                        "bin_start": 425.9,
                        "bin_end": 471.2,
                        "count": 0
                      },
                      {
                        "bin_start": 471.2,
                        "bin_end": 516.5,
                        "count": 1
                      },
                      {
                        "bin_start": 516.5,
                        "bin_end": 561.8,
                        "count": 2
                      },
                      {
                        "bin_start": 561.8,
                        "bin_end": 607.0999999999999,
                        "count": 0
                      },
                      {
                        "bin_start": 607.0999999999999,
                        "bin_end": 652.4,
                        "count": 0
                      },
                      {
                        "bin_start": 652.4,
                        "bin_end": 697.7,
                        "count": 1
                      },
                      {
                        "bin_start": 697.7,
                        "bin_end": 743,
                        "count": 2
                      }
                    ]
                  }
                },
                {
                  "name": "passes completed team2",
                  "dtype": "int64",
                  "stats": {
                    "unique_count": 10,
                    "nan_count": 0,
                    "min": "154",
                    "max": "592",
                    "histogram": [
                      {
                        "bin_start": 154,
                        "bin_end": 197.8,
                        "count": 2
                      },
                      {
                        "bin_start": 197.8,
                        "bin_end": 241.6,
                        "count": 2
                      },
                      {
                        "bin_start": 241.6,
                        "bin_end": 285.4,
                        "count": 0
                      },
                      {
                        "bin_start": 285.4,
                        "bin_end": 329.2,
                        "count": 2
                      },
                      {
                        "bin_start": 329.2,
                        "bin_end": 373,
                        "count": 0
                      },
                      {
                        "bin_start": 373,
                        "bin_end": 416.79999999999995,
                        "count": 3
                      },
                      {
                        "bin_start": 416.79999999999995,
                        "bin_end": 460.59999999999997,
                        "count": 0
                      },
                      {
                        "bin_start": 460.59999999999997,
                        "bin_end": 504.4,
                        "count": 0
                      },
                      {
                        "bin_start": 504.4,
                        "bin_end": 548.2,
                        "count": 0
                      },
                      {
                        "bin_start": 548.2,
                        "bin_end": 592,
                        "count": 1
                      }
                    ]
                  }
                },
                {
                  "name": "crosses team1",
                  "dtype": "int64",
                  "stats": {
                    "unique_count": 10,
                    "nan_count": 0,
                    "min": "9",
                    "max": "34",
                    "histogram": [
                      {
                        "bin_start": 9,
                        "bin_end": 11.5,
                        "count": 2
                      },
                      {
                        "bin_start": 11.5,
                        "bin_end": 14,
                        "count": 0
                      },
                      {
                        "bin_start": 14,
                        "bin_end": 16.5,
                        "count": 0
                      },
                      {
                        "bin_start": 16.5,
                        "bin_end": 19,
                        "count": 0
                      },
                      {
                        "bin_start": 19,
                        "bin_end": 21.5,
                        "count": 1
                      },
                      {
                        "bin_start": 21.5,
                        "bin_end": 24,
                        "count": 1
                      },
                      {
                        "bin_start": 24,
                        "bin_end": 26.5,
                        "count": 0
                      },
                      {
                        "bin_start": 26.5,
                        "bin_end": 29,
                        "count": 2
                      },
                      {
                        "bin_start": 29,
                        "bin_end": 31.5,
                        "count": 2
                      },
                      {
                        "bin_start": 31.5,
                        "bin_end": 34,
                        "count": 2
                      }
                    ]
                  }
                },
                {
                  "name": "crosses team2",
                  "dtype": "int64",
                  "stats": {
                    "unique_count": 9,
                    "nan_count": 0,
                    "min": "8",
                    "max": "25",
                    "histogram": [
                      {
                        "bin_start": 8,
                        "bin_end": 9.7,
                        "count": 3
                      },
                      {
                        "bin_start": 9.7,
                        "bin_end": 11.4,
                        "count": 1
                      },
                      {
                        "bin_start": 11.4,
                        "bin_end": 13.1,
                        "count": 1
                      },
                      {
                        "bin_start": 13.1,
                        "bin_end": 14.8,
                        "count": 1
                      },
                      {
                        "bin_start": 14.8,
                        "bin_end": 16.5,
                        "count": 2
                      },
                      {
                        "bin_start": 16.5,
                        "bin_end": 18.2,
                        "count": 0
                      },
                      {
                        "bin_start": 18.2,
                        "bin_end": 19.9,
                        "count": 1
                      },
                      {
                        "bin_start": 19.9,
                        "bin_end": 21.6,
                        "count": 0
                      },
                      {
                        "bin_start": 21.6,
                        "bin_end": 23.299999999999997,
                        "count": 0
                      },
                      {
                        "bin_start": 23.299999999999997,
                        "bin_end": 25,
                        "count": 1
                      }
                    ]
                  }
                },
                {
                  "name": "crosses completed team1",
                  "dtype": "int64",
                  "stats": {
                    "unique_count": 8,
                    "nan_count": 0,
                    "min": "1",
                    "max": "17",
                    "histogram": [
                      {
                        "bin_start": 1,
                        "bin_end": 2.6,
                        "count": 1
                      },
                      {
                        "bin_start": 2.6,
                        "bin_end": 4.2,
                        "count": 2
                      },
                      {
                        "bin_start": 4.2,
                        "bin_end": 5.800000000000001,
                        "count": 0
                      },
                      {
                        "bin_start": 5.800000000000001,
                        "bin_end": 7.4,
                        "count": 2
                      },
                      {
                        "bin_start": 7.4,
                        "bin_end": 9,
                        "count": 1
                      },
                      {
                        "bin_start": 9,
                        "bin_end": 10.600000000000001,
                        "count": 2
                      },
                      {
                        "bin_start": 10.600000000000001,
                        "bin_end": 12.200000000000001,
                        "count": 1
                      },
                      {
                        "bin_start": 12.200000000000001,
                        "bin_end": 13.8,
                        "count": 0
                      },
                      {
                        "bin_start": 13.8,
                        "bin_end": 15.4,
                        "count": 0
                      },
                      {
                        "bin_start": 15.4,
                        "bin_end": 17,
                        "count": 1
                      }
                    ]
                  }
                },
                {
                  "name": "crosses completed team2",
                  "dtype": "int64",
                  "stats": {
                    "unique_count": 6,
                    "nan_count": 0,
                    "min": "1",
                    "max": "8",
                    "histogram": [
                      {
                        "bin_start": 1,
                        "bin_end": 1.7,
                        "count": 1
                      },
                      {
                        "bin_start": 1.7,
                        "bin_end": 2.4,
                        "count": 3
                      },
                      {
                        "bin_start": 2.4,
                        "bin_end": 3.0999999999999996,
                        "count": 2
                      },
                      {
                        "bin_start": 3.0999999999999996,
                        "bin_end": 3.8,
                        "count": 0
                      },
                      {
                        "bin_start": 3.8,
                        "bin_end": 4.5,
                        "count": 2
                      },
                      {
                        "bin_start": 4.5,
                        "bin_end": 5.199999999999999,
                        "count": 0
                      },
                      {
                        "bin_start": 5.199999999999999,
                        "bin_end": 5.8999999999999995,
                        "count": 0
                      },
                      {
                        "bin_start": 5.8999999999999995,
                        "bin_end": 6.6,
                        "count": 1
                      },
                      {
                        "bin_start": 6.6,
                        "bin_end": 7.3,
                        "count": 0
                      },
                      {
                        "bin_start": 7.3,
                        "bin_end": 8,
                        "count": 1
                      }
                    ]
                  }
                },
                {
                  "name": "switches of play completed team1",
                  "dtype": "int64",
                  "stats": {
                    "unique_count": 6,
                    "nan_count": 0,
                    "min": "4",
                    "max": "12",
                    "histogram": [
                      {
                        "bin_start": 4,
                        "bin_end": 4.8,
                        "count": 1
                      },
                      {
                        "bin_start": 4.8,
                        "bin_end": 5.6,
                        "count": 2
                      },
                      {
                        "bin_start": 5.6,
                        "bin_end": 6.4,
                        "count": 2
                      },
                      {
                        "bin_start": 6.4,
                        "bin_end": 7.2,
                        "count": 0
                      },
                      {
                        "bin_start": 7.2,
                        "bin_end": 8,
                        "count": 0
                      },
                      {
                        "bin_start": 8,
                        "bin_end": 8.8,
                        "count": 0
                      },
                      {
                        "bin_start": 8.8,
                        "bin_end": 9.600000000000001,
                        "count": 3
                      },
                      {
                        "bin_start": 9.600000000000001,
                        "bin_end": 10.4,
                        "count": 0
                      },
                      {
                        "bin_start": 10.4,
                        "bin_end": 11.2,
                        "count": 1
                      },
                      {
                        "bin_start": 11.2,
                        "bin_end": 12,
                        "count": 1
                      }
                    ]
                  }
                },
                {
                  "name": "switches of play completed team2",
                  "dtype": "int64",
                  "stats": {
                    "unique_count": 8,
                    "nan_count": 0,
                    "min": "1",
                    "max": "9",
                    "histogram": [
                      {
                        "bin_start": 1,
                        "bin_end": 1.8,
                        "count": 2
                      },
                      {
                        "bin_start": 1.8,
                        "bin_end": 2.6,
                        "count": 1
                      },
                      {
                        "bin_start": 2.6,
                        "bin_end": 3.4000000000000004,
                        "count": 1
                      },
                      {
                        "bin_start": 3.4000000000000004,
                        "bin_end": 4.2,
                        "count": 0
                      },
                      {
                        "bin_start": 4.2,
                        "bin_end": 5,
                        "count": 0
                      },
                      {
                        "bin_start": 5,
                        "bin_end": 5.800000000000001,
                        "count": 1
                      },
                      {
                        "bin_start": 5.800000000000001,
                        "bin_end": 6.6000000000000005,
                        "count": 1
                      },
                      {
                        "bin_start": 6.6000000000000005,
                        "bin_end": 7.4,
                        "count": 2
                      },
                      {
                        "bin_start": 7.4,
                        "bin_end": 8.2,
                        "count": 1
                      },
                      {
                        "bin_start": 8.2,
                        "bin_end": 9,
                        "count": 1
                      }
                    ]
                  }
                },
                {
                  "name": "corners team1",
                  "dtype": "int64",
                  "stats": {
                    "unique_count": 7,
                    "nan_count": 0,
                    "min": "0",
                    "max": "11",
                    "histogram": [
                      {
                        "bin_start": 0,
                        "bin_end": 1.1,
                        "count": 2
                      },
                      {
                        "bin_start": 1.1,
                        "bin_end": 2.2,
                        "count": 0
                      },
                      {
                        "bin_start": 2.2,
                        "bin_end": 3.3000000000000003,
                        "count": 0
                      },
                      {
                        "bin_start": 3.3000000000000003,
                        "bin_end": 4.4,
                        "count": 0
                      },
                      {
                        "bin_start": 4.4,
                        "bin_end": 5.5,
                        "count": 1
                      },
                      {
                        "bin_start": 5.5,
                        "bin_end": 6.6000000000000005,
                        "count": 3
                      },
                      {
                        "bin_start": 6.6000000000000005,
                        "bin_end": 7.700000000000001,
                        "count": 0
                      },
                      {
                        "bin_start": 7.700000000000001,
                        "bin_end": 8.8,
                        "count": 2
                      },
                      {
                        "bin_start": 8.8,
                        "bin_end": 9.9,
                        "count": 1
                      },
                      {
                        "bin_start": 9.9,
                        "bin_end": 11,
                        "count": 1
                      }
                    ]
                  }
                },
                {
                  "name": "corners team2",
                  "dtype": "int64",
                  "stats": {
                    "unique_count": 8,
                    "nan_count": 0,
                    "min": "0",
                    "max": "9",
                    "histogram": [
                      {
                        "bin_start": 0,
                        "bin_end": 0.9,
                        "count": 1
                      },
                      {
                        "bin_start": 0.9,
                        "bin_end": 1.8,
                        "count": 1
                      },
                      {
                        "bin_start": 1.8,
                        "bin_end": 2.7,
                        "count": 1
                      },
                      {
                        "bin_start": 2.7,
                        "bin_end": 3.6,
                        "count": 2
                      },
                      {
                        "bin_start": 3.6,
                        "bin_end": 4.5,
                        "count": 0
                      },
                      {
                        "bin_start": 4.5,
                        "bin_end": 5.4,
                        "count": 2
                      },
                      {
                        "bin_start": 5.4,
                        "bin_end": 6.3,
                        "count": 1
                      },
                      {
                        "bin_start": 6.3,
                        "bin_end": 7.2,
                        "count": 1
                      },
                      {
                        "bin_start": 7.2,
                        "bin_end": 8.1,
                        "count": 0
                      },
                      {
                        "bin_start": 8.1,
                        "bin_end": 9,
                        "count": 1
                      }
                    ]
                  }
                },
                {
                  "name": "free kicks team1",
                  "dtype": "int64",
                  "stats": {
                    "unique_count": 7,
                    "nan_count": 0,
                    "min": "11",
                    "max": "22",
                    "histogram": [
                      {
                        "bin_start": 11,
                        "bin_end": 12.1,
                        "count": 4
                      },
                      {
                        "bin_start": 12.1,
                        "bin_end": 13.2,
                        "count": 0
                      },
                      {
                        "bin_start": 13.2,
                        "bin_end": 14.3,
                        "count": 1
                      },
                      {
                        "bin_start": 14.3,
                        "bin_end": 15.4,
                        "count": 0
                      },
                      {
                        "bin_start": 15.4,
                        "bin_end": 16.5,
                        "count": 2
                      },
                      {
                        "bin_start": 16.5,
                        "bin_end": 17.6,
                        "count": 1
                      },
                      {
                        "bin_start": 17.6,
                        "bin_end": 18.700000000000003,
                        "count": 0
                      },
                      {
                        "bin_start": 18.700000000000003,
                        "bin_end": 19.8,
                        "count": 1
                      },
                      {
                        "bin_start": 19.8,
                        "bin_end": 20.9,
                        "count": 0
                      },
                      {
                        "bin_start": 20.9,
                        "bin_end": 22,
                        "count": 1
                      }
                    ]
                  }
                },
                {
                  "name": "free kicks team2",
                  "dtype": "int64",
                  "stats": {
                    "unique_count": 6,
                    "nan_count": 0,
                    "min": "5",
                    "max": "17",
                    "histogram": [
                      {
                        "bin_start": 5,
                        "bin_end": 6.2,
                        "count": 1
                      },
                      {
                        "bin_start": 6.2,
                        "bin_end": 7.4,
                        "count": 0
                      },
                      {
                        "bin_start": 7.4,
                        "bin_end": 8.6,
                        "count": 0
                      },
                      {
                        "bin_start": 8.6,
                        "bin_end": 9.8,
                        "count": 0
                      },
                      {
                        "bin_start": 9.8,
                        "bin_end": 11,
                        "count": 3
                      },
                      {
                        "bin_start": 11,
                        "bin_end": 12.2,
                        "count": 0
                      },
                      {
                        "bin_start": 12.2,
                        "bin_end": 13.4,
                        "count": 0
                      },
                      {
                        "bin_start": 13.4,
                        "bin_end": 14.6,
                        "count": 1
                      },
                      {
                        "bin_start": 14.6,
                        "bin_end": 15.799999999999999,
                        "count": 1
                      },
                      {
                        "bin_start": 15.799999999999999,
                        "bin_end": 17,
                        "count": 4
                      }
                    ]
                  }
                },
                {
                  "name": "penalties scored team1",
                  "dtype": "int64",
                  "stats": {
                    "unique_count": 2,
                    "nan_count": 0,
                    "min": "0",
                    "max": "1",
                    "histogram": [
                      {
                        "bin_start": 0,
                        "bin_end": 0.1,
                        "count": 8
                      },
                      {
                        "bin_start": 0.1,
                        "bin_end": 0.2,
                        "count": 0
                      },
                      {
                        "bin_start": 0.2,
                        "bin_end": 0.30000000000000004,
                        "count": 0
                      },
                      {
                        "bin_start": 0.30000000000000004,
                        "bin_end": 0.4,
                        "count": 0
                      },
                      {
                        "bin_start": 0.4,
                        "bin_end": 0.5,
                        "count": 0
                      },
                      {
                        "bin_start": 0.5,
                        "bin_end": 0.6000000000000001,
                        "count": 0
                      },
                      {
                        "bin_start": 0.6000000000000001,
                        "bin_end": 0.7000000000000001,
                        "count": 0
                      },
                      {
                        "bin_start": 0.7000000000000001,
                        "bin_end": 0.8,
                        "count": 0
                      },
                      {
                        "bin_start": 0.8,
                        "bin_end": 0.9,
                        "count": 0
                      },
                      {
                        "bin_start": 0.9,
                        "bin_end": 1,
                        "count": 2
                      }
                    ]
                  }
                },
                {
                  "name": "penalties scored team2",
                  "dtype": "int64",
                  "stats": {
                    "unique_count": 2,
                    "nan_count": 0,
                    "min": "0",
                    "max": "1",
                    "histogram": [
                      {
                        "bin_start": 0,
                        "bin_end": 0.1,
                        "count": 7
                      },
                      {
                        "bin_start": 0.1,
                        "bin_end": 0.2,
                        "count": 0
                      },
                      {
                        "bin_start": 0.2,
                        "bin_end": 0.30000000000000004,
                        "count": 0
                      },
                      {
                        "bin_start": 0.30000000000000004,
                        "bin_end": 0.4,
                        "count": 0
                      },
                      {
                        "bin_start": 0.4,
                        "bin_end": 0.5,
                        "count": 0
                      },
                      {
                        "bin_start": 0.5,
                        "bin_end": 0.6000000000000001,
                        "count": 0
                      },
                      {
                        "bin_start": 0.6000000000000001,
                        "bin_end": 0.7000000000000001,
                        "count": 0
                      },
                      {
                        "bin_start": 0.7000000000000001,
                        "bin_end": 0.8,
                        "count": 0
                      },
                      {
                        "bin_start": 0.8,
                        "bin_end": 0.9,
                        "count": 0
                      },
                      {
                        "bin_start": 0.9,
                        "bin_end": 1,
                        "count": 3
                      }
                    ]
                  }
                },
                {
                  "name": "goal preventions team1",
                  "dtype": "int64",
                  "stats": {
                    "unique_count": 7,
                    "nan_count": 0,
                    "min": "4",
                    "max": "12",
                    "histogram": [
                      {
                        "bin_start": 4,
                        "bin_end": 4.8,
                        "count": 2
                      },
                      {
                        "bin_start": 4.8,
                        "bin_end": 5.6,
                        "count": 0
                      },
                      {
                        "bin_start": 5.6,
                        "bin_end": 6.4,
                        "count": 1
                      },
                      {
                        "bin_start": 6.4,
                        "bin_end": 7.2,
                        "count": 2
                      },
                      {
                        "bin_start": 7.2,
                        "bin_end": 8,
                        "count": 0
                      },
                      {
                        "bin_start": 8,
                        "bin_end": 8.8,
                        "count": 2
                      },
                      {
                        "bin_start": 8.8,
                        "bin_end": 9.600000000000001,
                        "count": 1
                      },
                      {
                        "bin_start": 9.600000000000001,
                        "bin_end": 10.4,
                        "count": 0
                      },
                      {
                        "bin_start": 10.4,
                        "bin_end": 11.2,
                        "count": 1
                      },
                      {
                        "bin_start": 11.2,
                        "bin_end": 12,
                        "count": 1
                      }
                    ]
                  }
                },
                {
                  "name": "goal preventions team2",
                  "dtype": "int64",
                  "stats": {
                    "unique_count": 9,
                    "nan_count": 0,
                    "min": "5",
                    "max": "26",
                    "histogram": [
                      {
                        "bin_start": 5,
                        "bin_end": 7.1,
                        "count": 2
                      },
                      {
                        "bin_start": 7.1,
                        "bin_end": 9.2,
                        "count": 1
                      },
                      {
                        "bin_start": 9.2,
                        "bin_end": 11.3,
                        "count": 1
                      },
                      {
                        "bin_start": 11.3,
                        "bin_end": 13.4,
                        "count": 1
                      },
                      {
                        "bin_start": 13.4,
                        "bin_end": 15.5,
                        "count": 3
                      },
                      {
                        "bin_start": 15.5,
                        "bin_end": 17.6,
                        "count": 0
                      },
                      {
                        "bin_start": 17.6,
                        "bin_end": 19.700000000000003,
                        "count": 0
                      },
                      {
                        "bin_start": 19.700000000000003,
                        "bin_end": 21.8,
                        "count": 0
                      },
                      {
                        "bin_start": 21.8,
                        "bin_end": 23.900000000000002,
                        "count": 1
                      },
                      {
                        "bin_start": 23.900000000000002,
                        "bin_end": 26,
                        "count": 1
                      }
                    ]
                  }
                },
                {
                  "name": "own goals team1",
                  "dtype": "int64",
                  "stats": {
                    "unique_count": 1,
                    "nan_count": 0,
                    "min": "0",
                    "max": "0",
                    "histogram": [
                      {
                        "bin_start": -0.5,
                        "bin_end": -0.4,
                        "count": 0
                      },
                      {
                        "bin_start": -0.4,
                        "bin_end": -0.3,
                        "count": 0
                      },
                      {
                        "bin_start": -0.3,
                        "bin_end": -0.19999999999999996,
                        "count": 0
                      },
                      {
                        "bin_start": -0.19999999999999996,
                        "bin_end": -0.09999999999999998,
                        "count": 0
                      },
                      {
                        "bin_start": -0.09999999999999998,
                        "bin_end": 0,
                        "count": 0
                      },
                      {
                        "bin_start": 0,
                        "bin_end": 0.10000000000000009,
                        "count": 10
                      },
                      {
                        "bin_start": 0.10000000000000009,
                        "bin_end": 0.20000000000000007,
                        "count": 0
                      },
                      {
                        "bin_start": 0.20000000000000007,
                        "bin_end": 0.30000000000000004,
                        "count": 0
                      },
                      {
                        "bin_start": 0.30000000000000004,
                        "bin_end": 0.4,
                        "count": 0
                      },
                      {
                        "bin_start": 0.4,
                        "bin_end": 0.5,
                        "count": 0
                      }
                    ]
                  }
                },
                {
                  "name": "own goals team2",
                  "dtype": "int64",
                  "stats": {
                    "unique_count": 1,
                    "nan_count": 0,
                    "min": "0",
                    "max": "0",
                    "histogram": [
                      {
                        "bin_start": -0.5,
                        "bin_end": -0.4,
                        "count": 0
                      },
                      {
                        "bin_start": -0.4,
                        "bin_end": -0.3,
                        "count": 0
                      },
                      {
                        "bin_start": -0.3,
                        "bin_end": -0.19999999999999996,
                        "count": 0
                      },
                      {
                        "bin_start": -0.19999999999999996,
                        "bin_end": -0.09999999999999998,
                        "count": 0
                      },
                      {
                        "bin_start": -0.09999999999999998,
                        "bin_end": 0,
                        "count": 0
                      },
                      {
                        "bin_start": 0,
                        "bin_end": 0.10000000000000009,
                        "count": 10
                      },
                      {
                        "bin_start": 0.10000000000000009,
                        "bin_end": 0.20000000000000007,
                        "count": 0
                      },
                      {
                        "bin_start": 0.20000000000000007,
                        "bin_end": 0.30000000000000004,
                        "count": 0
                      },
                      {
                        "bin_start": 0.30000000000000004,
                        "bin_end": 0.4,
                        "count": 0
                      },
                      {
                        "bin_start": 0.4,
                        "bin_end": 0.5,
                        "count": 0
                      }
                    ]
                  }
                },
                {
                  "name": "forced turnovers team1",
                  "dtype": "int64",
                  "stats": {
                    "unique_count": 9,
                    "nan_count": 0,
                    "min": "52",
                    "max": "87",
                    "histogram": [
                      {
                        "bin_start": 52,
                        "bin_end": 55.5,
                        "count": 2
                      },
                      {
                        "bin_start": 55.5,
                        "bin_end": 59,
                        "count": 0
                      },
                      {
                        "bin_start": 59,
                        "bin_end": 62.5,
                        "count": 1
                      },
                      {
                        "bin_start": 62.5,
                        "bin_end": 66,
                        "count": 4
                      },
                      {
                        "bin_start": 66,
                        "bin_end": 69.5,
                        "count": 0
                      },
                      {
                        "bin_start": 69.5,
                        "bin_end": 73,
                        "count": 0
                      },
                      {
                        "bin_start": 73,
                        "bin_end": 76.5,
                        "count": 1
                      },
                      {
                        "bin_start": 76.5,
                        "bin_end": 80,
                        "count": 0
                      },
                      {
                        "bin_start": 80,
                        "bin_end": 83.5,
                        "count": 1
                      },
                      {
                        "bin_start": 83.5,
                        "bin_end": 87,
                        "count": 1
                      }
                    ]
                  }
                },
                {
                  "name": "forced turnovers team2",
                  "dtype": "int64",
                  "stats": {
                    "unique_count": 7,
                    "nan_count": 0,
                    "min": "56",
                    "max": "87",
                    "histogram": [
                      {
                        "bin_start": 56,
                        "bin_end": 59.1,
                        "count": 2
                      },
                      {
                        "bin_start": 59.1,
                        "bin_end": 62.2,
                        "count": 0
                      },
                      {
                        "bin_start": 62.2,
                        "bin_end": 65.3,
                        "count": 0
                      },
                      {
                        "bin_start": 65.3,
                        "bin_end": 68.4,
                        "count": 0
                      },
                      {
                        "bin_start": 68.4,
                        "bin_end": 71.5,
                        "count": 1
                      },
                      {
                        "bin_start": 71.5,
                        "bin_end": 74.6,
                        "count": 5
                      },
                      {
                        "bin_start": 74.6,
                        "bin_end": 77.7,
                        "count": 0
                      },
                      {
                        "bin_start": 77.7,
                        "bin_end": 80.8,
                        "count": 1
                      },
                      {
                        "bin_start": 80.8,
                        "bin_end": 83.9,
                        "count": 0
                      },
                      {
                        "bin_start": 83.9,
                        "bin_end": 87,
                        "count": 1
                      }
                    ]
                  }
                },
                {
                  "name": "defensive pressures applied team1",
                  "dtype": "int64",
                  "stats": {
                    "unique_count": 10,
                    "nan_count": 0,
                    "min": "139",
                    "max": "391",
                    "histogram": [
                      {
                        "bin_start": 139,
                        "bin_end": 164.2,
                        "count": 3
                      },
                      {
                        "bin_start": 164.2,
                        "bin_end": 189.4,
                        "count": 0
                      },
                      {
                        "bin_start": 189.4,
                        "bin_end": 214.6,
                        "count": 1
                      },
                      {
                        "bin_start": 214.6,
                        "bin_end": 239.8,
                        "count": 1
                      },
                      {
                        "bin_start": 239.8,
                        "bin_end": 265,
                        "count": 4
                      },
                      {
                        "bin_start": 265,
                        "bin_end": 290.2,
                        "count": 0
                      },
                      {
                        "bin_start": 290.2,
                        "bin_end": 315.4,
                        "count": 0
                      },
                      {
                        "bin_start": 315.4,
                        "bin_end": 340.6,
                        "count": 0
                      },
                      {
                        "bin_start": 340.6,
                        "bin_end": 365.79999999999995,
                        "count": 0
                      },
                      {
                        "bin_start": 365.79999999999995,
                        "bin_end": 391,
                        "count": 1
                      }
                    ]
                  }
                },
                {
                  "name": "defensive pressures applied team2",
                  "dtype": "int64",
                  "stats": {
                    "unique_count": 10,
                    "nan_count": 0,
                    "min": "217",
                    "max": "487",
                    "histogram": [
                      {
                        "bin_start": 217,
                        "bin_end": 244,
                        "count": 1
                      },
                      {
                        "bin_start": 244,
                        "bin_end": 271,
                        "count": 1
                      },
                      {
                        "bin_start": 271,
                        "bin_end": 298,
                        "count": 4
                      },
                      {
                        "bin_start": 298,
                        "bin_end": 325,
                        "count": 1
                      },
                      {
                        "bin_start": 325,
                        "bin_end": 352,
                        "count": 0
                      },
                      {
                        "bin_start": 352,
                        "bin_end": 379,
                        "count": 1
                      },
                      {
                        "bin_start": 379,
                        "bin_end": 406,
                        "count": 0
                      },
                      {
                        "bin_start": 406,
                        "bin_end": 433,
                        "count": 1
                      },
                      {
                        "bin_start": 433,
                        "bin_end": 460,
                        "count": 0
                      },
                      {
                        "bin_start": 460,
                        "bin_end": 487,
                        "count": 1
                      }
                    ]
                  }
                },
                {
                  "name": "_deepnote_index_column",
                  "dtype": "int64"
                }
              ],
              "rows": [
                {
                  "team1": "QATAR",
                  "team2": "ECUADOR",
                  "possession team1": "42%",
                  "possession team2": "50%",
                  "possession in contest": "8%",
                  "number of goals team1": 0,
                  "number of goals team2": 2,
                  "date": "20 NOV 2022",
                  "hour": "17 : 00",
                  "category": "Group A",
                  "total attempts team1": 5,
                  "total attempts team2": 6,
                  "conceded team1": 2,
                  "conceded team2": 0,
                  "goal inside the penalty area team1": 0,
                  "goal inside the penalty area team2": 2,
                  "goal outside the penalty area team1": 0,
                  "goal outside the penalty area team2": 0,
                  "assists team1": 0,
                  "assists team2": 1,
                  "on target attempts team1": 0,
                  "on target attempts team2": 3,
                  "off target attempts team1": 5,
                  "off target attempts team2": 3,
                  "attempts inside the penalty area team1": 2,
                  "attempts inside the penalty area  team2": 4,
                  "attempts outside the penalty area  team1": 3,
                  "attempts outside the penalty area  team2": 2,
                  "left channel team1": 15,
                  "left channel team2": 8,
                  "left inside channel team1": 0,
                  "left inside channel team2": 7,
                  "central channel team1": 3,
                  "central channel team2": 6,
                  "right inside channel team1": 1,
                  "right inside channel team2": 4,
                  "right channel team1": 9,
                  "right channel team2": 6,
                  "total offers to receive team1": 520,
                  "total offers to receive team2": 532,
                  "inbehind offers to receive team1": 116,
                  "inbehind offers to receive team2": 127,
                  "inbetween offers to receive team1": 235,
                  "inbetween offers to receive team2": 187,
                  "infront offers to receive team1": 169,
                  "infront offers to receive team2": 218,
                  "receptions between midfield and defensive lines team1": 5,
                  "receptions between midfield and defensive lines team2": 8,
                  "attempted line breaks team1": 136,
                  "attempted line breaks team2": 155,
                  "completed line breaksteam1": 86,
                  "completed line breaks team2": 99,
                  "attempted defensive line breaks team1": 9,
                  "attempted defensive line breaks team2": 13,
                  "completed defensive line breaksteam1": 4,
                  "completed defensive line breaks team2": 7,
                  "yellow cards team1": 4,
                  "yellow cards team2": 2,
                  "red cards team1": 0,
                  "red cards team2": 0,
                  "fouls against team1": 15,
                  "fouls against team2": 15,
                  "offsides team1": 3,
                  "offsides team2": 4,
                  "passes team1": 450,
                  "passes team2": 480,
                  "passes completed team1": 381,
                  "passes completed team2": 409,
                  "crosses team1": 9,
                  "crosses team2": 14,
                  "crosses completed team1": 4,
                  "crosses completed team2": 4,
                  "switches of play completed team1": 9,
                  "switches of play completed team2": 9,
                  "corners team1": 1,
                  "corners team2": 3,
                  "free kicks team1": 19,
                  "free kicks team2": 17,
                  "penalties scored team1": 0,
                  "penalties scored team2": 1,
                  "goal preventions team1": 6,
                  "goal preventions team2": 5,
                  "own goals team1": 0,
                  "own goals team2": 0,
                  "forced turnovers team1": 52,
                  "forced turnovers team2": 72,
                  "defensive pressures applied team1": 256,
                  "defensive pressures applied team2": 279,
                  "_deepnote_index_column": 0
                },
                {
                  "team1": "SENEGAL",
                  "team2": "NETHERLANDS",
                  "possession team1": "44%",
                  "possession team2": "45%",
                  "possession in contest": "11%",
                  "number of goals team1": 0,
                  "number of goals team2": 2,
                  "date": "21 NOV 2022",
                  "hour": "17 : 00",
                  "category": "Group A",
                  "total attempts team1": 14,
                  "total attempts team2": 9,
                  "conceded team1": 2,
                  "conceded team2": 0,
                  "goal inside the penalty area team1": 0,
                  "goal inside the penalty area team2": 2,
                  "goal outside the penalty area team1": 0,
                  "goal outside the penalty area team2": 0,
                  "assists team1": 0,
                  "assists team2": 1,
                  "on target attempts team1": 3,
                  "on target attempts team2": 3,
                  "off target attempts team1": 8,
                  "off target attempts team2": 5,
                  "attempts inside the penalty area team1": 7,
                  "attempts inside the penalty area  team2": 5,
                  "attempts outside the penalty area  team1": 7,
                  "attempts outside the penalty area  team2": 4,
                  "left channel team1": 12,
                  "left channel team2": 11,
                  "left inside channel team1": 4,
                  "left inside channel team2": 2,
                  "central channel team1": 2,
                  "central channel team2": 2,
                  "right inside channel team1": 4,
                  "right inside channel team2": 7,
                  "right channel team1": 13,
                  "right channel team2": 20,
                  "total offers to receive team1": 502,
                  "total offers to receive team2": 506,
                  "inbehind offers to receive team1": 123,
                  "inbehind offers to receive team2": 117,
                  "inbetween offers to receive team1": 230,
                  "inbetween offers to receive team2": 191,
                  "infront offers to receive team1": 149,
                  "infront offers to receive team2": 198,
                  "receptions between midfield and defensive lines team1": 15,
                  "receptions between midfield and defensive lines team2": 14,
                  "attempted line breaks team1": 151,
                  "attempted line breaks team2": 162,
                  "completed line breaksteam1": 89,
                  "completed line breaks team2": 96,
                  "attempted defensive line breaks team1": 22,
                  "attempted defensive line breaks team2": 22,
                  "completed defensive line breaksteam1": 15,
                  "completed defensive line breaks team2": 10,
                  "yellow cards team1": 2,
                  "yellow cards team2": 1,
                  "red cards team1": 0,
                  "red cards team2": 0,
                  "fouls against team1": 13,
                  "fouls against team2": 13,
                  "offsides team1": 2,
                  "offsides team2": 1,
                  "passes team1": 383,
                  "passes team2": 438,
                  "passes completed team1": 313,
                  "passes completed team2": 374,
                  "crosses team1": 19,
                  "crosses team2": 25,
                  "crosses completed team1": 7,
                  "crosses completed team2": 8,
                  "switches of play completed team1": 9,
                  "switches of play completed team2": 6,
                  "corners team1": 6,
                  "corners team2": 7,
                  "free kicks team1": 14,
                  "free kicks team2": 14,
                  "penalties scored team1": 0,
                  "penalties scored team2": 0,
                  "goal preventions team1": 9,
                  "goal preventions team2": 15,
                  "own goals team1": 0,
                  "own goals team2": 0,
                  "forced turnovers team1": 63,
                  "forced turnovers team2": 73,
                  "defensive pressures applied team1": 263,
                  "defensive pressures applied team2": 251,
                  "_deepnote_index_column": 2
                },
                {
                  "team1": "ENGLAND",
                  "team2": "IRAN",
                  "possession team1": "72%",
                  "possession team2": "19%",
                  "possession in contest": "9%",
                  "number of goals team1": 6,
                  "number of goals team2": 2,
                  "date": "21 NOV 2022",
                  "hour": "14 : 00",
                  "category": "Group B",
                  "total attempts team1": 13,
                  "total attempts team2": 8,
                  "conceded team1": 2,
                  "conceded team2": 6,
                  "goal inside the penalty area team1": 6,
                  "goal inside the penalty area team2": 2,
                  "goal outside the penalty area team1": 0,
                  "goal outside the penalty area team2": 0,
                  "assists team1": 6,
                  "assists team2": 1,
                  "on target attempts team1": 7,
                  "on target attempts team2": 3,
                  "off target attempts team1": 3,
                  "off target attempts team2": 4,
                  "attempts inside the penalty area team1": 10,
                  "attempts inside the penalty area  team2": 6,
                  "attempts outside the penalty area  team1": 3,
                  "attempts outside the penalty area  team2": 2,
                  "left channel team1": 11,
                  "left channel team2": 3,
                  "left inside channel team1": 5,
                  "left inside channel team2": 0,
                  "central channel team1": 2,
                  "central channel team2": 3,
                  "right inside channel team1": 3,
                  "right inside channel team2": 1,
                  "right channel team1": 11,
                  "right channel team2": 0,
                  "total offers to receive team1": 1061,
                  "total offers to receive team2": 212,
                  "inbehind offers to receive team1": 207,
                  "inbehind offers to receive team2": 53,
                  "inbetween offers to receive team1": 386,
                  "inbetween offers to receive team2": 86,
                  "infront offers to receive team1": 468,
                  "infront offers to receive team2": 73,
                  "receptions between midfield and defensive lines team1": 16,
                  "receptions between midfield and defensive lines team2": 4,
                  "attempted line breaks team1": 238,
                  "attempted line breaks team2": 101,
                  "completed line breaksteam1": 178,
                  "completed line breaks team2": 45,
                  "attempted defensive line breaks team1": 25,
                  "attempted defensive line breaks team2": 7,
                  "completed defensive line breaksteam1": 16,
                  "completed defensive line breaks team2": 4,
                  "yellow cards team1": 0,
                  "yellow cards team2": 2,
                  "red cards team1": 0,
                  "red cards team2": 0,
                  "fouls against team1": 9,
                  "fouls against team2": 14,
                  "offsides team1": 2,
                  "offsides team2": 2,
                  "passes team1": 809,
                  "passes team2": 224,
                  "passes completed team1": 730,
                  "passes completed team2": 154,
                  "crosses team1": 23,
                  "crosses team2": 8,
                  "crosses completed team1": 7,
                  "crosses completed team2": 1,
                  "switches of play completed team1": 12,
                  "switches of play completed team2": 3,
                  "corners team1": 8,
                  "corners team2": 0,
                  "free kicks team1": 16,
                  "free kicks team2": 10,
                  "penalties scored team1": 0,
                  "penalties scored team2": 1,
                  "goal preventions team1": 8,
                  "goal preventions team2": 13,
                  "own goals team1": 0,
                  "own goals team2": 0,
                  "forced turnovers team1": 63,
                  "forced turnovers team2": 72,
                  "defensive pressures applied team1": 139,
                  "defensive pressures applied team2": 416,
                  "_deepnote_index_column": 1
                },
                {
                  "team1": "UNITED STATES",
                  "team2": "WALES",
                  "possession team1": "51%",
                  "possession team2": "39%",
                  "possession in contest": "10%",
                  "number of goals team1": 1,
                  "number of goals team2": 1,
                  "date": "21 NOV 2022",
                  "hour": "20 : 00",
                  "category": "Group B",
                  "total attempts team1": 6,
                  "total attempts team2": 7,
                  "conceded team1": 1,
                  "conceded team2": 1,
                  "goal inside the penalty area team1": 1,
                  "goal inside the penalty area team2": 1,
                  "goal outside the penalty area team1": 0,
                  "goal outside the penalty area team2": 0,
                  "assists team1": 1,
                  "assists team2": 0,
                  "on target attempts team1": 1,
                  "on target attempts team2": 3,
                  "off target attempts team1": 4,
                  "off target attempts team2": 3,
                  "attempts inside the penalty area team1": 4,
                  "attempts inside the penalty area  team2": 5,
                  "attempts outside the penalty area  team1": 2,
                  "attempts outside the penalty area  team2": 2,
                  "left channel team1": 14,
                  "left channel team2": 7,
                  "left inside channel team1": 5,
                  "left inside channel team2": 2,
                  "central channel team1": 4,
                  "central channel team2": 5,
                  "right inside channel team1": 4,
                  "right inside channel team2": 2,
                  "right channel team1": 11,
                  "right channel team2": 7,
                  "total offers to receive team1": 725,
                  "total offers to receive team2": 436,
                  "inbehind offers to receive team1": 149,
                  "inbehind offers to receive team2": 100,
                  "inbetween offers to receive team1": 336,
                  "inbetween offers to receive team2": 172,
                  "infront offers to receive team1": 240,
                  "infront offers to receive team2": 164,
                  "receptions between midfield and defensive lines team1": 12,
                  "receptions between midfield and defensive lines team2": 9,
                  "attempted line breaks team1": 199,
                  "attempted line breaks team2": 174,
                  "completed line breaksteam1": 146,
                  "completed line breaks team2": 103,
                  "attempted defensive line breaks team1": 23,
                  "attempted defensive line breaks team2": 17,
                  "completed defensive line breaksteam1": 15,
                  "completed defensive line breaks team2": 8,
                  "yellow cards team1": 4,
                  "yellow cards team2": 2,
                  "red cards team1": 0,
                  "red cards team2": 0,
                  "fouls against team1": 15,
                  "fouls against team2": 10,
                  "offsides team1": 1,
                  "offsides team2": 1,
                  "passes team1": 569,
                  "passes team2": 409,
                  "passes completed team1": 509,
                  "passes completed team2": 321,
                  "crosses team1": 31,
                  "crosses team2": 15,
                  "crosses completed team1": 4,
                  "crosses completed team2": 6,
                  "switches of play completed team1": 5,
                  "switches of play completed team2": 8,
                  "corners team1": 5,
                  "corners team2": 3,
                  "free kicks team1": 11,
                  "free kicks team2": 15,
                  "penalties scored team1": 0,
                  "penalties scored team2": 1,
                  "goal preventions team1": 7,
                  "goal preventions team2": 7,
                  "own goals team1": 0,
                  "own goals team2": 0,
                  "forced turnovers team1": 81,
                  "forced turnovers team2": 72,
                  "defensive pressures applied team1": 242,
                  "defensive pressures applied team2": 292,
                  "_deepnote_index_column": 3
                },
                {
                  "team1": "ARGENTINA",
                  "team2": "SAUDI ARABIA",
                  "possession team1": "64%",
                  "possession team2": "24%",
                  "possession in contest": "12%",
                  "number of goals team1": 1,
                  "number of goals team2": 2,
                  "date": "22 NOV 2022",
                  "hour": "11 : 00",
                  "category": "Group C",
                  "total attempts team1": 14,
                  "total attempts team2": 3,
                  "conceded team1": 2,
                  "conceded team2": 1,
                  "goal inside the penalty area team1": 1,
                  "goal inside the penalty area team2": 2,
                  "goal outside the penalty area team1": 0,
                  "goal outside the penalty area team2": 0,
                  "assists team1": 0,
                  "assists team2": 1,
                  "on target attempts team1": 6,
                  "on target attempts team2": 2,
                  "off target attempts team1": 5,
                  "off target attempts team2": 0,
                  "attempts inside the penalty area team1": 10,
                  "attempts inside the penalty area  team2": 3,
                  "attempts outside the penalty area  team1": 4,
                  "attempts outside the penalty area  team2": 0,
                  "left channel team1": 12,
                  "left channel team2": 3,
                  "left inside channel team1": 4,
                  "left inside channel team2": 2,
                  "central channel team1": 5,
                  "central channel team2": 3,
                  "right inside channel team1": 8,
                  "right inside channel team2": 3,
                  "right channel team1": 18,
                  "right channel team2": 8,
                  "total offers to receive team1": 650,
                  "total offers to receive team2": 268,
                  "inbehind offers to receive team1": 157,
                  "inbehind offers to receive team2": 69,
                  "inbetween offers to receive team1": 177,
                  "inbetween offers to receive team2": 131,
                  "infront offers to receive team1": 316,
                  "infront offers to receive team2": 68,
                  "receptions between midfield and defensive lines team1": 26,
                  "receptions between midfield and defensive lines team2": 9,
                  "attempted line breaks team1": 191,
                  "attempted line breaks team2": 137,
                  "completed line breaksteam1": 127,
                  "completed line breaks team2": 68,
                  "attempted defensive line breaks team1": 39,
                  "attempted defensive line breaks team2": 15,
                  "completed defensive line breaksteam1": 25,
                  "completed defensive line breaks team2": 7,
                  "yellow cards team1": 0,
                  "yellow cards team2": 6,
                  "red cards team1": 0,
                  "red cards team2": 0,
                  "fouls against team1": 7,
                  "fouls against team2": 21,
                  "offsides team1": 10,
                  "offsides team2": 1,
                  "passes team1": 610,
                  "passes team2": 267,
                  "passes completed team1": 529,
                  "passes completed team2": 190,
                  "crosses team1": 29,
                  "crosses team2": 9,
                  "crosses completed team1": 12,
                  "crosses completed team2": 2,
                  "switches of play completed team1": 5,
                  "switches of play completed team2": 7,
                  "corners team1": 9,
                  "corners team2": 2,
                  "free kicks team1": 22,
                  "free kicks team2": 16,
                  "penalties scored team1": 1,
                  "penalties scored team2": 0,
                  "goal preventions team1": 4,
                  "goal preventions team2": 14,
                  "own goals team1": 0,
                  "own goals team2": 0,
                  "forced turnovers team1": 65,
                  "forced turnovers team2": 80,
                  "defensive pressures applied team1": 163,
                  "defensive pressures applied team2": 361,
                  "_deepnote_index_column": 4
                },
                {
                  "team1": "MEXICO",
                  "team2": "POLAND",
                  "possession team1": "54%",
                  "possession team2": "31%",
                  "possession in contest": "15%",
                  "number of goals team1": 0,
                  "number of goals team2": 0,
                  "date": "22 NOV 2022",
                  "hour": "17 : 00",
                  "category": "Group C",
                  "total attempts team1": 13,
                  "total attempts team2": 8,
                  "conceded team1": 0,
                  "conceded team2": 0,
                  "goal inside the penalty area team1": 0,
                  "goal inside the penalty area team2": 0,
                  "goal outside the penalty area team1": 0,
                  "goal outside the penalty area team2": 0,
                  "assists team1": 0,
                  "assists team2": 0,
                  "on target attempts team1": 4,
                  "on target attempts team2": 1,
                  "off target attempts team1": 5,
                  "off target attempts team2": 4,
                  "attempts inside the penalty area team1": 10,
                  "attempts inside the penalty area  team2": 7,
                  "attempts outside the penalty area  team1": 3,
                  "attempts outside the penalty area  team2": 1,
                  "left channel team1": 20,
                  "left channel team2": 8,
                  "left inside channel team1": 6,
                  "left inside channel team2": 6,
                  "central channel team1": 1,
                  "central channel team2": 6,
                  "right inside channel team1": 3,
                  "right inside channel team2": 4,
                  "right channel team1": 27,
                  "right channel team2": 13,
                  "total offers to receive team1": 547,
                  "total offers to receive team2": 296,
                  "inbehind offers to receive team1": 128,
                  "inbehind offers to receive team2": 72,
                  "inbetween offers to receive team1": 202,
                  "inbetween offers to receive team2": 101,
                  "infront offers to receive team1": 217,
                  "infront offers to receive team2": 123,
                  "receptions between midfield and defensive lines team1": 20,
                  "receptions between midfield and defensive lines team2": 3,
                  "attempted line breaks team1": 170,
                  "attempted line breaks team2": 150,
                  "completed line breaksteam1": 117,
                  "completed line breaks team2": 82,
                  "attempted defensive line breaks team1": 32,
                  "attempted defensive line breaks team2": 12,
                  "completed defensive line breaksteam1": 19,
                  "completed defensive line breaks team2": 2,
                  "yellow cards team1": 2,
                  "yellow cards team2": 1,
                  "red cards team1": 0,
                  "red cards team2": 0,
                  "fouls against team1": 14,
                  "fouls against team2": 16,
                  "offsides team1": 3,
                  "offsides team2": 0,
                  "passes team1": 485,
                  "passes team2": 322,
                  "passes completed team1": 422,
                  "passes completed team2": 241,
                  "crosses team1": 33,
                  "crosses team2": 10,
                  "crosses completed team1": 8,
                  "crosses completed team2": 2,
                  "switches of play completed team1": 9,
                  "switches of play completed team2": 1,
                  "corners team1": 6,
                  "corners team2": 5,
                  "free kicks team1": 16,
                  "free kicks team2": 16,
                  "penalties scored team1": 0,
                  "penalties scored team2": 0,
                  "goal preventions team1": 8,
                  "goal preventions team2": 15,
                  "own goals team1": 0,
                  "own goals team2": 0,
                  "forced turnovers team1": 61,
                  "forced turnovers team2": 70,
                  "defensive pressures applied team1": 193,
                  "defensive pressures applied team2": 290,
                  "_deepnote_index_column": 6
                },
                {
                  "team1": "DENMARK",
                  "team2": "TUNISIA",
                  "possession team1": "55%",
                  "possession team2": "33%",
                  "possession in contest": "12%",
                  "number of goals team1": 0,
                  "number of goals team2": 0,
                  "date": "22 NOV 2022",
                  "hour": "14 : 00",
                  "category": "Group D",
                  "total attempts team1": 11,
                  "total attempts team2": 11,
                  "conceded team1": 0,
                  "conceded team2": 0,
                  "goal inside the penalty area team1": 0,
                  "goal inside the penalty area team2": 0,
                  "goal outside the penalty area team1": 0,
                  "goal outside the penalty area team2": 0,
                  "assists team1": 0,
                  "assists team2": 0,
                  "on target attempts team1": 4,
                  "on target attempts team2": 1,
                  "off target attempts team1": 4,
                  "off target attempts team2": 7,
                  "attempts inside the penalty area team1": 7,
                  "attempts inside the penalty area  team2": 6,
                  "attempts outside the penalty area  team1": 4,
                  "attempts outside the penalty area  team2": 5,
                  "left channel team1": 17,
                  "left channel team2": 9,
                  "left inside channel team1": 4,
                  "left inside channel team2": 2,
                  "central channel team1": 7,
                  "central channel team2": 2,
                  "right inside channel team1": 6,
                  "right inside channel team2": 3,
                  "right channel team1": 18,
                  "right channel team2": 6,
                  "total offers to receive team1": 681,
                  "total offers to receive team2": 477,
                  "inbehind offers to receive team1": 152,
                  "inbehind offers to receive team2": 89,
                  "inbetween offers to receive team1": 276,
                  "inbetween offers to receive team2": 204,
                  "infront offers to receive team1": 253,
                  "infront offers to receive team2": 184,
                  "receptions between midfield and defensive lines team1": 14,
                  "receptions between midfield and defensive lines team2": 7,
                  "attempted line breaks team1": 190,
                  "attempted line breaks team2": 174,
                  "completed line breaksteam1": 136,
                  "completed line breaks team2": 85,
                  "attempted defensive line breaks team1": 21,
                  "attempted defensive line breaks team2": 17,
                  "completed defensive line breaksteam1": 12,
                  "completed defensive line breaks team2": 6,
                  "yellow cards team1": 2,
                  "yellow cards team2": 1,
                  "red cards team1": 0,
                  "red cards team2": 0,
                  "fouls against team1": 9,
                  "fouls against team2": 10,
                  "offsides team1": 1,
                  "offsides team2": 1,
                  "passes team1": 594,
                  "passes team2": 387,
                  "passes completed team1": 523,
                  "passes completed team2": 302,
                  "crosses team1": 27,
                  "crosses team2": 13,
                  "crosses completed team1": 10,
                  "crosses completed team2": 3,
                  "switches of play completed team1": 11,
                  "switches of play completed team2": 1,
                  "corners team1": 11,
                  "corners team2": 9,
                  "free kicks team1": 11,
                  "free kicks team2": 10,
                  "penalties scored team1": 0,
                  "penalties scored team2": 0,
                  "goal preventions team1": 11,
                  "goal preventions team2": 11,
                  "own goals team1": 0,
                  "own goals team2": 0,
                  "forced turnovers team1": 76,
                  "forced turnovers team2": 73,
                  "defensive pressures applied team1": 226,
                  "defensive pressures applied team2": 287,
                  "_deepnote_index_column": 5
                },
                {
                  "team1": "FRANCE",
                  "team2": "AUSTRALIA",
                  "possession team1": "56%",
                  "possession team2": "35%",
                  "possession in contest": "9%",
                  "number of goals team1": 4,
                  "number of goals team2": 1,
                  "date": "22 NOV 2022",
                  "hour": "20 : 00",
                  "category": "Group D",
                  "total attempts team1": 22,
                  "total attempts team2": 4,
                  "conceded team1": 1,
                  "conceded team2": 4,
                  "goal inside the penalty area team1": 4,
                  "goal inside the penalty area team2": 1,
                  "goal outside the penalty area team1": 0,
                  "goal outside the penalty area team2": 0,
                  "assists team1": 4,
                  "assists team2": 1,
                  "on target attempts team1": 7,
                  "on target attempts team2": 1,
                  "off target attempts team1": 9,
                  "off target attempts team2": 3,
                  "attempts inside the penalty area team1": 18,
                  "attempts inside the penalty area  team2": 2,
                  "attempts outside the penalty area  team1": 4,
                  "attempts outside the penalty area  team2": 2,
                  "left channel team1": 30,
                  "left channel team2": 11,
                  "left inside channel team1": 6,
                  "left inside channel team2": 2,
                  "central channel team1": 3,
                  "central channel team2": 5,
                  "right inside channel team1": 8,
                  "right inside channel team2": 1,
                  "right channel team1": 19,
                  "right channel team2": 9,
                  "total offers to receive team1": 691,
                  "total offers to receive team2": 521,
                  "inbehind offers to receive team1": 150,
                  "inbehind offers to receive team2": 95,
                  "inbetween offers to receive team1": 182,
                  "inbetween offers to receive team2": 208,
                  "infront offers to receive team1": 359,
                  "infront offers to receive team2": 218,
                  "receptions between midfield and defensive lines team1": 26,
                  "receptions between midfield and defensive lines team2": 7,
                  "attempted line breaks team1": 173,
                  "attempted line breaks team2": 133,
                  "completed line breaksteam1": 135,
                  "completed line breaks team2": 84,
                  "attempted defensive line breaks team1": 32,
                  "attempted defensive line breaks team2": 15,
                  "completed defensive line breaksteam1": 27,
                  "completed defensive line breaks team2": 7,
                  "yellow cards team1": 0,
                  "yellow cards team2": 3,
                  "red cards team1": 0,
                  "red cards team2": 0,
                  "fouls against team1": 5,
                  "fouls against team2": 11,
                  "offsides team1": 0,
                  "offsides team2": 0,
                  "passes team1": 734,
                  "passes team2": 466,
                  "passes completed team1": 672,
                  "passes completed team2": 399,
                  "crosses team1": 34,
                  "crosses team2": 9,
                  "crosses completed team1": 17,
                  "crosses completed team2": 2,
                  "switches of play completed team1": 6,
                  "switches of play completed team2": 5,
                  "corners team1": 8,
                  "corners team2": 1,
                  "free kicks team1": 11,
                  "free kicks team2": 5,
                  "penalties scored team1": 0,
                  "penalties scored team2": 0,
                  "goal preventions team1": 4,
                  "goal preventions team2": 22,
                  "own goals team1": 0,
                  "own goals team2": 0,
                  "forced turnovers team1": 64,
                  "forced turnovers team2": 56,
                  "defensive pressures applied team1": 250,
                  "defensive pressures applied team2": 316,
                  "_deepnote_index_column": 7
                },
                {
                  "team1": "GERMANY",
                  "team2": "JAPAN",
                  "possession team1": "65%",
                  "possession team2": "22%",
                  "possession in contest": "13%",
                  "number of goals team1": 1,
                  "number of goals team2": 2,
                  "date": "23 NOV 2022",
                  "hour": "14 : 00",
                  "category": "Group E",
                  "total attempts team1": 25,
                  "total attempts team2": 10,
                  "conceded team1": 2,
                  "conceded team2": 1,
                  "goal inside the penalty area team1": 1,
                  "goal inside the penalty area team2": 2,
                  "goal outside the penalty area team1": 0,
                  "goal outside the penalty area team2": 0,
                  "assists team1": 0,
                  "assists team2": 1,
                  "on target attempts team1": 9,
                  "on target attempts team2": 3,
                  "off target attempts team1": 11,
                  "off target attempts team2": 6,
                  "attempts inside the penalty area team1": 15,
                  "attempts inside the penalty area  team2": 10,
                  "attempts outside the penalty area  team1": 10,
                  "attempts outside the penalty area  team2": 0,
                  "left channel team1": 24,
                  "left channel team2": 5,
                  "left inside channel team1": 9,
                  "left inside channel team2": 0,
                  "central channel team1": 14,
                  "central channel team2": 3,
                  "right inside channel team1": 5,
                  "right inside channel team2": 3,
                  "right channel team1": 21,
                  "right channel team2": 11,
                  "total offers to receive team1": 865,
                  "total offers to receive team2": 346,
                  "inbehind offers to receive team1": 199,
                  "inbehind offers to receive team2": 102,
                  "inbetween offers to receive team1": 366,
                  "inbetween offers to receive team2": 146,
                  "infront offers to receive team1": 300,
                  "infront offers to receive team2": 98,
                  "receptions between midfield and defensive lines team1": 19,
                  "receptions between midfield and defensive lines team2": 10,
                  "attempted line breaks team1": 241,
                  "attempted line breaks team2": 113,
                  "completed line breaksteam1": 185,
                  "completed line breaks team2": 70,
                  "attempted defensive line breaks team1": 23,
                  "attempted defensive line breaks team2": 17,
                  "completed defensive line breaksteam1": 20,
                  "completed defensive line breaks team2": 11,
                  "yellow cards team1": 0,
                  "yellow cards team2": 0,
                  "red cards team1": 0,
                  "red cards team2": 0,
                  "fouls against team1": 6,
                  "fouls against team2": 14,
                  "offsides team1": 4,
                  "offsides team2": 4,
                  "passes team1": 820,
                  "passes team2": 261,
                  "passes completed team1": 743,
                  "passes completed team2": 207,
                  "crosses team1": 28,
                  "crosses team2": 16,
                  "crosses completed team1": 9,
                  "crosses completed team2": 3,
                  "switches of play completed team1": 4,
                  "switches of play completed team2": 2,
                  "corners team1": 6,
                  "corners team2": 6,
                  "free kicks team1": 17,
                  "free kicks team2": 10,
                  "penalties scored team1": 1,
                  "penalties scored team2": 0,
                  "goal preventions team1": 12,
                  "goal preventions team2": 26,
                  "own goals team1": 0,
                  "own goals team2": 0,
                  "forced turnovers team1": 55,
                  "forced turnovers team2": 87,
                  "defensive pressures applied team1": 164,
                  "defensive pressures applied team2": 487,
                  "_deepnote_index_column": 9
                },
                {
                  "team1": "MOROCCO",
                  "team2": "CROATIA",
                  "possession team1": "32%",
                  "possession team2": "57%",
                  "possession in contest": "12%",
                  "number of goals team1": 0,
                  "number of goals team2": 0,
                  "date": "23 NOV 2022",
                  "hour": "11 : 00",
                  "category": "Group F",
                  "total attempts team1": 8,
                  "total attempts team2": 6,
                  "conceded team1": 0,
                  "conceded team2": 0,
                  "goal inside the penalty area team1": 0,
                  "goal inside the penalty area team2": 0,
                  "goal outside the penalty area team1": 0,
                  "goal outside the penalty area team2": 0,
                  "assists team1": 0,
                  "assists team2": 0,
                  "on target attempts team1": 2,
                  "on target attempts team2": 2,
                  "off target attempts team1": 0,
                  "off target attempts team2": 2,
                  "attempts inside the penalty area team1": 3,
                  "attempts inside the penalty area  team2": 4,
                  "attempts outside the penalty area  team1": 5,
                  "attempts outside the penalty area  team2": 2,
                  "left channel team1": 8,
                  "left channel team2": 12,
                  "left inside channel team1": 1,
                  "left inside channel team2": 3,
                  "central channel team1": 6,
                  "central channel team2": 6,
                  "right inside channel team1": 0,
                  "right inside channel team2": 5,
                  "right channel team1": 11,
                  "right channel team2": 7,
                  "total offers to receive team1": 498,
                  "total offers to receive team2": 626,
                  "inbehind offers to receive team1": 106,
                  "inbehind offers to receive team2": 99,
                  "inbetween offers to receive team1": 193,
                  "inbetween offers to receive team2": 197,
                  "infront offers to receive team1": 199,
                  "infront offers to receive team2": 330,
                  "receptions between midfield and defensive lines team1": 4,
                  "receptions between midfield and defensive lines team2": 9,
                  "attempted line breaks team1": 142,
                  "attempted line breaks team2": 169,
                  "completed line breaksteam1": 81,
                  "completed line breaks team2": 116,
                  "attempted defensive line breaks team1": 10,
                  "attempted defensive line breaks team2": 18,
                  "completed defensive line breaksteam1": 4,
                  "completed defensive line breaks team2": 9,
                  "yellow cards team1": 1,
                  "yellow cards team2": 0,
                  "red cards team1": 0,
                  "red cards team2": 0,
                  "fouls against team1": 17,
                  "fouls against team2": 11,
                  "offsides team1": 0,
                  "offsides team2": 1,
                  "passes team1": 360,
                  "passes team2": 667,
                  "passes completed team1": 290,
                  "passes completed team2": 592,
                  "crosses team1": 10,
                  "crosses team2": 19,
                  "crosses completed team1": 1,
                  "crosses completed team2": 4,
                  "switches of play completed team1": 6,
                  "switches of play completed team2": 7,
                  "corners team1": 0,
                  "corners team2": 5,
                  "free kicks team1": 12,
                  "free kicks team2": 17,
                  "penalties scored team1": 0,
                  "penalties scored team2": 0,
                  "goal preventions team1": 7,
                  "goal preventions team2": 8,
                  "own goals team1": 0,
                  "own goals team2": 0,
                  "forced turnovers team1": 87,
                  "forced turnovers team2": 58,
                  "defensive pressures applied team1": 391,
                  "defensive pressures applied team2": 217,
                  "_deepnote_index_column": 8
                }
              ]
            },
            "text/plain": "           team1         team2 possession team1 possession team2  \\\n0          QATAR       ECUADOR              42%              50%   \n1        ENGLAND          IRAN              72%              19%   \n2        SENEGAL   NETHERLANDS              44%              45%   \n3  UNITED STATES         WALES              51%              39%   \n4      ARGENTINA  SAUDI ARABIA              64%              24%   \n5        DENMARK       TUNISIA              55%              33%   \n6         MEXICO        POLAND              54%              31%   \n7         FRANCE     AUSTRALIA              56%              35%   \n8        MOROCCO       CROATIA              32%              57%   \n9        GERMANY         JAPAN              65%              22%   \n\n  possession in contest  number of goals team1  number of goals team2  \\\n0                    8%                      0                      2   \n1                    9%                      6                      2   \n2                   11%                      0                      2   \n3                   10%                      1                      1   \n4                   12%                      1                      2   \n5                   12%                      0                      0   \n6                   15%                      0                      0   \n7                    9%                      4                      1   \n8                   12%                      0                      0   \n9                   13%                      1                      2   \n\n          date     hour category  total attempts team1  total attempts team2  \\\n0  20 NOV 2022  17 : 00  Group A                     5                     6   \n1  21 NOV 2022  14 : 00  Group B                    13                     8   \n2  21 NOV 2022  17 : 00  Group A                    14                     9   \n3  21 NOV 2022  20 : 00  Group B                     6                     7   \n4  22 NOV 2022  11 : 00  Group C                    14                     3   \n5  22 NOV 2022  14 : 00  Group D                    11                    11   \n6  22 NOV 2022  17 : 00  Group C                    13                     8   \n7  22 NOV 2022  20 : 00  Group D                    22                     4   \n8  23 NOV 2022  11 : 00  Group F                     8                     6   \n9  23 NOV 2022  14 : 00  Group E                    25                    10   \n\n   conceded team1  conceded team2  goal inside the penalty area team1  \\\n0               2               0                                   0   \n1               2               6                                   6   \n2               2               0                                   0   \n3               1               1                                   1   \n4               2               1                                   1   \n5               0               0                                   0   \n6               0               0                                   0   \n7               1               4                                   4   \n8               0               0                                   0   \n9               2               1                                   1   \n\n   goal inside the penalty area team2  goal outside the penalty area team1  \\\n0                                   2                                    0   \n1                                   2                                    0   \n2                                   2                                    0   \n3                                   1                                    0   \n4                                   2                                    0   \n5                                   0                                    0   \n6                                   0                                    0   \n7                                   1                                    0   \n8                                   0                                    0   \n9                                   2                                    0   \n\n   goal outside the penalty area team2  assists team1  assists team2  \\\n0                                    0              0              1   \n1                                    0              6              1   \n2                                    0              0              1   \n3                                    0              1              0   \n4                                    0              0              1   \n5                                    0              0              0   \n6                                    0              0              0   \n7                                    0              4              1   \n8                                    0              0              0   \n9                                    0              0              1   \n\n   on target attempts team1  on target attempts team2  \\\n0                         0                         3   \n1                         7                         3   \n2                         3                         3   \n3                         1                         3   \n4                         6                         2   \n5                         4                         1   \n6                         4                         1   \n7                         7                         1   \n8                         2                         2   \n9                         9                         3   \n\n   off target attempts team1  off target attempts team2  \\\n0                          5                          3   \n1                          3                          4   \n2                          8                          5   \n3                          4                          3   \n4                          5                          0   \n5                          4                          7   \n6                          5                          4   \n7                          9                          3   \n8                          0                          2   \n9                         11                          6   \n\n   attempts inside the penalty area team1  \\\n0                                       2   \n1                                      10   \n2                                       7   \n3                                       4   \n4                                      10   \n5                                       7   \n6                                      10   \n7                                      18   \n8                                       3   \n9                                      15   \n\n   attempts inside the penalty area  team2  \\\n0                                        4   \n1                                        6   \n2                                        5   \n3                                        5   \n4                                        3   \n5                                        6   \n6                                        7   \n7                                        2   \n8                                        4   \n9                                       10   \n\n   attempts outside the penalty area  team1  \\\n0                                         3   \n1                                         3   \n2                                         7   \n3                                         2   \n4                                         4   \n5                                         4   \n6                                         3   \n7                                         4   \n8                                         5   \n9                                        10   \n\n   attempts outside the penalty area  team2  left channel team1  \\\n0                                         2                  15   \n1                                         2                  11   \n2                                         4                  12   \n3                                         2                  14   \n4                                         0                  12   \n5                                         5                  17   \n6                                         1                  20   \n7                                         2                  30   \n8                                         2                   8   \n9                                         0                  24   \n\n   left channel team2  left inside channel team1  left inside channel team2  \\\n0                   8                          0                          7   \n1                   3                          5                          0   \n2                  11                          4                          2   \n3                   7                          5                          2   \n4                   3                          4                          2   \n5                   9                          4                          2   \n6                   8                          6                          6   \n7                  11                          6                          2   \n8                  12                          1                          3   \n9                   5                          9                          0   \n\n   central channel team1  central channel team2  right inside channel team1  \\\n0                      3                      6                           1   \n1                      2                      3                           3   \n2                      2                      2                           4   \n3                      4                      5                           4   \n4                      5                      3                           8   \n5                      7                      2                           6   \n6                      1                      6                           3   \n7                      3                      5                           8   \n8                      6                      6                           0   \n9                     14                      3                           5   \n\n   right inside channel team2  right channel team1  right channel team2  \\\n0                           4                    9                    6   \n1                           1                   11                    0   \n2                           7                   13                   20   \n3                           2                   11                    7   \n4                           3                   18                    8   \n5                           3                   18                    6   \n6                           4                   27                   13   \n7                           1                   19                    9   \n8                           5                   11                    7   \n9                           3                   21                   11   \n\n   total offers to receive team1  total offers to receive team2  \\\n0                            520                            532   \n1                           1061                            212   \n2                            502                            506   \n3                            725                            436   \n4                            650                            268   \n5                            681                            477   \n6                            547                            296   \n7                            691                            521   \n8                            498                            626   \n9                            865                            346   \n\n   inbehind offers to receive team1  inbehind offers to receive team2  \\\n0                               116                               127   \n1                               207                                53   \n2                               123                               117   \n3                               149                               100   \n4                               157                                69   \n5                               152                                89   \n6                               128                                72   \n7                               150                                95   \n8                               106                                99   \n9                               199                               102   \n\n   inbetween offers to receive team1  inbetween offers to receive team2  \\\n0                                235                                187   \n1                                386                                 86   \n2                                230                                191   \n3                                336                                172   \n4                                177                                131   \n5                                276                                204   \n6                                202                                101   \n7                                182                                208   \n8                                193                                197   \n9                                366                                146   \n\n   infront offers to receive team1  infront offers to receive team2  \\\n0                              169                              218   \n1                              468                               73   \n2                              149                              198   \n3                              240                              164   \n4                              316                               68   \n5                              253                              184   \n6                              217                              123   \n7                              359                              218   \n8                              199                              330   \n9                              300                               98   \n\n   receptions between midfield and defensive lines team1  \\\n0                                                  5       \n1                                                 16       \n2                                                 15       \n3                                                 12       \n4                                                 26       \n5                                                 14       \n6                                                 20       \n7                                                 26       \n8                                                  4       \n9                                                 19       \n\n   receptions between midfield and defensive lines team2  \\\n0                                                  8       \n1                                                  4       \n2                                                 14       \n3                                                  9       \n4                                                  9       \n5                                                  7       \n6                                                  3       \n7                                                  7       \n8                                                  9       \n9                                                 10       \n\n   attempted line breaks team1  attempted line breaks team2  \\\n0                          136                          155   \n1                          238                          101   \n2                          151                          162   \n3                          199                          174   \n4                          191                          137   \n5                          190                          174   \n6                          170                          150   \n7                          173                          133   \n8                          142                          169   \n9                          241                          113   \n\n   completed line breaksteam1  completed line breaks team2  \\\n0                          86                           99   \n1                         178                           45   \n2                          89                           96   \n3                         146                          103   \n4                         127                           68   \n5                         136                           85   \n6                         117                           82   \n7                         135                           84   \n8                          81                          116   \n9                         185                           70   \n\n   attempted defensive line breaks team1  \\\n0                                      9   \n1                                     25   \n2                                     22   \n3                                     23   \n4                                     39   \n5                                     21   \n6                                     32   \n7                                     32   \n8                                     10   \n9                                     23   \n\n   attempted defensive line breaks team2  \\\n0                                     13   \n1                                      7   \n2                                     22   \n3                                     17   \n4                                     15   \n5                                     17   \n6                                     12   \n7                                     15   \n8                                     18   \n9                                     17   \n\n   completed defensive line breaksteam1  \\\n0                                     4   \n1                                    16   \n2                                    15   \n3                                    15   \n4                                    25   \n5                                    12   \n6                                    19   \n7                                    27   \n8                                     4   \n9                                    20   \n\n   completed defensive line breaks team2  yellow cards team1  \\\n0                                      7                   4   \n1                                      4                   0   \n2                                     10                   2   \n3                                      8                   4   \n4                                      7                   0   \n5                                      6                   2   \n6                                      2                   2   \n7                                      7                   0   \n8                                      9                   1   \n9                                     11                   0   \n\n   yellow cards team2  red cards team1  red cards team2  fouls against team1  \\\n0                   2                0                0                   15   \n1                   2                0                0                    9   \n2                   1                0                0                   13   \n3                   2                0                0                   15   \n4                   6                0                0                    7   \n5                   1                0                0                    9   \n6                   1                0                0                   14   \n7                   3                0                0                    5   \n8                   0                0                0                   17   \n9                   0                0                0                    6   \n\n   fouls against team2  offsides team1  offsides team2  passes team1  \\\n0                   15               3               4           450   \n1                   14               2               2           809   \n2                   13               2               1           383   \n3                   10               1               1           569   \n4                   21              10               1           610   \n5                   10               1               1           594   \n6                   16               3               0           485   \n7                   11               0               0           734   \n8                   11               0               1           360   \n9                   14               4               4           820   \n\n   passes team2  passes completed team1  passes completed team2  \\\n0           480                     381                     409   \n1           224                     730                     154   \n2           438                     313                     374   \n3           409                     509                     321   \n4           267                     529                     190   \n5           387                     523                     302   \n6           322                     422                     241   \n7           466                     672                     399   \n8           667                     290                     592   \n9           261                     743                     207   \n\n   crosses team1  crosses team2  crosses completed team1  \\\n0              9             14                        4   \n1             23              8                        7   \n2             19             25                        7   \n3             31             15                        4   \n4             29              9                       12   \n5             27             13                       10   \n6             33             10                        8   \n7             34              9                       17   \n8             10             19                        1   \n9             28             16                        9   \n\n   crosses completed team2  switches of play completed team1  \\\n0                        4                                 9   \n1                        1                                12   \n2                        8                                 9   \n3                        6                                 5   \n4                        2                                 5   \n5                        3                                11   \n6                        2                                 9   \n7                        2                                 6   \n8                        4                                 6   \n9                        3                                 4   \n\n   switches of play completed team2  corners team1  corners team2  \\\n0                                 9              1              3   \n1                                 3              8              0   \n2                                 6              6              7   \n3                                 8              5              3   \n4                                 7              9              2   \n5                                 1             11              9   \n6                                 1              6              5   \n7                                 5              8              1   \n8                                 7              0              5   \n9                                 2              6              6   \n\n   free kicks team1  free kicks team2  penalties scored team1  \\\n0                19                17                       0   \n1                16                10                       0   \n2                14                14                       0   \n3                11                15                       0   \n4                22                16                       1   \n5                11                10                       0   \n6                16                16                       0   \n7                11                 5                       0   \n8                12                17                       0   \n9                17                10                       1   \n\n   penalties scored team2  goal preventions team1  goal preventions team2  \\\n0                       1                       6                       5   \n1                       1                       8                      13   \n2                       0                       9                      15   \n3                       1                       7                       7   \n4                       0                       4                      14   \n5                       0                      11                      11   \n6                       0                       8                      15   \n7                       0                       4                      22   \n8                       0                       7                       8   \n9                       0                      12                      26   \n\n   own goals team1  own goals team2  forced turnovers team1  \\\n0                0                0                      52   \n1                0                0                      63   \n2                0                0                      63   \n3                0                0                      81   \n4                0                0                      65   \n5                0                0                      76   \n6                0                0                      61   \n7                0                0                      64   \n8                0                0                      87   \n9                0                0                      55   \n\n   forced turnovers team2  defensive pressures applied team1  \\\n0                      72                                256   \n1                      72                                139   \n2                      73                                263   \n3                      72                                242   \n4                      80                                163   \n5                      73                                226   \n6                      70                                193   \n7                      56                                250   \n8                      58                                391   \n9                      87                                164   \n\n   defensive pressures applied team2  \n0                                279  \n1                                416  \n2                                251  \n3                                292  \n4                                361  \n5                                287  \n6                                290  \n7                                316  \n8                                217  \n9                                487  ",
            "text/html": "<div>\n<style scoped>\n    .dataframe tbody tr th:only-of-type {\n        vertical-align: middle;\n    }\n\n    .dataframe tbody tr th {\n        vertical-align: top;\n    }\n\n    .dataframe thead th {\n        text-align: right;\n    }\n</style>\n<table border=\"1\" class=\"dataframe\">\n  <thead>\n    <tr style=\"text-align: right;\">\n      <th></th>\n      <th>team1</th>\n      <th>team2</th>\n      <th>possession team1</th>\n      <th>possession team2</th>\n      <th>possession in contest</th>\n      <th>number of goals team1</th>\n      <th>number of goals team2</th>\n      <th>date</th>\n      <th>hour</th>\n      <th>category</th>\n      <th>total attempts team1</th>\n      <th>total attempts team2</th>\n      <th>conceded team1</th>\n      <th>conceded team2</th>\n      <th>goal inside the penalty area team1</th>\n      <th>goal inside the penalty area team2</th>\n      <th>goal outside the penalty area team1</th>\n      <th>goal outside the penalty area team2</th>\n      <th>assists team1</th>\n      <th>assists team2</th>\n      <th>on target attempts team1</th>\n      <th>on target attempts team2</th>\n      <th>off target attempts team1</th>\n      <th>off target attempts team2</th>\n      <th>attempts inside the penalty area team1</th>\n      <th>attempts inside the penalty area  team2</th>\n      <th>attempts outside the penalty area  team1</th>\n      <th>attempts outside the penalty area  team2</th>\n      <th>left channel team1</th>\n      <th>left channel team2</th>\n      <th>left inside channel team1</th>\n      <th>left inside channel team2</th>\n      <th>central channel team1</th>\n      <th>central channel team2</th>\n      <th>right inside channel team1</th>\n      <th>right inside channel team2</th>\n      <th>right channel team1</th>\n      <th>right channel team2</th>\n      <th>total offers to receive team1</th>\n      <th>total offers to receive team2</th>\n      <th>inbehind offers to receive team1</th>\n      <th>inbehind offers to receive team2</th>\n      <th>inbetween offers to receive team1</th>\n      <th>inbetween offers to receive team2</th>\n      <th>infront offers to receive team1</th>\n      <th>infront offers to receive team2</th>\n      <th>receptions between midfield and defensive lines team1</th>\n      <th>receptions between midfield and defensive lines team2</th>\n      <th>attempted line breaks team1</th>\n      <th>attempted line breaks team2</th>\n      <th>completed line breaksteam1</th>\n      <th>completed line breaks team2</th>\n      <th>attempted defensive line breaks team1</th>\n      <th>attempted defensive line breaks team2</th>\n      <th>completed defensive line breaksteam1</th>\n      <th>completed defensive line breaks team2</th>\n      <th>yellow cards team1</th>\n      <th>yellow cards team2</th>\n      <th>red cards team1</th>\n      <th>red cards team2</th>\n      <th>fouls against team1</th>\n      <th>fouls against team2</th>\n      <th>offsides team1</th>\n      <th>offsides team2</th>\n      <th>passes team1</th>\n      <th>passes team2</th>\n      <th>passes completed team1</th>\n      <th>passes completed team2</th>\n      <th>crosses team1</th>\n      <th>crosses team2</th>\n      <th>crosses completed team1</th>\n      <th>crosses completed team2</th>\n      <th>switches of play completed team1</th>\n      <th>switches of play completed team2</th>\n      <th>corners team1</th>\n      <th>corners team2</th>\n      <th>free kicks team1</th>\n      <th>free kicks team2</th>\n      <th>penalties scored team1</th>\n      <th>penalties scored team2</th>\n      <th>goal preventions team1</th>\n      <th>goal preventions team2</th>\n      <th>own goals team1</th>\n      <th>own goals team2</th>\n      <th>forced turnovers team1</th>\n      <th>forced turnovers team2</th>\n      <th>defensive pressures applied team1</th>\n      <th>defensive pressures applied team2</th>\n    </tr>\n  </thead>\n  <tbody>\n    <tr>\n      <th>0</th>\n      <td>QATAR</td>\n      <td>ECUADOR</td>\n      <td>42%</td>\n      <td>50%</td>\n      <td>8%</td>\n      <td>0</td>\n      <td>2</td>\n      <td>20 NOV 2022</td>\n      <td>17 : 00</td>\n      <td>Group A</td>\n      <td>5</td>\n      <td>6</td>\n      <td>2</td>\n      <td>0</td>\n      <td>0</td>\n      <td>2</td>\n      <td>0</td>\n      <td>0</td>\n      <td>0</td>\n      <td>1</td>\n      <td>0</td>\n      <td>3</td>\n      <td>5</td>\n      <td>3</td>\n      <td>2</td>\n      <td>4</td>\n      <td>3</td>\n      <td>2</td>\n      <td>15</td>\n      <td>8</td>\n      <td>0</td>\n      <td>7</td>\n      <td>3</td>\n      <td>6</td>\n      <td>1</td>\n      <td>4</td>\n      <td>9</td>\n      <td>6</td>\n      <td>520</td>\n      <td>532</td>\n      <td>116</td>\n      <td>127</td>\n      <td>235</td>\n      <td>187</td>\n      <td>169</td>\n      <td>218</td>\n      <td>5</td>\n      <td>8</td>\n      <td>136</td>\n      <td>155</td>\n      <td>86</td>\n      <td>99</td>\n      <td>9</td>\n      <td>13</td>\n      <td>4</td>\n      <td>7</td>\n      <td>4</td>\n      <td>2</td>\n      <td>0</td>\n      <td>0</td>\n      <td>15</td>\n      <td>15</td>\n      <td>3</td>\n      <td>4</td>\n      <td>450</td>\n      <td>480</td>\n      <td>381</td>\n      <td>409</td>\n      <td>9</td>\n      <td>14</td>\n      <td>4</td>\n      <td>4</td>\n      <td>9</td>\n      <td>9</td>\n      <td>1</td>\n      <td>3</td>\n      <td>19</td>\n      <td>17</td>\n      <td>0</td>\n      <td>1</td>\n      <td>6</td>\n      <td>5</td>\n      <td>0</td>\n      <td>0</td>\n      <td>52</td>\n      <td>72</td>\n      <td>256</td>\n      <td>279</td>\n    </tr>\n    <tr>\n      <th>1</th>\n      <td>ENGLAND</td>\n      <td>IRAN</td>\n      <td>72%</td>\n      <td>19%</td>\n      <td>9%</td>\n      <td>6</td>\n      <td>2</td>\n      <td>21 NOV 2022</td>\n      <td>14 : 00</td>\n      <td>Group B</td>\n      <td>13</td>\n      <td>8</td>\n      <td>2</td>\n      <td>6</td>\n      <td>6</td>\n      <td>2</td>\n      <td>0</td>\n      <td>0</td>\n      <td>6</td>\n      <td>1</td>\n      <td>7</td>\n      <td>3</td>\n      <td>3</td>\n      <td>4</td>\n      <td>10</td>\n      <td>6</td>\n      <td>3</td>\n      <td>2</td>\n      <td>11</td>\n      <td>3</td>\n      <td>5</td>\n      <td>0</td>\n      <td>2</td>\n      <td>3</td>\n      <td>3</td>\n      <td>1</td>\n      <td>11</td>\n      <td>0</td>\n      <td>1061</td>\n      <td>212</td>\n      <td>207</td>\n      <td>53</td>\n      <td>386</td>\n      <td>86</td>\n      <td>468</td>\n      <td>73</td>\n      <td>16</td>\n      <td>4</td>\n      <td>238</td>\n      <td>101</td>\n      <td>178</td>\n      <td>45</td>\n      <td>25</td>\n      <td>7</td>\n      <td>16</td>\n      <td>4</td>\n      <td>0</td>\n      <td>2</td>\n      <td>0</td>\n      <td>0</td>\n      <td>9</td>\n      <td>14</td>\n      <td>2</td>\n      <td>2</td>\n      <td>809</td>\n      <td>224</td>\n      <td>730</td>\n      <td>154</td>\n      <td>23</td>\n      <td>8</td>\n      <td>7</td>\n      <td>1</td>\n      <td>12</td>\n      <td>3</td>\n      <td>8</td>\n      <td>0</td>\n      <td>16</td>\n      <td>10</td>\n      <td>0</td>\n      <td>1</td>\n      <td>8</td>\n      <td>13</td>\n      <td>0</td>\n      <td>0</td>\n      <td>63</td>\n      <td>72</td>\n      <td>139</td>\n      <td>416</td>\n    </tr>\n    <tr>\n      <th>2</th>\n      <td>SENEGAL</td>\n      <td>NETHERLANDS</td>\n      <td>44%</td>\n      <td>45%</td>\n      <td>11%</td>\n      <td>0</td>\n      <td>2</td>\n      <td>21 NOV 2022</td>\n      <td>17 : 00</td>\n      <td>Group A</td>\n      <td>14</td>\n      <td>9</td>\n      <td>2</td>\n      <td>0</td>\n      <td>0</td>\n      <td>2</td>\n      <td>0</td>\n      <td>0</td>\n      <td>0</td>\n      <td>1</td>\n      <td>3</td>\n      <td>3</td>\n      <td>8</td>\n      <td>5</td>\n      <td>7</td>\n      <td>5</td>\n      <td>7</td>\n      <td>4</td>\n      <td>12</td>\n      <td>11</td>\n      <td>4</td>\n      <td>2</td>\n      <td>2</td>\n      <td>2</td>\n      <td>4</td>\n      <td>7</td>\n      <td>13</td>\n      <td>20</td>\n      <td>502</td>\n      <td>506</td>\n      <td>123</td>\n      <td>117</td>\n      <td>230</td>\n      <td>191</td>\n      <td>149</td>\n      <td>198</td>\n      <td>15</td>\n      <td>14</td>\n      <td>151</td>\n      <td>162</td>\n      <td>89</td>\n      <td>96</td>\n      <td>22</td>\n      <td>22</td>\n      <td>15</td>\n      <td>10</td>\n      <td>2</td>\n      <td>1</td>\n      <td>0</td>\n      <td>0</td>\n      <td>13</td>\n      <td>13</td>\n      <td>2</td>\n      <td>1</td>\n      <td>383</td>\n      <td>438</td>\n      <td>313</td>\n      <td>374</td>\n      <td>19</td>\n      <td>25</td>\n      <td>7</td>\n      <td>8</td>\n      <td>9</td>\n      <td>6</td>\n      <td>6</td>\n      <td>7</td>\n      <td>14</td>\n      <td>14</td>\n      <td>0</td>\n      <td>0</td>\n      <td>9</td>\n      <td>15</td>\n      <td>0</td>\n      <td>0</td>\n      <td>63</td>\n      <td>73</td>\n      <td>263</td>\n      <td>251</td>\n    </tr>\n    <tr>\n      <th>3</th>\n      <td>UNITED STATES</td>\n      <td>WALES</td>\n      <td>51%</td>\n      <td>39%</td>\n      <td>10%</td>\n      <td>1</td>\n      <td>1</td>\n      <td>21 NOV 2022</td>\n      <td>20 : 00</td>\n      <td>Group B</td>\n      <td>6</td>\n      <td>7</td>\n      <td>1</td>\n      <td>1</td>\n      <td>1</td>\n      <td>1</td>\n      <td>0</td>\n      <td>0</td>\n      <td>1</td>\n      <td>0</td>\n      <td>1</td>\n      <td>3</td>\n      <td>4</td>\n      <td>3</td>\n      <td>4</td>\n      <td>5</td>\n      <td>2</td>\n      <td>2</td>\n      <td>14</td>\n      <td>7</td>\n      <td>5</td>\n      <td>2</td>\n      <td>4</td>\n      <td>5</td>\n      <td>4</td>\n      <td>2</td>\n      <td>11</td>\n      <td>7</td>\n      <td>725</td>\n      <td>436</td>\n      <td>149</td>\n      <td>100</td>\n      <td>336</td>\n      <td>172</td>\n      <td>240</td>\n      <td>164</td>\n      <td>12</td>\n      <td>9</td>\n      <td>199</td>\n      <td>174</td>\n      <td>146</td>\n      <td>103</td>\n      <td>23</td>\n      <td>17</td>\n      <td>15</td>\n      <td>8</td>\n      <td>4</td>\n      <td>2</td>\n      <td>0</td>\n      <td>0</td>\n      <td>15</td>\n      <td>10</td>\n      <td>1</td>\n      <td>1</td>\n      <td>569</td>\n      <td>409</td>\n      <td>509</td>\n      <td>321</td>\n      <td>31</td>\n      <td>15</td>\n      <td>4</td>\n      <td>6</td>\n      <td>5</td>\n      <td>8</td>\n      <td>5</td>\n      <td>3</td>\n      <td>11</td>\n      <td>15</td>\n      <td>0</td>\n      <td>1</td>\n      <td>7</td>\n      <td>7</td>\n      <td>0</td>\n      <td>0</td>\n      <td>81</td>\n      <td>72</td>\n      <td>242</td>\n      <td>292</td>\n    </tr>\n    <tr>\n      <th>4</th>\n      <td>ARGENTINA</td>\n      <td>SAUDI ARABIA</td>\n      <td>64%</td>\n      <td>24%</td>\n      <td>12%</td>\n      <td>1</td>\n      <td>2</td>\n      <td>22 NOV 2022</td>\n      <td>11 : 00</td>\n      <td>Group C</td>\n      <td>14</td>\n      <td>3</td>\n      <td>2</td>\n      <td>1</td>\n      <td>1</td>\n      <td>2</td>\n      <td>0</td>\n      <td>0</td>\n      <td>0</td>\n      <td>1</td>\n      <td>6</td>\n      <td>2</td>\n      <td>5</td>\n      <td>0</td>\n      <td>10</td>\n      <td>3</td>\n      <td>4</td>\n      <td>0</td>\n      <td>12</td>\n      <td>3</td>\n      <td>4</td>\n      <td>2</td>\n      <td>5</td>\n      <td>3</td>\n      <td>8</td>\n      <td>3</td>\n      <td>18</td>\n      <td>8</td>\n      <td>650</td>\n      <td>268</td>\n      <td>157</td>\n      <td>69</td>\n      <td>177</td>\n      <td>131</td>\n      <td>316</td>\n      <td>68</td>\n      <td>26</td>\n      <td>9</td>\n      <td>191</td>\n      <td>137</td>\n      <td>127</td>\n      <td>68</td>\n      <td>39</td>\n      <td>15</td>\n      <td>25</td>\n      <td>7</td>\n      <td>0</td>\n      <td>6</td>\n      <td>0</td>\n      <td>0</td>\n      <td>7</td>\n      <td>21</td>\n      <td>10</td>\n      <td>1</td>\n      <td>610</td>\n      <td>267</td>\n      <td>529</td>\n      <td>190</td>\n      <td>29</td>\n      <td>9</td>\n      <td>12</td>\n      <td>2</td>\n      <td>5</td>\n      <td>7</td>\n      <td>9</td>\n      <td>2</td>\n      <td>22</td>\n      <td>16</td>\n      <td>1</td>\n      <td>0</td>\n      <td>4</td>\n      <td>14</td>\n      <td>0</td>\n      <td>0</td>\n      <td>65</td>\n      <td>80</td>\n      <td>163</td>\n      <td>361</td>\n    </tr>\n    <tr>\n      <th>5</th>\n      <td>DENMARK</td>\n      <td>TUNISIA</td>\n      <td>55%</td>\n      <td>33%</td>\n      <td>12%</td>\n      <td>0</td>\n      <td>0</td>\n      <td>22 NOV 2022</td>\n      <td>14 : 00</td>\n      <td>Group D</td>\n      <td>11</td>\n      <td>11</td>\n      <td>0</td>\n      <td>0</td>\n      <td>0</td>\n      <td>0</td>\n      <td>0</td>\n      <td>0</td>\n      <td>0</td>\n      <td>0</td>\n      <td>4</td>\n      <td>1</td>\n      <td>4</td>\n      <td>7</td>\n      <td>7</td>\n      <td>6</td>\n      <td>4</td>\n      <td>5</td>\n      <td>17</td>\n      <td>9</td>\n      <td>4</td>\n      <td>2</td>\n      <td>7</td>\n      <td>2</td>\n      <td>6</td>\n      <td>3</td>\n      <td>18</td>\n      <td>6</td>\n      <td>681</td>\n      <td>477</td>\n      <td>152</td>\n      <td>89</td>\n      <td>276</td>\n      <td>204</td>\n      <td>253</td>\n      <td>184</td>\n      <td>14</td>\n      <td>7</td>\n      <td>190</td>\n      <td>174</td>\n      <td>136</td>\n      <td>85</td>\n      <td>21</td>\n      <td>17</td>\n      <td>12</td>\n      <td>6</td>\n      <td>2</td>\n      <td>1</td>\n      <td>0</td>\n      <td>0</td>\n      <td>9</td>\n      <td>10</td>\n      <td>1</td>\n      <td>1</td>\n      <td>594</td>\n      <td>387</td>\n      <td>523</td>\n      <td>302</td>\n      <td>27</td>\n      <td>13</td>\n      <td>10</td>\n      <td>3</td>\n      <td>11</td>\n      <td>1</td>\n      <td>11</td>\n      <td>9</td>\n      <td>11</td>\n      <td>10</td>\n      <td>0</td>\n      <td>0</td>\n      <td>11</td>\n      <td>11</td>\n      <td>0</td>\n      <td>0</td>\n      <td>76</td>\n      <td>73</td>\n      <td>226</td>\n      <td>287</td>\n    </tr>\n    <tr>\n      <th>6</th>\n      <td>MEXICO</td>\n      <td>POLAND</td>\n      <td>54%</td>\n      <td>31%</td>\n      <td>15%</td>\n      <td>0</td>\n      <td>0</td>\n      <td>22 NOV 2022</td>\n      <td>17 : 00</td>\n      <td>Group C</td>\n      <td>13</td>\n      <td>8</td>\n      <td>0</td>\n      <td>0</td>\n      <td>0</td>\n      <td>0</td>\n      <td>0</td>\n      <td>0</td>\n      <td>0</td>\n      <td>0</td>\n      <td>4</td>\n      <td>1</td>\n      <td>5</td>\n      <td>4</td>\n      <td>10</td>\n      <td>7</td>\n      <td>3</td>\n      <td>1</td>\n      <td>20</td>\n      <td>8</td>\n      <td>6</td>\n      <td>6</td>\n      <td>1</td>\n      <td>6</td>\n      <td>3</td>\n      <td>4</td>\n      <td>27</td>\n      <td>13</td>\n      <td>547</td>\n      <td>296</td>\n      <td>128</td>\n      <td>72</td>\n      <td>202</td>\n      <td>101</td>\n      <td>217</td>\n      <td>123</td>\n      <td>20</td>\n      <td>3</td>\n      <td>170</td>\n      <td>150</td>\n      <td>117</td>\n      <td>82</td>\n      <td>32</td>\n      <td>12</td>\n      <td>19</td>\n      <td>2</td>\n      <td>2</td>\n      <td>1</td>\n      <td>0</td>\n      <td>0</td>\n      <td>14</td>\n      <td>16</td>\n      <td>3</td>\n      <td>0</td>\n      <td>485</td>\n      <td>322</td>\n      <td>422</td>\n      <td>241</td>\n      <td>33</td>\n      <td>10</td>\n      <td>8</td>\n      <td>2</td>\n      <td>9</td>\n      <td>1</td>\n      <td>6</td>\n      <td>5</td>\n      <td>16</td>\n      <td>16</td>\n      <td>0</td>\n      <td>0</td>\n      <td>8</td>\n      <td>15</td>\n      <td>0</td>\n      <td>0</td>\n      <td>61</td>\n      <td>70</td>\n      <td>193</td>\n      <td>290</td>\n    </tr>\n    <tr>\n      <th>7</th>\n      <td>FRANCE</td>\n      <td>AUSTRALIA</td>\n      <td>56%</td>\n      <td>35%</td>\n      <td>9%</td>\n      <td>4</td>\n      <td>1</td>\n      <td>22 NOV 2022</td>\n      <td>20 : 00</td>\n      <td>Group D</td>\n      <td>22</td>\n      <td>4</td>\n      <td>1</td>\n      <td>4</td>\n      <td>4</td>\n      <td>1</td>\n      <td>0</td>\n      <td>0</td>\n      <td>4</td>\n      <td>1</td>\n      <td>7</td>\n      <td>1</td>\n      <td>9</td>\n      <td>3</td>\n      <td>18</td>\n      <td>2</td>\n      <td>4</td>\n      <td>2</td>\n      <td>30</td>\n      <td>11</td>\n      <td>6</td>\n      <td>2</td>\n      <td>3</td>\n      <td>5</td>\n      <td>8</td>\n      <td>1</td>\n      <td>19</td>\n      <td>9</td>\n      <td>691</td>\n      <td>521</td>\n      <td>150</td>\n      <td>95</td>\n      <td>182</td>\n      <td>208</td>\n      <td>359</td>\n      <td>218</td>\n      <td>26</td>\n      <td>7</td>\n      <td>173</td>\n      <td>133</td>\n      <td>135</td>\n      <td>84</td>\n      <td>32</td>\n      <td>15</td>\n      <td>27</td>\n      <td>7</td>\n      <td>0</td>\n      <td>3</td>\n      <td>0</td>\n      <td>0</td>\n      <td>5</td>\n      <td>11</td>\n      <td>0</td>\n      <td>0</td>\n      <td>734</td>\n      <td>466</td>\n      <td>672</td>\n      <td>399</td>\n      <td>34</td>\n      <td>9</td>\n      <td>17</td>\n      <td>2</td>\n      <td>6</td>\n      <td>5</td>\n      <td>8</td>\n      <td>1</td>\n      <td>11</td>\n      <td>5</td>\n      <td>0</td>\n      <td>0</td>\n      <td>4</td>\n      <td>22</td>\n      <td>0</td>\n      <td>0</td>\n      <td>64</td>\n      <td>56</td>\n      <td>250</td>\n      <td>316</td>\n    </tr>\n    <tr>\n      <th>8</th>\n      <td>MOROCCO</td>\n      <td>CROATIA</td>\n      <td>32%</td>\n      <td>57%</td>\n      <td>12%</td>\n      <td>0</td>\n      <td>0</td>\n      <td>23 NOV 2022</td>\n      <td>11 : 00</td>\n      <td>Group F</td>\n      <td>8</td>\n      <td>6</td>\n      <td>0</td>\n      <td>0</td>\n      <td>0</td>\n      <td>0</td>\n      <td>0</td>\n      <td>0</td>\n      <td>0</td>\n      <td>0</td>\n      <td>2</td>\n      <td>2</td>\n      <td>0</td>\n      <td>2</td>\n      <td>3</td>\n      <td>4</td>\n      <td>5</td>\n      <td>2</td>\n      <td>8</td>\n      <td>12</td>\n      <td>1</td>\n      <td>3</td>\n      <td>6</td>\n      <td>6</td>\n      <td>0</td>\n      <td>5</td>\n      <td>11</td>\n      <td>7</td>\n      <td>498</td>\n      <td>626</td>\n      <td>106</td>\n      <td>99</td>\n      <td>193</td>\n      <td>197</td>\n      <td>199</td>\n      <td>330</td>\n      <td>4</td>\n      <td>9</td>\n      <td>142</td>\n      <td>169</td>\n      <td>81</td>\n      <td>116</td>\n      <td>10</td>\n      <td>18</td>\n      <td>4</td>\n      <td>9</td>\n      <td>1</td>\n      <td>0</td>\n      <td>0</td>\n      <td>0</td>\n      <td>17</td>\n      <td>11</td>\n      <td>0</td>\n      <td>1</td>\n      <td>360</td>\n      <td>667</td>\n      <td>290</td>\n      <td>592</td>\n      <td>10</td>\n      <td>19</td>\n      <td>1</td>\n      <td>4</td>\n      <td>6</td>\n      <td>7</td>\n      <td>0</td>\n      <td>5</td>\n      <td>12</td>\n      <td>17</td>\n      <td>0</td>\n      <td>0</td>\n      <td>7</td>\n      <td>8</td>\n      <td>0</td>\n      <td>0</td>\n      <td>87</td>\n      <td>58</td>\n      <td>391</td>\n      <td>217</td>\n    </tr>\n    <tr>\n      <th>9</th>\n      <td>GERMANY</td>\n      <td>JAPAN</td>\n      <td>65%</td>\n      <td>22%</td>\n      <td>13%</td>\n      <td>1</td>\n      <td>2</td>\n      <td>23 NOV 2022</td>\n      <td>14 : 00</td>\n      <td>Group E</td>\n      <td>25</td>\n      <td>10</td>\n      <td>2</td>\n      <td>1</td>\n      <td>1</td>\n      <td>2</td>\n      <td>0</td>\n      <td>0</td>\n      <td>0</td>\n      <td>1</td>\n      <td>9</td>\n      <td>3</td>\n      <td>11</td>\n      <td>6</td>\n      <td>15</td>\n      <td>10</td>\n      <td>10</td>\n      <td>0</td>\n      <td>24</td>\n      <td>5</td>\n      <td>9</td>\n      <td>0</td>\n      <td>14</td>\n      <td>3</td>\n      <td>5</td>\n      <td>3</td>\n      <td>21</td>\n      <td>11</td>\n      <td>865</td>\n      <td>346</td>\n      <td>199</td>\n      <td>102</td>\n      <td>366</td>\n      <td>146</td>\n      <td>300</td>\n      <td>98</td>\n      <td>19</td>\n      <td>10</td>\n      <td>241</td>\n      <td>113</td>\n      <td>185</td>\n      <td>70</td>\n      <td>23</td>\n      <td>17</td>\n      <td>20</td>\n      <td>11</td>\n      <td>0</td>\n      <td>0</td>\n      <td>0</td>\n      <td>0</td>\n      <td>6</td>\n      <td>14</td>\n      <td>4</td>\n      <td>4</td>\n      <td>820</td>\n      <td>261</td>\n      <td>743</td>\n      <td>207</td>\n      <td>28</td>\n      <td>16</td>\n      <td>9</td>\n      <td>3</td>\n      <td>4</td>\n      <td>2</td>\n      <td>6</td>\n      <td>6</td>\n      <td>17</td>\n      <td>10</td>\n      <td>1</td>\n      <td>0</td>\n      <td>12</td>\n      <td>26</td>\n      <td>0</td>\n      <td>0</td>\n      <td>55</td>\n      <td>87</td>\n      <td>164</td>\n      <td>487</td>\n    </tr>\n  </tbody>\n</table>\n</div>"
          },
          "metadata": {}
        }
      ],
      "execution_count": null,
      "block_group": "6ec14c4882624351a728d015b87e5d42"
    },
    {
      "cell_type": "code",
      "source": "print(qatar_origin_df.shape)\nprint(qatar_origin_df.info())\n\n",
      "metadata": {
        "source_hash": null,
        "execution_start": 1694883481396,
        "execution_millis": 329,
        "deepnote_to_be_reexecuted": false,
        "cell_id": "5e475a88a8aa48858792fd944c35dfe6",
        "deepnote_cell_type": "code"
      },
      "outputs": [
        {
          "name": "stdout",
          "text": "(64, 88)\n<class 'pandas.core.frame.DataFrame'>\nRangeIndex: 64 entries, 0 to 63\nData columns (total 88 columns):\n #   Column                                                 Non-Null Count  Dtype \n---  ------                                                 --------------  ----- \n 0   team1                                                  64 non-null     object\n 1   team2                                                  64 non-null     object\n 2   possession team1                                       64 non-null     object\n 3   possession team2                                       64 non-null     object\n 4   possession in contest                                  64 non-null     object\n 5   number of goals team1                                  64 non-null     int64 \n 6   number of goals team2                                  64 non-null     int64 \n 7   date                                                   64 non-null     object\n 8   hour                                                   64 non-null     object\n 9   category                                               64 non-null     object\n 10  total attempts team1                                   64 non-null     int64 \n 11  total attempts team2                                   64 non-null     int64 \n 12  conceded team1                                         64 non-null     int64 \n 13  conceded team2                                         64 non-null     int64 \n 14  goal inside the penalty area team1                     64 non-null     int64 \n 15  goal inside the penalty area team2                     64 non-null     int64 \n 16  goal outside the penalty area team1                    64 non-null     int64 \n 17  goal outside the penalty area team2                    64 non-null     int64 \n 18  assists team1                                          64 non-null     int64 \n 19  assists team2                                          64 non-null     int64 \n 20  on target attempts team1                               64 non-null     int64 \n 21  on target attempts team2                               64 non-null     int64 \n 22  off target attempts team1                              64 non-null     int64 \n 23  off target attempts team2                              64 non-null     int64 \n 24  attempts inside the penalty area team1                 64 non-null     int64 \n 25  attempts inside the penalty area  team2                64 non-null     int64 \n 26  attempts outside the penalty area  team1               64 non-null     int64 \n 27  attempts outside the penalty area  team2               64 non-null     int64 \n 28  left channel team1                                     64 non-null     int64 \n 29  left channel team2                                     64 non-null     int64 \n 30  left inside channel team1                              64 non-null     int64 \n 31  left inside channel team2                              64 non-null     int64 \n 32  central channel team1                                  64 non-null     int64 \n 33  central channel team2                                  64 non-null     int64 \n 34  right inside channel team1                             64 non-null     int64 \n 35  right inside channel team2                             64 non-null     int64 \n 36  right channel team1                                    64 non-null     int64 \n 37  right channel team2                                    64 non-null     int64 \n 38  total offers to receive team1                          64 non-null     int64 \n 39  total offers to receive team2                          64 non-null     int64 \n 40  inbehind offers to receive team1                       64 non-null     int64 \n 41  inbehind offers to receive team2                       64 non-null     int64 \n 42  inbetween offers to receive team1                      64 non-null     int64 \n 43  inbetween offers to receive team2                      64 non-null     int64 \n 44  infront offers to receive team1                        64 non-null     int64 \n 45  infront offers to receive team2                        64 non-null     int64 \n 46  receptions between midfield and defensive lines team1  64 non-null     int64 \n 47  receptions between midfield and defensive lines team2  64 non-null     int64 \n 48  attempted line breaks team1                            64 non-null     int64 \n 49  attempted line breaks team2                            64 non-null     int64 \n 50  completed line breaksteam1                             64 non-null     int64 \n 51  completed line breaks team2                            64 non-null     int64 \n 52  attempted defensive line breaks team1                  64 non-null     int64 \n 53  attempted defensive line breaks team2                  64 non-null     int64 \n 54  completed defensive line breaksteam1                   64 non-null     int64 \n 55  completed defensive line breaks team2                  64 non-null     int64 \n 56  yellow cards team1                                     64 non-null     int64 \n 57  yellow cards team2                                     64 non-null     int64 \n 58  red cards team1                                        64 non-null     int64 \n 59  red cards team2                                        64 non-null     int64 \n 60  fouls against team1                                    64 non-null     int64 \n 61  fouls against team2                                    64 non-null     int64 \n 62  offsides team1                                         64 non-null     int64 \n 63  offsides team2                                         64 non-null     int64 \n 64  passes team1                                           64 non-null     int64 \n 65  passes team2                                           64 non-null     int64 \n 66  passes completed team1                                 64 non-null     int64 \n 67  passes completed team2                                 64 non-null     int64 \n 68  crosses team1                                          64 non-null     int64 \n 69  crosses team2                                          64 non-null     int64 \n 70  crosses completed team1                                64 non-null     int64 \n 71  crosses completed team2                                64 non-null     int64 \n 72  switches of play completed team1                       64 non-null     int64 \n 73  switches of play completed team2                       64 non-null     int64 \n 74  corners team1                                          64 non-null     int64 \n 75  corners team2                                          64 non-null     int64 \n 76  free kicks team1                                       64 non-null     int64 \n 77  free kicks team2                                       64 non-null     int64 \n 78  penalties scored team1                                 64 non-null     int64 \n 79  penalties scored team2                                 64 non-null     int64 \n 80  goal preventions team1                                 64 non-null     int64 \n 81  goal preventions team2                                 64 non-null     int64 \n 82  own goals team1                                        64 non-null     int64 \n 83  own goals team2                                        64 non-null     int64 \n 84  forced turnovers team1                                 64 non-null     int64 \n 85  forced turnovers team2                                 64 non-null     int64 \n 86  defensive pressures applied team1                      64 non-null     int64 \n 87  defensive pressures applied team2                      64 non-null     int64 \ndtypes: int64(80), object(8)\nmemory usage: 44.1+ KB\nNone\n",
          "output_type": "stream"
        }
      ],
      "execution_count": null,
      "block_group": "5cabe3dcd6da4adca1a42cb8a23f0324"
    },
    {
      "cell_type": "code",
      "source": "qatar_origin_df['possession team1'] = qatar_origin_df['possession team1'].str.rstrip('%').astype('float') / 100.0\nqatar_origin_df['possession team2'] = qatar_origin_df['possession team2'].str.rstrip('%').astype('float') / 100.0\nqatar_origin_df['category'] = qatar_origin_df['category'].str.replace('Group.*', 'Group', regex=True)\n\n",
      "metadata": {
        "source_hash": null,
        "execution_start": 1694883481403,
        "execution_millis": 27,
        "deepnote_to_be_reexecuted": false,
        "cell_id": "d45bf40aa3734e459715c3975a132be6",
        "deepnote_cell_type": "code"
      },
      "outputs": [
        {
          "output_type": "error",
          "ename": "AttributeError",
          "evalue": "Can only use .str accessor with string values!",
          "traceback": [
            "\u001b[0;31m---------------------------------------------------------------------------\u001b[0m",
            "\u001b[0;31mAttributeError\u001b[0m                            Traceback (most recent call last)",
            "Cell \u001b[0;32mIn [8], line 1\u001b[0m\n\u001b[0;32m----> 1\u001b[0m qatar_origin_df[\u001b[38;5;124m'\u001b[39m\u001b[38;5;124mpossession team1\u001b[39m\u001b[38;5;124m'\u001b[39m] \u001b[38;5;241m=\u001b[39m \u001b[43mqatar_origin_df\u001b[49m\u001b[43m[\u001b[49m\u001b[38;5;124;43m'\u001b[39;49m\u001b[38;5;124;43mpossession team1\u001b[39;49m\u001b[38;5;124;43m'\u001b[39;49m\u001b[43m]\u001b[49m\u001b[38;5;241;43m.\u001b[39;49m\u001b[43mstr\u001b[49m\u001b[38;5;241m.\u001b[39mrstrip(\u001b[38;5;124m'\u001b[39m\u001b[38;5;124m%\u001b[39m\u001b[38;5;124m'\u001b[39m)\u001b[38;5;241m.\u001b[39mastype(\u001b[38;5;124m'\u001b[39m\u001b[38;5;124mfloat\u001b[39m\u001b[38;5;124m'\u001b[39m) \u001b[38;5;241m/\u001b[39m \u001b[38;5;241m100.0\u001b[39m\n\u001b[1;32m      2\u001b[0m qatar_origin_df[\u001b[38;5;124m'\u001b[39m\u001b[38;5;124mpossession team2\u001b[39m\u001b[38;5;124m'\u001b[39m] \u001b[38;5;241m=\u001b[39m qatar_origin_df[\u001b[38;5;124m'\u001b[39m\u001b[38;5;124mpossession team2\u001b[39m\u001b[38;5;124m'\u001b[39m]\u001b[38;5;241m.\u001b[39mstr\u001b[38;5;241m.\u001b[39mrstrip(\u001b[38;5;124m'\u001b[39m\u001b[38;5;124m%\u001b[39m\u001b[38;5;124m'\u001b[39m)\u001b[38;5;241m.\u001b[39mastype(\u001b[38;5;124m'\u001b[39m\u001b[38;5;124mfloat\u001b[39m\u001b[38;5;124m'\u001b[39m) \u001b[38;5;241m/\u001b[39m \u001b[38;5;241m100.0\u001b[39m\n\u001b[1;32m      3\u001b[0m qatar_origin_df[\u001b[38;5;124m'\u001b[39m\u001b[38;5;124mcategory\u001b[39m\u001b[38;5;124m'\u001b[39m] \u001b[38;5;241m=\u001b[39m qatar_origin_df[\u001b[38;5;124m'\u001b[39m\u001b[38;5;124mcategory\u001b[39m\u001b[38;5;124m'\u001b[39m]\u001b[38;5;241m.\u001b[39mstr\u001b[38;5;241m.\u001b[39mreplace(\u001b[38;5;124m'\u001b[39m\u001b[38;5;124mGroup.*\u001b[39m\u001b[38;5;124m'\u001b[39m, \u001b[38;5;124m'\u001b[39m\u001b[38;5;124mGroup\u001b[39m\u001b[38;5;124m'\u001b[39m, regex\u001b[38;5;241m=\u001b[39m\u001b[38;5;28;01mTrue\u001b[39;00m)\n",
            "File \u001b[0;32m/shared-libs/python3.9/py/lib/python3.9/site-packages/pandas/core/generic.py:5461\u001b[0m, in \u001b[0;36mNDFrame.__getattr__\u001b[0;34m(self, name)\u001b[0m\n\u001b[1;32m   5454\u001b[0m \u001b[38;5;66;03m# Note: obj.x will always call obj.__getattribute__('x') prior to\u001b[39;00m\n\u001b[1;32m   5455\u001b[0m \u001b[38;5;66;03m# calling obj.__getattr__('x').\u001b[39;00m\n\u001b[1;32m   5456\u001b[0m \u001b[38;5;28;01mif\u001b[39;00m (\n\u001b[1;32m   5457\u001b[0m     name \u001b[38;5;129;01min\u001b[39;00m \u001b[38;5;28mself\u001b[39m\u001b[38;5;241m.\u001b[39m_internal_names_set\n\u001b[1;32m   5458\u001b[0m     \u001b[38;5;129;01mor\u001b[39;00m name \u001b[38;5;129;01min\u001b[39;00m \u001b[38;5;28mself\u001b[39m\u001b[38;5;241m.\u001b[39m_metadata\n\u001b[1;32m   5459\u001b[0m     \u001b[38;5;129;01mor\u001b[39;00m name \u001b[38;5;129;01min\u001b[39;00m \u001b[38;5;28mself\u001b[39m\u001b[38;5;241m.\u001b[39m_accessors\n\u001b[1;32m   5460\u001b[0m ):\n\u001b[0;32m-> 5461\u001b[0m     \u001b[38;5;28;01mreturn\u001b[39;00m \u001b[38;5;28;43mobject\u001b[39;49m\u001b[38;5;241;43m.\u001b[39;49m\u001b[38;5;21;43m__getattribute__\u001b[39;49m\u001b[43m(\u001b[49m\u001b[38;5;28;43mself\u001b[39;49m\u001b[43m,\u001b[49m\u001b[43m \u001b[49m\u001b[43mname\u001b[49m\u001b[43m)\u001b[49m\n\u001b[1;32m   5462\u001b[0m \u001b[38;5;28;01melse\u001b[39;00m:\n\u001b[1;32m   5463\u001b[0m     \u001b[38;5;28;01mif\u001b[39;00m \u001b[38;5;28mself\u001b[39m\u001b[38;5;241m.\u001b[39m_info_axis\u001b[38;5;241m.\u001b[39m_can_hold_identifiers_and_holds_name(name):\n",
            "File \u001b[0;32m/shared-libs/python3.9/py/lib/python3.9/site-packages/pandas/core/accessor.py:180\u001b[0m, in \u001b[0;36mCachedAccessor.__get__\u001b[0;34m(self, obj, cls)\u001b[0m\n\u001b[1;32m    177\u001b[0m \u001b[38;5;28;01mif\u001b[39;00m obj \u001b[38;5;129;01mis\u001b[39;00m \u001b[38;5;28;01mNone\u001b[39;00m:\n\u001b[1;32m    178\u001b[0m     \u001b[38;5;66;03m# we're accessing the attribute of the class, i.e., Dataset.geo\u001b[39;00m\n\u001b[1;32m    179\u001b[0m     \u001b[38;5;28;01mreturn\u001b[39;00m \u001b[38;5;28mself\u001b[39m\u001b[38;5;241m.\u001b[39m_accessor\n\u001b[0;32m--> 180\u001b[0m accessor_obj \u001b[38;5;241m=\u001b[39m \u001b[38;5;28;43mself\u001b[39;49m\u001b[38;5;241;43m.\u001b[39;49m\u001b[43m_accessor\u001b[49m\u001b[43m(\u001b[49m\u001b[43mobj\u001b[49m\u001b[43m)\u001b[49m\n\u001b[1;32m    181\u001b[0m \u001b[38;5;66;03m# Replace the property with the accessor object. Inspired by:\u001b[39;00m\n\u001b[1;32m    182\u001b[0m \u001b[38;5;66;03m# https://www.pydanny.com/cached-property.html\u001b[39;00m\n\u001b[1;32m    183\u001b[0m \u001b[38;5;66;03m# We need to use object.__setattr__ because we overwrite __setattr__ on\u001b[39;00m\n\u001b[1;32m    184\u001b[0m \u001b[38;5;66;03m# NDFrame\u001b[39;00m\n\u001b[1;32m    185\u001b[0m \u001b[38;5;28mobject\u001b[39m\u001b[38;5;241m.\u001b[39m\u001b[38;5;21m__setattr__\u001b[39m(obj, \u001b[38;5;28mself\u001b[39m\u001b[38;5;241m.\u001b[39m_name, accessor_obj)\n",
            "File \u001b[0;32m/shared-libs/python3.9/py/lib/python3.9/site-packages/pandas/core/strings/accessor.py:154\u001b[0m, in \u001b[0;36mStringMethods.__init__\u001b[0;34m(self, data)\u001b[0m\n\u001b[1;32m    151\u001b[0m \u001b[38;5;28;01mdef\u001b[39;00m \u001b[38;5;21m__init__\u001b[39m(\u001b[38;5;28mself\u001b[39m, data):\n\u001b[1;32m    152\u001b[0m     \u001b[38;5;28;01mfrom\u001b[39;00m \u001b[38;5;21;01mpandas\u001b[39;00m\u001b[38;5;21;01m.\u001b[39;00m\u001b[38;5;21;01mcore\u001b[39;00m\u001b[38;5;21;01m.\u001b[39;00m\u001b[38;5;21;01marrays\u001b[39;00m\u001b[38;5;21;01m.\u001b[39;00m\u001b[38;5;21;01mstring_\u001b[39;00m \u001b[38;5;28;01mimport\u001b[39;00m StringDtype\n\u001b[0;32m--> 154\u001b[0m     \u001b[38;5;28mself\u001b[39m\u001b[38;5;241m.\u001b[39m_inferred_dtype \u001b[38;5;241m=\u001b[39m \u001b[38;5;28;43mself\u001b[39;49m\u001b[38;5;241;43m.\u001b[39;49m\u001b[43m_validate\u001b[49m\u001b[43m(\u001b[49m\u001b[43mdata\u001b[49m\u001b[43m)\u001b[49m\n\u001b[1;32m    155\u001b[0m     \u001b[38;5;28mself\u001b[39m\u001b[38;5;241m.\u001b[39m_is_categorical \u001b[38;5;241m=\u001b[39m is_categorical_dtype(data\u001b[38;5;241m.\u001b[39mdtype)\n\u001b[1;32m    156\u001b[0m     \u001b[38;5;28mself\u001b[39m\u001b[38;5;241m.\u001b[39m_is_string \u001b[38;5;241m=\u001b[39m \u001b[38;5;28misinstance\u001b[39m(data\u001b[38;5;241m.\u001b[39mdtype, StringDtype)\n",
            "File \u001b[0;32m/shared-libs/python3.9/py/lib/python3.9/site-packages/pandas/core/strings/accessor.py:217\u001b[0m, in \u001b[0;36mStringMethods._validate\u001b[0;34m(data)\u001b[0m\n\u001b[1;32m    214\u001b[0m     inferred_dtype \u001b[38;5;241m=\u001b[39m \u001b[38;5;28;01mNone\u001b[39;00m\n\u001b[1;32m    216\u001b[0m \u001b[38;5;28;01mif\u001b[39;00m inferred_dtype \u001b[38;5;129;01mnot\u001b[39;00m \u001b[38;5;129;01min\u001b[39;00m allowed_types:\n\u001b[0;32m--> 217\u001b[0m     \u001b[38;5;28;01mraise\u001b[39;00m \u001b[38;5;167;01mAttributeError\u001b[39;00m(\u001b[38;5;124m\"\u001b[39m\u001b[38;5;124mCan only use .str accessor with string values!\u001b[39m\u001b[38;5;124m\"\u001b[39m)\n\u001b[1;32m    218\u001b[0m \u001b[38;5;28;01mreturn\u001b[39;00m inferred_dtype\n",
            "\u001b[0;31mAttributeError\u001b[0m: Can only use .str accessor with string values!"
          ]
        }
      ],
      "execution_count": null,
      "block_group": "80daff2261174a549fcf24f0f4daf0e4"
    },
    {
      "cell_type": "code",
      "source": "columnas= qatar_origin_df.columns",
      "metadata": {
        "source_hash": null,
        "execution_start": 1694883652794,
        "execution_millis": 6,
        "deepnote_to_be_reexecuted": false,
        "cell_id": "64227ed935044d989b84ea058444218a",
        "deepnote_cell_type": "code"
      },
      "outputs": [
        {
          "output_type": "execute_result",
          "execution_count": 8,
          "data": {
            "text/plain": "Index(['team1', 'team2', 'possession team1', 'possession team2',\n       'possession in contest', 'number of goals team1',\n       'number of goals team2', 'date', 'hour', 'category',\n       'total attempts team1', 'total attempts team2', 'conceded team1',\n       'conceded team2', 'goal inside the penalty area team1',\n       'goal inside the penalty area team2',\n       'goal outside the penalty area team1',\n       'goal outside the penalty area team2', 'assists team1', 'assists team2',\n       'on target attempts team1', 'on target attempts team2',\n       'off target attempts team1', 'off target attempts team2',\n       'attempts inside the penalty area team1',\n       'attempts inside the penalty area  team2',\n       'attempts outside the penalty area  team1',\n       'attempts outside the penalty area  team2', 'left channel team1',\n       'left channel team2', 'left inside channel team1',\n       'left inside channel team2', 'central channel team1',\n       'central channel team2', 'right inside channel team1',\n       'right inside channel team2', 'right channel team1',\n       'right channel team2', 'total offers to receive team1',\n       'total offers to receive team2', 'inbehind offers to receive team1',\n       'inbehind offers to receive team2', 'inbetween offers to receive team1',\n       'inbetween offers to receive team2', 'infront offers to receive team1',\n       'infront offers to receive team2',\n       'receptions between midfield and defensive lines team1',\n       'receptions between midfield and defensive lines team2',\n       'attempted line breaks team1', 'attempted line breaks team2',\n       'completed line breaksteam1', 'completed line breaks team2',\n       'attempted defensive line breaks team1',\n       'attempted defensive line breaks team2',\n       'completed defensive line breaksteam1',\n       'completed defensive line breaks team2', 'yellow cards team1',\n       'yellow cards team2', 'red cards team1', 'red cards team2',\n       'fouls against team1', 'fouls against team2', 'offsides team1',\n       'offsides team2', 'passes team1', 'passes team2',\n       'passes completed team1', 'passes completed team2', 'crosses team1',\n       'crosses team2', 'crosses completed team1', 'crosses completed team2',\n       'switches of play completed team1', 'switches of play completed team2',\n       'corners team1', 'corners team2', 'free kicks team1',\n       'free kicks team2', 'penalties scored team1', 'penalties scored team2',\n       'goal preventions team1', 'goal preventions team2', 'own goals team1',\n       'own goals team2', 'forced turnovers team1', 'forced turnovers team2',\n       'defensive pressures applied team1',\n       'defensive pressures applied team2'],\n      dtype='object')"
          },
          "metadata": {}
        }
      ],
      "execution_count": null,
      "block_group": "39bd26e1025c4fd6a444ea66a3eb25ac"
    },
    {
      "cell_type": "code",
      "source": "filter1 = []\nfilter2 = []\n\nfor columna in columnas:\n\n    if 'team1' in columna:\n        filter1.append(columna)\n\n    elif 'team2' in columna:\n        filter2.append(columna)\n    else:\n        \n        pass",
      "metadata": {
        "source_hash": null,
        "execution_start": 1694883660670,
        "execution_millis": 6,
        "deepnote_table_state": {
          "sortBy": [],
          "filters": [],
          "pageSize": 10,
          "pageIndex": 12
        },
        "deepnote_table_loading": false,
        "deepnote_to_be_reexecuted": false,
        "cell_id": "ea9ba4e478ed42c7a9a6427d6ac9201c",
        "deepnote_cell_type": "code"
      },
      "outputs": [
        {
          "name": "stdout",
          "text": "team1\npossession team1\nnumber of goals team1\ntotal attempts team1\nconceded team1\ngoal inside the penalty area team1\ngoal outside the penalty area team1\nassists team1\non target attempts team1\noff target attempts team1\nattempts inside the penalty area team1\nattempts outside the penalty area  team1\nleft channel team1\nleft inside channel team1\ncentral channel team1\nright inside channel team1\nright channel team1\ntotal offers to receive team1\ninbehind offers to receive team1\ninbetween offers to receive team1\ninfront offers to receive team1\nreceptions between midfield and defensive lines team1\nattempted line breaks team1\ncompleted line breaksteam1\nattempted defensive line breaks team1\ncompleted defensive line breaksteam1\nyellow cards team1\nred cards team1\nfouls against team1\noffsides team1\npasses team1\npasses completed team1\ncrosses team1\ncrosses completed team1\nswitches of play completed team1\ncorners team1\nfree kicks team1\npenalties scored team1\ngoal preventions team1\nown goals team1\nforced turnovers team1\ndefensive pressures applied team1\n",
          "output_type": "stream"
        }
      ],
      "execution_count": null,
      "block_group": "dc53767b2cd241409b96477944daa96d"
    },
    {
      "cell_type": "code",
      "source": "team1_df = qatar_origin_df.drop(columns= filter2)\nteam2_df = qatar_origin_df.drop(columns= filter1)\n\nnames = [elemento.replace(' team1', '') for elemento in team1_df.columns]\nnames = [elemento.replace('1', '') for elemento in names]\n\nprint(names)\nteam1_df.columns= names\nteam2_df.columns= names\nprint(team1_df.shape, team2_df.shape, team1_df.columns, team2_df.columns)\n",
      "metadata": {
        "source_hash": null,
        "execution_start": 1694883672344,
        "execution_millis": 258,
        "deepnote_table_state": {
          "sortBy": [],
          "filters": [],
          "pageSize": 100,
          "pageIndex": 0
        },
        "deepnote_table_loading": false,
        "deepnote_to_be_reexecuted": false,
        "cell_id": "690f97c1e2b84acb8bd0063463bd1136",
        "deepnote_cell_type": "code"
      },
      "outputs": [
        {
          "name": "stdout",
          "text": "['team', 'possession', 'possession in contest', 'number of goals', 'date', 'hour', 'category', 'total attempts', 'conceded', 'goal inside the penalty area', 'goal outside the penalty area', 'assists', 'on target attempts', 'off target attempts', 'attempts inside the penalty area', 'attempts outside the penalty area ', 'left channel', 'left inside channel', 'central channel', 'right inside channel', 'right channel', 'total offers to receive', 'inbehind offers to receive', 'inbetween offers to receive', 'infront offers to receive', 'receptions between midfield and defensive lines', 'attempted line breaks', 'completed line breaksteam', 'attempted defensive line breaks', 'completed defensive line breaksteam', 'yellow cards', 'red cards', 'fouls against', 'offsides', 'passes', 'passes completed', 'crosses', 'crosses completed', 'switches of play completed', 'corners', 'free kicks', 'penalties scored', 'goal preventions', 'own goals', 'forced turnovers', 'defensive pressures applied']\n(64, 46) (64, 46) Index(['team', 'possession', 'possession in contest', 'number of goals',\n       'date', 'hour', 'category', 'total attempts', 'conceded',\n       'goal inside the penalty area', 'goal outside the penalty area',\n       'assists', 'on target attempts', 'off target attempts',\n       'attempts inside the penalty area',\n       'attempts outside the penalty area ', 'left channel',\n       'left inside channel', 'central channel', 'right inside channel',\n       'right channel', 'total offers to receive',\n       'inbehind offers to receive', 'inbetween offers to receive',\n       'infront offers to receive',\n       'receptions between midfield and defensive lines',\n       'attempted line breaks', 'completed line breaksteam',\n       'attempted defensive line breaks',\n       'completed defensive line breaksteam', 'yellow cards', 'red cards',\n       'fouls against', 'offsides', 'passes', 'passes completed', 'crosses',\n       'crosses completed', 'switches of play completed', 'corners',\n       'free kicks', 'penalties scored', 'goal preventions', 'own goals',\n       'forced turnovers', 'defensive pressures applied'],\n      dtype='object') Index(['team', 'possession', 'possession in contest', 'number of goals',\n       'date', 'hour', 'category', 'total attempts', 'conceded',\n       'goal inside the penalty area', 'goal outside the penalty area',\n       'assists', 'on target attempts', 'off target attempts',\n       'attempts inside the penalty area',\n       'attempts outside the penalty area ', 'left channel',\n       'left inside channel', 'central channel', 'right inside channel',\n       'right channel', 'total offers to receive',\n       'inbehind offers to receive', 'inbetween offers to receive',\n       'infront offers to receive',\n       'receptions between midfield and defensive lines',\n       'attempted line breaks', 'completed line breaksteam',\n       'attempted defensive line breaks',\n       'completed defensive line breaksteam', 'yellow cards', 'red cards',\n       'fouls against', 'offsides', 'passes', 'passes completed', 'crosses',\n       'crosses completed', 'switches of play completed', 'corners',\n       'free kicks', 'penalties scored', 'goal preventions', 'own goals',\n       'forced turnovers', 'defensive pressures applied'],\n      dtype='object')\n",
          "output_type": "stream"
        }
      ],
      "execution_count": null,
      "block_group": "b90eb772bb3540e183479b7957c28614"
    },
    {
      "cell_type": "code",
      "source": "qatar_teams= pd.concat([team1_df,team2_df], axis= 0)\n\n",
      "metadata": {
        "source_hash": null,
        "execution_start": 1694884298261,
        "execution_millis": 7,
        "deepnote_to_be_reexecuted": false,
        "cell_id": "e27c67ff196441b5a875e523dd6253e3",
        "deepnote_cell_type": "code"
      },
      "outputs": [
        {
          "output_type": "error",
          "ename": "KeyError",
          "evalue": "'Argentina'",
          "traceback": [
            "\u001b[0;31m---------------------------------------------------------------------------\u001b[0m",
            "\u001b[0;31mKeyError\u001b[0m                                  Traceback (most recent call last)",
            "Cell \u001b[0;32mIn [23], line 4\u001b[0m\n\u001b[1;32m      1\u001b[0m qatar_teams\u001b[38;5;241m=\u001b[39m pd\u001b[38;5;241m.\u001b[39mconcat([team1_df,team2_df], axis\u001b[38;5;241m=\u001b[39m \u001b[38;5;241m0\u001b[39m)\n\u001b[1;32m      2\u001b[0m qatar_teams_grouped \u001b[38;5;241m=\u001b[39m qatar_teams\u001b[38;5;241m.\u001b[39mgroupby(\u001b[38;5;124m'\u001b[39m\u001b[38;5;124mteam\u001b[39m\u001b[38;5;124m'\u001b[39m)\n\u001b[0;32m----> 4\u001b[0m \u001b[38;5;28mprint\u001b[39m(\u001b[43mqatar_teams_grouped\u001b[49m\u001b[38;5;241;43m.\u001b[39;49m\u001b[43mget_group\u001b[49m\u001b[43m(\u001b[49m\u001b[38;5;124;43m\"\u001b[39;49m\u001b[38;5;124;43mArgentina\u001b[39;49m\u001b[38;5;124;43m\"\u001b[39;49m\u001b[43m)\u001b[49m\u001b[38;5;241m.\u001b[39mhead())\n",
            "File \u001b[0;32m/shared-libs/python3.9/py/lib/python3.9/site-packages/pandas/core/groupby/groupby.py:845\u001b[0m, in \u001b[0;36mBaseGroupBy.get_group\u001b[0;34m(self, name, obj)\u001b[0m\n\u001b[1;32m    843\u001b[0m inds \u001b[38;5;241m=\u001b[39m \u001b[38;5;28mself\u001b[39m\u001b[38;5;241m.\u001b[39m_get_index(name)\n\u001b[1;32m    844\u001b[0m \u001b[38;5;28;01mif\u001b[39;00m \u001b[38;5;129;01mnot\u001b[39;00m \u001b[38;5;28mlen\u001b[39m(inds):\n\u001b[0;32m--> 845\u001b[0m     \u001b[38;5;28;01mraise\u001b[39;00m \u001b[38;5;167;01mKeyError\u001b[39;00m(name)\n\u001b[1;32m    847\u001b[0m \u001b[38;5;28;01mreturn\u001b[39;00m obj\u001b[38;5;241m.\u001b[39m_take_with_is_copy(inds, axis\u001b[38;5;241m=\u001b[39m\u001b[38;5;28mself\u001b[39m\u001b[38;5;241m.\u001b[39maxis)\n",
            "\u001b[0;31mKeyError\u001b[0m: 'Argentina'"
          ]
        }
      ],
      "execution_count": null,
      "block_group": "40a11a787dc04d3087e8d75c88a56c05"
    },
    {
      "cell_type": "code",
      "source": "qatar_teams_grouped = qatar_teams.groupby('team')\n\n\nqatar_teams_grouped = qatar_teams.groupby('team').agg({'number of goals': 'sum',\n                                                            'number of goals': 'avg'\n                                                            'goal outside the penalty area': 'sum', \n                                                            'goal inside the penalty area': 'sum',\n                                                            'possession': 'mean',\n                                                            })\n\nqatar_teams_grouped = qatar_teams_grouped.reset_index()\nqatar_teams_grouped",
      "metadata": {
        "source_hash": null,
        "execution_start": 1694884533040,
        "execution_millis": 324,
        "deepnote_table_state": {
          "sortBy": [
            {
              "id": "number of goals",
              "type": "desc"
            }
          ],
          "filters": [],
          "pageSize": 10,
          "pageIndex": 0
        },
        "deepnote_table_loading": false,
        "deepnote_to_be_reexecuted": false,
        "cell_id": "914caeb368ee4d3794d348bb9c19ef97",
        "deepnote_cell_type": "code"
      },
      "outputs": [
        {
          "output_type": "execute_result",
          "execution_count": 27,
          "data": {
            "application/vnd.deepnote.dataframe.v3+json": {
              "column_count": 5,
              "row_count": 32,
              "columns": [
                {
                  "name": "team",
                  "dtype": "object",
                  "stats": {
                    "unique_count": 32,
                    "nan_count": 0,
                    "categories": [
                      {
                        "name": "ARGENTINA",
                        "count": 1
                      },
                      {
                        "name": "AUSTRALIA",
                        "count": 1
                      },
                      {
                        "name": "30 others",
                        "count": 30
                      }
                    ]
                  }
                },
                {
                  "name": "number of goals",
                  "dtype": "int64",
                  "stats": {
                    "unique_count": 13,
                    "nan_count": 0,
                    "min": "1",
                    "max": "16",
                    "histogram": [
                      {
                        "bin_start": 1,
                        "bin_end": 2.5,
                        "count": 8
                      },
                      {
                        "bin_start": 2.5,
                        "bin_end": 4,
                        "count": 4
                      },
                      {
                        "bin_start": 4,
                        "bin_end": 5.5,
                        "count": 10
                      },
                      {
                        "bin_start": 5.5,
                        "bin_end": 7,
                        "count": 2
                      },
                      {
                        "bin_start": 7,
                        "bin_end": 8.5,
                        "count": 2
                      },
                      {
                        "bin_start": 8.5,
                        "bin_end": 10,
                        "count": 1
                      },
                      {
                        "bin_start": 10,
                        "bin_end": 11.5,
                        "count": 1
                      },
                      {
                        "bin_start": 11.5,
                        "bin_end": 13,
                        "count": 1
                      },
                      {
                        "bin_start": 13,
                        "bin_end": 14.5,
                        "count": 1
                      },
                      {
                        "bin_start": 14.5,
                        "bin_end": 16,
                        "count": 2
                      }
                    ]
                  }
                },
                {
                  "name": "goal outside the penalty area",
                  "dtype": "int64",
                  "stats": {
                    "unique_count": 2,
                    "nan_count": 0,
                    "min": "0",
                    "max": "1",
                    "histogram": [
                      {
                        "bin_start": 0,
                        "bin_end": 0.1,
                        "count": 19
                      },
                      {
                        "bin_start": 0.1,
                        "bin_end": 0.2,
                        "count": 0
                      },
                      {
                        "bin_start": 0.2,
                        "bin_end": 0.30000000000000004,
                        "count": 0
                      },
                      {
                        "bin_start": 0.30000000000000004,
                        "bin_end": 0.4,
                        "count": 0
                      },
                      {
                        "bin_start": 0.4,
                        "bin_end": 0.5,
                        "count": 0
                      },
                      {
                        "bin_start": 0.5,
                        "bin_end": 0.6000000000000001,
                        "count": 0
                      },
                      {
                        "bin_start": 0.6000000000000001,
                        "bin_end": 0.7000000000000001,
                        "count": 0
                      },
                      {
                        "bin_start": 0.7000000000000001,
                        "bin_end": 0.8,
                        "count": 0
                      },
                      {
                        "bin_start": 0.8,
                        "bin_end": 0.9,
                        "count": 0
                      },
                      {
                        "bin_start": 0.9,
                        "bin_end": 1,
                        "count": 13
                      }
                    ]
                  }
                },
                {
                  "name": "possession",
                  "dtype": "float64",
                  "stats": {
                    "unique_count": 30,
                    "nan_count": 0,
                    "min": "0.27666666666666667",
                    "max": "0.6900000000000001",
                    "histogram": [
                      {
                        "bin_start": 0.27666666666666667,
                        "bin_end": 0.318,
                        "count": 5
                      },
                      {
                        "bin_start": 0.318,
                        "bin_end": 0.35933333333333334,
                        "count": 1
                      },
                      {
                        "bin_start": 0.35933333333333334,
                        "bin_end": 0.4006666666666667,
                        "count": 5
                      },
                      {
                        "bin_start": 0.4006666666666667,
                        "bin_end": 0.44200000000000006,
                        "count": 6
                      },
                      {
                        "bin_start": 0.44200000000000006,
                        "bin_end": 0.4833333333333334,
                        "count": 6
                      },
                      {
                        "bin_start": 0.4833333333333334,
                        "bin_end": 0.5246666666666667,
                        "count": 4
                      },
                      {
                        "bin_start": 0.5246666666666667,
                        "bin_end": 0.5660000000000001,
                        "count": 3
                      },
                      {
                        "bin_start": 0.5660000000000001,
                        "bin_end": 0.6073333333333334,
                        "count": 1
                      },
                      {
                        "bin_start": 0.6073333333333334,
                        "bin_end": 0.6486666666666667,
                        "count": 0
                      },
                      {
                        "bin_start": 0.6486666666666667,
                        "bin_end": 0.6900000000000001,
                        "count": 1
                      }
                    ]
                  }
                },
                {
                  "name": "goal inside the penalty area",
                  "dtype": "int64",
                  "stats": {
                    "unique_count": 14,
                    "nan_count": 0,
                    "min": "0",
                    "max": "15",
                    "histogram": [
                      {
                        "bin_start": 0,
                        "bin_end": 1.5,
                        "count": 7
                      },
                      {
                        "bin_start": 1.5,
                        "bin_end": 3,
                        "count": 1
                      },
                      {
                        "bin_start": 3,
                        "bin_end": 4.5,
                        "count": 11
                      },
                      {
                        "bin_start": 4.5,
                        "bin_end": 6,
                        "count": 4
                      },
                      {
                        "bin_start": 6,
                        "bin_end": 7.5,
                        "count": 2
                      },
                      {
                        "bin_start": 7.5,
                        "bin_end": 9,
                        "count": 1
                      },
                      {
                        "bin_start": 9,
                        "bin_end": 10.5,
                        "count": 2
                      },
                      {
                        "bin_start": 10.5,
                        "bin_end": 12,
                        "count": 1
                      },
                      {
                        "bin_start": 12,
                        "bin_end": 13.5,
                        "count": 1
                      },
                      {
                        "bin_start": 13.5,
                        "bin_end": 15,
                        "count": 2
                      }
                    ]
                  }
                },
                {
                  "name": "_deepnote_index_column",
                  "dtype": "int64"
                }
              ],
              "rows": [
                {
                  "team": "ARGENTINA",
                  "number of goals": 15,
                  "goal outside the penalty area": 1,
                  "possession": 0.5114285714285715,
                  "goal inside the penalty area": 14,
                  "_deepnote_index_column": 0
                },
                {
                  "team": "AUSTRALIA",
                  "number of goals": 4,
                  "goal outside the penalty area": 0,
                  "possession": 0.3125,
                  "goal inside the penalty area": 3,
                  "_deepnote_index_column": 1
                },
                {
                  "team": "BELGIUM",
                  "number of goals": 1,
                  "goal outside the penalty area": 0,
                  "possession": 0.49666666666666665,
                  "goal inside the penalty area": 1,
                  "_deepnote_index_column": 2
                },
                {
                  "team": "BRAZIL",
                  "number of goals": 8,
                  "goal outside the penalty area": 0,
                  "possession": 0.5040000000000001,
                  "goal inside the penalty area": 8,
                  "_deepnote_index_column": 3
                },
                {
                  "team": "CAMEROON",
                  "number of goals": 4,
                  "goal outside the penalty area": 0,
                  "possession": 0.3833333333333333,
                  "goal inside the penalty area": 4,
                  "_deepnote_index_column": 4
                },
                {
                  "team": "CANADA",
                  "number of goals": 2,
                  "goal outside the penalty area": 0,
                  "possession": 0.47,
                  "goal inside the penalty area": 1,
                  "_deepnote_index_column": 5
                },
                {
                  "team": "COSTA RICA",
                  "number of goals": 3,
                  "goal outside the penalty area": 0,
                  "possession": 0.27666666666666667,
                  "goal inside the penalty area": 3,
                  "_deepnote_index_column": 6
                },
                {
                  "team": "CROATIA",
                  "number of goals": 8,
                  "goal outside the penalty area": 1,
                  "possession": 0.48000000000000004,
                  "goal inside the penalty area": 7,
                  "_deepnote_index_column": 7
                },
                {
                  "team": "DENMARK",
                  "number of goals": 1,
                  "goal outside the penalty area": 0,
                  "possession": 0.5299999999999999,
                  "goal inside the penalty area": 1,
                  "_deepnote_index_column": 8
                },
                {
                  "team": "ECUADOR",
                  "number of goals": 4,
                  "goal outside the penalty area": 0,
                  "possession": 0.4666666666666666,
                  "goal inside the penalty area": 4,
                  "_deepnote_index_column": 9
                }
              ]
            },
            "text/plain": "              team  number of goals  goal outside the penalty area  \\\n0        ARGENTINA               15                              1   \n1        AUSTRALIA                4                              0   \n2          BELGIUM                1                              0   \n3           BRAZIL                8                              0   \n4         CAMEROON                4                              0   \n5           CANADA                2                              0   \n6       COSTA RICA                3                              0   \n7          CROATIA                8                              1   \n8          DENMARK                1                              0   \n9          ECUADOR                4                              0   \n10         ENGLAND               13                              1   \n11          FRANCE               16                              1   \n12         GERMANY                6                              0   \n13           GHANA                5                              0   \n14            IRAN                4                              1   \n15           JAPAN                5                              1   \n16  KOREA REPUBLIC                5                              1   \n17          MEXICO                2                              1   \n18         MOROCCO                6                              1   \n19     NETHERLANDS               10                              1   \n20          POLAND                3                              0   \n21        PORTUGAL               12                              1   \n22           QATAR                1                              0   \n23    SAUDI ARABIA                3                              0   \n24         SENEGAL                5                              0   \n25          SERBIA                5                              1   \n26           SPAIN                9                              0   \n27     SWITZERLAND                5                              0   \n28         TUNISIA                1                              1   \n29   UNITED STATES                3                              0   \n30         URUGUAY                2                              0   \n31           WALES                1                              0   \n\n    possession  goal inside the penalty area  \n0     0.511429                            14  \n1     0.312500                             3  \n2     0.496667                             1  \n3     0.504000                             8  \n4     0.383333                             4  \n5     0.470000                             1  \n6     0.276667                             3  \n7     0.480000                             7  \n8     0.530000                             1  \n9     0.466667                             4  \n10    0.578000                            12  \n11    0.448571                            15  \n12    0.526667                             6  \n13    0.376667                             5  \n14    0.313333                             3  \n15    0.297500                             4  \n16    0.422500                             4  \n17    0.483333                             1  \n18    0.348571                             5  \n19    0.450000                             9  \n20    0.317500                             3  \n21    0.542000                            11  \n22    0.406667                             1  \n23    0.366667                             3  \n24    0.397500                             5  \n25    0.426667                             4  \n26    0.690000                             9  \n27    0.430000                             5  \n28    0.376667                             0  \n29    0.475000                             3  \n30    0.410000                             2  \n31    0.410000                             1  ",
            "text/html": "<div>\n<style scoped>\n    .dataframe tbody tr th:only-of-type {\n        vertical-align: middle;\n    }\n\n    .dataframe tbody tr th {\n        vertical-align: top;\n    }\n\n    .dataframe thead th {\n        text-align: right;\n    }\n</style>\n<table border=\"1\" class=\"dataframe\">\n  <thead>\n    <tr style=\"text-align: right;\">\n      <th></th>\n      <th>team</th>\n      <th>number of goals</th>\n      <th>goal outside the penalty area</th>\n      <th>possession</th>\n      <th>goal inside the penalty area</th>\n    </tr>\n  </thead>\n  <tbody>\n    <tr>\n      <th>0</th>\n      <td>ARGENTINA</td>\n      <td>15</td>\n      <td>1</td>\n      <td>0.511429</td>\n      <td>14</td>\n    </tr>\n    <tr>\n      <th>1</th>\n      <td>AUSTRALIA</td>\n      <td>4</td>\n      <td>0</td>\n      <td>0.312500</td>\n      <td>3</td>\n    </tr>\n    <tr>\n      <th>2</th>\n      <td>BELGIUM</td>\n      <td>1</td>\n      <td>0</td>\n      <td>0.496667</td>\n      <td>1</td>\n    </tr>\n    <tr>\n      <th>3</th>\n      <td>BRAZIL</td>\n      <td>8</td>\n      <td>0</td>\n      <td>0.504000</td>\n      <td>8</td>\n    </tr>\n    <tr>\n      <th>4</th>\n      <td>CAMEROON</td>\n      <td>4</td>\n      <td>0</td>\n      <td>0.383333</td>\n      <td>4</td>\n    </tr>\n    <tr>\n      <th>5</th>\n      <td>CANADA</td>\n      <td>2</td>\n      <td>0</td>\n      <td>0.470000</td>\n      <td>1</td>\n    </tr>\n    <tr>\n      <th>6</th>\n      <td>COSTA RICA</td>\n      <td>3</td>\n      <td>0</td>\n      <td>0.276667</td>\n      <td>3</td>\n    </tr>\n    <tr>\n      <th>7</th>\n      <td>CROATIA</td>\n      <td>8</td>\n      <td>1</td>\n      <td>0.480000</td>\n      <td>7</td>\n    </tr>\n    <tr>\n      <th>8</th>\n      <td>DENMARK</td>\n      <td>1</td>\n      <td>0</td>\n      <td>0.530000</td>\n      <td>1</td>\n    </tr>\n    <tr>\n      <th>9</th>\n      <td>ECUADOR</td>\n      <td>4</td>\n      <td>0</td>\n      <td>0.466667</td>\n      <td>4</td>\n    </tr>\n    <tr>\n      <th>10</th>\n      <td>ENGLAND</td>\n      <td>13</td>\n      <td>1</td>\n      <td>0.578000</td>\n      <td>12</td>\n    </tr>\n    <tr>\n      <th>11</th>\n      <td>FRANCE</td>\n      <td>16</td>\n      <td>1</td>\n      <td>0.448571</td>\n      <td>15</td>\n    </tr>\n    <tr>\n      <th>12</th>\n      <td>GERMANY</td>\n      <td>6</td>\n      <td>0</td>\n      <td>0.526667</td>\n      <td>6</td>\n    </tr>\n    <tr>\n      <th>13</th>\n      <td>GHANA</td>\n      <td>5</td>\n      <td>0</td>\n      <td>0.376667</td>\n      <td>5</td>\n    </tr>\n    <tr>\n      <th>14</th>\n      <td>IRAN</td>\n      <td>4</td>\n      <td>1</td>\n      <td>0.313333</td>\n      <td>3</td>\n    </tr>\n    <tr>\n      <th>15</th>\n      <td>JAPAN</td>\n      <td>5</td>\n      <td>1</td>\n      <td>0.297500</td>\n      <td>4</td>\n    </tr>\n    <tr>\n      <th>16</th>\n      <td>KOREA REPUBLIC</td>\n      <td>5</td>\n      <td>1</td>\n      <td>0.422500</td>\n      <td>4</td>\n    </tr>\n    <tr>\n      <th>17</th>\n      <td>MEXICO</td>\n      <td>2</td>\n      <td>1</td>\n      <td>0.483333</td>\n      <td>1</td>\n    </tr>\n    <tr>\n      <th>18</th>\n      <td>MOROCCO</td>\n      <td>6</td>\n      <td>1</td>\n      <td>0.348571</td>\n      <td>5</td>\n    </tr>\n    <tr>\n      <th>19</th>\n      <td>NETHERLANDS</td>\n      <td>10</td>\n      <td>1</td>\n      <td>0.450000</td>\n      <td>9</td>\n    </tr>\n    <tr>\n      <th>20</th>\n      <td>POLAND</td>\n      <td>3</td>\n      <td>0</td>\n      <td>0.317500</td>\n      <td>3</td>\n    </tr>\n    <tr>\n      <th>21</th>\n      <td>PORTUGAL</td>\n      <td>12</td>\n      <td>1</td>\n      <td>0.542000</td>\n      <td>11</td>\n    </tr>\n    <tr>\n      <th>22</th>\n      <td>QATAR</td>\n      <td>1</td>\n      <td>0</td>\n      <td>0.406667</td>\n      <td>1</td>\n    </tr>\n    <tr>\n      <th>23</th>\n      <td>SAUDI ARABIA</td>\n      <td>3</td>\n      <td>0</td>\n      <td>0.366667</td>\n      <td>3</td>\n    </tr>\n    <tr>\n      <th>24</th>\n      <td>SENEGAL</td>\n      <td>5</td>\n      <td>0</td>\n      <td>0.397500</td>\n      <td>5</td>\n    </tr>\n    <tr>\n      <th>25</th>\n      <td>SERBIA</td>\n      <td>5</td>\n      <td>1</td>\n      <td>0.426667</td>\n      <td>4</td>\n    </tr>\n    <tr>\n      <th>26</th>\n      <td>SPAIN</td>\n      <td>9</td>\n      <td>0</td>\n      <td>0.690000</td>\n      <td>9</td>\n    </tr>\n    <tr>\n      <th>27</th>\n      <td>SWITZERLAND</td>\n      <td>5</td>\n      <td>0</td>\n      <td>0.430000</td>\n      <td>5</td>\n    </tr>\n    <tr>\n      <th>28</th>\n      <td>TUNISIA</td>\n      <td>1</td>\n      <td>1</td>\n      <td>0.376667</td>\n      <td>0</td>\n    </tr>\n    <tr>\n      <th>29</th>\n      <td>UNITED STATES</td>\n      <td>3</td>\n      <td>0</td>\n      <td>0.475000</td>\n      <td>3</td>\n    </tr>\n    <tr>\n      <th>30</th>\n      <td>URUGUAY</td>\n      <td>2</td>\n      <td>0</td>\n      <td>0.410000</td>\n      <td>2</td>\n    </tr>\n    <tr>\n      <th>31</th>\n      <td>WALES</td>\n      <td>1</td>\n      <td>0</td>\n      <td>0.410000</td>\n      <td>1</td>\n    </tr>\n  </tbody>\n</table>\n</div>"
          },
          "metadata": {}
        }
      ],
      "execution_count": null,
      "block_group": "1752c10135824e70bcc4f6c9048bb08b"
    },
    {
      "cell_type": "markdown",
      "source": "<a style='text-decoration:none;line-height:16px;display:flex;color:#5B5B62;padding:10px;justify-content:end;' href='https://deepnote.com?utm_source=created-in-deepnote-cell&projectId=8483ee88-cd2c-4814-9154-7d76d7408f8c' target=\"_blank\">\n<img alt='Created in deepnote.com' style='display:inline;max-height:16px;margin:0px;margin-right:7.5px;' src='data:image/svg+xml;base64,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' > </img>\nCreated in <span style='font-weight:600;margin-left:4px;'>Deepnote</span></a>",
      "metadata": {
        "created_in_deepnote_cell": true,
        "deepnote_cell_type": "markdown"
      }
    }
  ],
  "nbformat": 4,
  "nbformat_minor": 0,
  "metadata": {
    "deepnote": {},
    "orig_nbformat": 2,
    "deepnote_notebook_id": "d19c7a085cdb44e19de53b671d85d45b",
    "deepnote_execution_queue": []
  }
}